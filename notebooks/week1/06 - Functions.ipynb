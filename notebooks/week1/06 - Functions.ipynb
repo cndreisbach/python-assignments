{
 "metadata": {
  "name": "",
  "signature": "sha256:ee95642dc994ff02113169213eed1dc8f79ee121ccc0782cf1650a1600bf5d3f"
 },
 "nbformat": 3,
 "nbformat_minor": 0,
 "worksheets": [
  {
   "cells": [
    {
     "cell_type": "heading",
     "level": 1,
     "metadata": {},
     "source": [
      "Functions"
     ]
    },
    {
     "cell_type": "markdown",
     "metadata": {},
     "source": [
      "Functions are ways to take code and turn it into a reusable template."
     ]
    },
    {
     "cell_type": "code",
     "collapsed": false,
     "input": [
      "radius = 2\n",
      "pi = 3.14159\n",
      "circumference = radius * 2 * pi\n",
      "print(circumference)"
     ],
     "language": "python",
     "metadata": {},
     "outputs": [
      {
       "output_type": "stream",
       "stream": "stdout",
       "text": [
        "12.56636\n"
       ]
      }
     ],
     "prompt_number": 7
    },
    {
     "cell_type": "code",
     "collapsed": false,
     "input": [
      "def circumference(radius):\n",
      "    \"\"\"Given the radius of a circle, return the circumference.\"\"\"\n",
      "    return radius * 2 * pi\n",
      "\n",
      "print(circumference(2))\n",
      "print(circumference(3))"
     ],
     "language": "python",
     "metadata": {},
     "outputs": [
      {
       "output_type": "stream",
       "stream": "stdout",
       "text": [
        "12.56636\n",
        "18.849539999999998\n"
       ]
      }
     ],
     "prompt_number": 21
    },
    {
     "cell_type": "markdown",
     "metadata": {},
     "source": [
      "Functions have a name, _parameters_, a _docstring_, and a _return value_. Parameters are in parentheses after the name. You can think of them as the blank spots in the template. Their values get filled in when the function is later called. There can be more than one parameter.\n",
      "\n",
      "The return value is defined by using the `return` keyword. It is the value that the function will return when called."
     ]
    },
    {
     "cell_type": "code",
     "collapsed": false,
     "input": [
      "def rectangle_area(width, height):\n",
      "    \"\"\"Given the width and height of a rectangle, return the area.\"\"\"\n",
      "    return width * height\n",
      "\n",
      "print(rectangle_area(5, 8))"
     ],
     "language": "python",
     "metadata": {},
     "outputs": [
      {
       "output_type": "stream",
       "stream": "stdout",
       "text": [
        "40\n"
       ]
      }
     ],
     "prompt_number": 22
    },
    {
     "cell_type": "markdown",
     "metadata": {},
     "source": [
      "When you call a function, the values you give it are called _arguments_. You can specify them in order, like we just did, or by name."
     ]
    },
    {
     "cell_type": "code",
     "collapsed": false,
     "input": [
      "print(rectangle_area(height=8, width=5))"
     ],
     "language": "python",
     "metadata": {},
     "outputs": [
      {
       "output_type": "stream",
       "stream": "stdout",
       "text": [
        "40\n"
       ]
      }
     ],
     "prompt_number": 10
    },
    {
     "cell_type": "markdown",
     "metadata": {},
     "source": [
      "Functions can call other functions."
     ]
    },
    {
     "cell_type": "code",
     "collapsed": false,
     "input": [
      "def square_area(length):\n",
      "    \"\"\"Returns the area of a square given the length of one side.\"\"\"\n",
      "    return rectangle_area(length, length)\n",
      "\n",
      "print(square_area(9))"
     ],
     "language": "python",
     "metadata": {},
     "outputs": [
      {
       "output_type": "stream",
       "stream": "stdout",
       "text": [
        "81\n"
       ]
      }
     ],
     "prompt_number": 23
    },
    {
     "cell_type": "markdown",
     "metadata": {},
     "source": [
      "Functions can have _default arguments_."
     ]
    },
    {
     "cell_type": "code",
     "collapsed": false,
     "input": [
      "def inc(number, amount=1):\n",
      "    \"\"\"Increments the number.\n",
      "    \n",
      "    Keyword arguments:\n",
      "    number -- the number to increment\n",
      "    amount -- the amount to increment (default 1)\n",
      "    \"\"\"\n",
      "    return number + amount\n",
      "\n",
      "print(inc(10))\n",
      "print(inc(10, amount=5))"
     ],
     "language": "python",
     "metadata": {},
     "outputs": [
      {
       "output_type": "stream",
       "stream": "stdout",
       "text": [
        "11\n",
        "15\n"
       ]
      }
     ],
     "prompt_number": 24
    },
    {
     "cell_type": "markdown",
     "metadata": {},
     "source": [
      "Functions can be made of multiple lines, of course."
     ]
    },
    {
     "cell_type": "code",
     "collapsed": false,
     "input": [
      "def name(first, last, middle=None, last_name_first=False):\n",
      "    \"\"\"Returns the name of a person. \n",
      "    First and last name are required. The middle name is not. If the middle name\n",
      "    is one character, it is assumed to be an initial and a period will be added.\n",
      "    \n",
      "    Keyword arguments:\n",
      "    first -- the first name\n",
      "    last -- the last name\n",
      "    middle -- middle name or initial (default None)\n",
      "    last_name_first -- do you want the last name printed first? (default False)\n",
      "    \"\"\"\n",
      "    if middle is not None:\n",
      "        if len(middle) == 1:\n",
      "            middle = middle + \".\"\n",
      "\n",
      "        first_part = \"{} {}\".format(first, middle)\n",
      "    else:\n",
      "        first_part = first\n",
      "        \n",
      "    if last_name_first:\n",
      "        return \"{}, {}\".format(last, first_part)\n",
      "    else:\n",
      "        return \"{} {}\".format(first_part, last)\n",
      "    \n",
      "print(name(first=\"Carter\", last=\"Nelson\"))\n",
      "print(name(first=\"Carter\", last=\"Nelson\", middle=\"P\"))\n",
      "print(name(first=\"Carter\", last=\"Nelson\", middle=\"Phoenix\"))\n",
      "print(name(first=\"Carter\", last=\"Nelson\", middle=\"P\", last_name_first=True))\n",
      "        "
     ],
     "language": "python",
     "metadata": {},
     "outputs": [
      {
       "output_type": "stream",
       "stream": "stdout",
       "text": [
        "Carter Nelson\n",
        "Carter P. Nelson\n",
        "Carter Phoenix Nelson\n",
        "Nelson, Carter P.\n"
       ]
      }
     ],
     "prompt_number": 15
    },
    {
     "cell_type": "heading",
     "level": 1,
     "metadata": {},
     "source": [
      "Recursion"
     ]
    },
    {
     "cell_type": "markdown",
     "metadata": {},
     "source": [
      "Functions can call themselves. When you do this, it's called _recursion_. Recursion is not necessarily the way to go, but you can solve many problems with it. Here's a really simple example:"
     ]
    },
    {
     "cell_type": "code",
     "collapsed": false,
     "input": [
      "def add(x, y):\n",
      "    \"\"\"Adds two numbers.\"\"\"\n",
      "    if y > 0:\n",
      "        return add(x + 1, y - 1)\n",
      "    elif y < 0:\n",
      "        return add(x - 1, y + 1)\n",
      "    else:\n",
      "        return x"
     ],
     "language": "python",
     "metadata": {},
     "outputs": [],
     "prompt_number": 25
    },
    {
     "cell_type": "code",
     "collapsed": false,
     "input": [
      "add(10, 20)"
     ],
     "language": "python",
     "metadata": {},
     "outputs": [
      {
       "metadata": {},
       "output_type": "pyout",
       "prompt_number": 18,
       "text": [
        "30"
       ]
      }
     ],
     "prompt_number": 18
    },
    {
     "cell_type": "code",
     "collapsed": false,
     "input": [
      "add(10, -5)"
     ],
     "language": "python",
     "metadata": {},
     "outputs": [
      {
       "metadata": {},
       "output_type": "pyout",
       "prompt_number": 19,
       "text": [
        "5"
       ]
      }
     ],
     "prompt_number": 19
    },
    {
     "cell_type": "code",
     "collapsed": false,
     "input": [
      "add(1, 0)"
     ],
     "language": "python",
     "metadata": {},
     "outputs": [
      {
       "metadata": {},
       "output_type": "pyout",
       "prompt_number": 20,
       "text": [
        "1"
       ]
      }
     ],
     "prompt_number": 20
    }
   ],
   "metadata": {}
  }
 ]
}