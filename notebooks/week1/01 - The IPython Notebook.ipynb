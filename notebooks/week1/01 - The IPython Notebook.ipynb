{
 "metadata": {
  "name": "",
  "signature": "sha256:8e01d6109758b82d91841cc472ce290c6e32e536732c0ec909a4e070977ce298"
 },
 "nbformat": 3,
 "nbformat_minor": 0,
 "worksheets": [
  {
   "cells": [
    {
     "cell_type": "heading",
     "level": 1,
     "metadata": {},
     "source": [
      "Setting up your sandbox"
     ]
    },
    {
     "cell_type": "markdown",
     "metadata": {},
     "source": [
      "```\n",
      "mkdir -p ~/ironyard/sandbox\n",
      "cd ~/ironyard/sandbox\n",
      "pyenv virtualenv 3.4.2 sandbox\n",
      "pyenv local sandbox\n",
      "pip install \"ipython[all]\"\n",
      "ipython notebook\n",
      "```"
     ]
    },
    {
     "cell_type": "heading",
     "level": 1,
     "metadata": {},
     "source": [
      "The IPython Notebook"
     ]
    },
    {
     "cell_type": "markdown",
     "metadata": {},
     "source": [
      "The IPython notebook is an alternative work environment for Python that combines the ability to take and show notes with executable code. It's like a text editor and a Python console all in one. We will use it for instruction and you can use it for homework.\n",
      "\n",
      "[NBViewer](http://nbviewer.ipython.org/) is a site that can show notebooks online in a read-only format. You should install [one of their browser extensions](https://jiffyclub.github.io/open-in-nbviewer/) so that when you look at a notebook on GitHub, you can read it easily. Go ahead and try that now for this notebook."
     ]
    },
    {
     "cell_type": "heading",
     "level": 2,
     "metadata": {},
     "source": [
      "Keyboard shortcuts"
     ]
    },
    {
     "cell_type": "markdown",
     "metadata": {},
     "source": [
      "Using the IPython notebook is way less fun if you don't know the keyboard shortcuts. Look at \"Help > Keyboard Shortcuts\" and learn them."
     ]
    },
    {
     "cell_type": "heading",
     "level": 2,
     "metadata": {},
     "source": [
      "Built-in help"
     ]
    },
    {
     "cell_type": "markdown",
     "metadata": {},
     "source": [
      "You can get help inside the IPython notebook by starting a line of code and then hitting Shift-Tab. Here's a demonstration:"
     ]
    },
    {
     "cell_type": "code",
     "collapsed": false,
     "input": [
      "pow()"
     ],
     "language": "python",
     "metadata": {},
     "outputs": [
      {
       "ename": "TypeError",
       "evalue": "pow expected at least 2 arguments, got 0",
       "output_type": "pyerr",
       "traceback": [
        "\u001b[0;31m---------------------------------------------------------------------------\u001b[0m\n\u001b[0;31mTypeError\u001b[0m                                 Traceback (most recent call last)",
        "\u001b[0;32m<ipython-input-1-ecbee7850f6f>\u001b[0m in \u001b[0;36m<module>\u001b[0;34m()\u001b[0m\n\u001b[0;32m----> 1\u001b[0;31m \u001b[0mpow\u001b[0m\u001b[0;34m(\u001b[0m\u001b[0;34m)\u001b[0m\u001b[0;34m\u001b[0m\u001b[0m\n\u001b[0m",
        "\u001b[0;31mTypeError\u001b[0m: pow expected at least 2 arguments, got 0"
       ]
      }
     ],
     "prompt_number": 1
    },
    {
     "cell_type": "markdown",
     "metadata": {},
     "source": [
      "You can get suggestions for completing code by hitting Tab."
     ]
    },
    {
     "cell_type": "code",
     "collapsed": false,
     "input": [
      "the_number = 12\n",
      "2 + th"
     ],
     "language": "python",
     "metadata": {},
     "outputs": [
      {
       "ename": "NameError",
       "evalue": "name 'th' is not defined",
       "output_type": "pyerr",
       "traceback": [
        "\u001b[0;31m---------------------------------------------------------------------------\u001b[0m\n\u001b[0;31mNameError\u001b[0m                                 Traceback (most recent call last)",
        "\u001b[0;32m<ipython-input-2-ca838f63414a>\u001b[0m in \u001b[0;36m<module>\u001b[0;34m()\u001b[0m\n\u001b[1;32m      1\u001b[0m \u001b[0mthe_number\u001b[0m \u001b[0;34m=\u001b[0m \u001b[0;36m12\u001b[0m\u001b[0;34m\u001b[0m\u001b[0m\n\u001b[0;32m----> 2\u001b[0;31m \u001b[0;36m2\u001b[0m \u001b[0;34m+\u001b[0m \u001b[0mth\u001b[0m\u001b[0;34m\u001b[0m\u001b[0m\n\u001b[0m",
        "\u001b[0;31mNameError\u001b[0m: name 'th' is not defined"
       ]
      }
     ],
     "prompt_number": 2
    },
    {
     "cell_type": "code",
     "collapsed": false,
     "input": [
      "help(pow)"
     ],
     "language": "python",
     "metadata": {},
     "outputs": [
      {
       "output_type": "stream",
       "stream": "stdout",
       "text": [
        "Help on built-in function pow in module builtins:\n",
        "\n",
        "pow(...)\n",
        "    pow(x, y[, z]) -> number\n",
        "    \n",
        "    With two arguments, equivalent to x**y.  With three arguments,\n",
        "    equivalent to (x**y) % z, but may be more efficient (e.g. for ints).\n",
        "\n"
       ]
      }
     ],
     "prompt_number": 1
    },
    {
     "cell_type": "markdown",
     "metadata": {},
     "source": [
      "The `help` function will also give you inline help."
     ]
    },
    {
     "cell_type": "code",
     "collapsed": false,
     "input": [
      "help(\"hello, {}\".format)"
     ],
     "language": "python",
     "metadata": {},
     "outputs": [
      {
       "output_type": "stream",
       "stream": "stdout",
       "text": [
        "Help on built-in function format:\n",
        "\n",
        "format(...) method of builtins.str instance\n",
        "    S.format(*args, **kwargs) -> str\n",
        "    \n",
        "    Return a formatted version of S, using substitutions from args and kwargs.\n",
        "    The substitutions are identified by braces ('{' and '}').\n",
        "\n"
       ]
      }
     ],
     "prompt_number": 2
    },
    {
     "cell_type": "code",
     "collapsed": false,
     "input": [
      "help(str.format)"
     ],
     "language": "python",
     "metadata": {},
     "outputs": [
      {
       "output_type": "stream",
       "stream": "stdout",
       "text": [
        "Help on method_descriptor:\n",
        "\n",
        "format(...)\n",
        "    S.format(*args, **kwargs) -> str\n",
        "    \n",
        "    Return a formatted version of S, using substitutions from args and kwargs.\n",
        "    The substitutions are identified by braces ('{' and '}').\n",
        "\n"
       ]
      }
     ],
     "prompt_number": 12
    },
    {
     "cell_type": "code",
     "collapsed": false,
     "input": [
      "len?"
     ],
     "language": "python",
     "metadata": {},
     "outputs": [],
     "prompt_number": 3
    },
    {
     "cell_type": "heading",
     "level": 1,
     "metadata": {},
     "source": [
      "Macros"
     ]
    },
    {
     "cell_type": "code",
     "collapsed": false,
     "input": [
      "%quickref"
     ],
     "language": "python",
     "metadata": {},
     "outputs": [],
     "prompt_number": 7
    },
    {
     "cell_type": "code",
     "collapsed": false,
     "input": [
      "%alias"
     ],
     "language": "python",
     "metadata": {},
     "outputs": [
      {
       "output_type": "stream",
       "stream": "stdout",
       "text": [
        "Total number of aliases: 12\n"
       ]
      },
      {
       "metadata": {},
       "output_type": "pyout",
       "prompt_number": 8,
       "text": [
        "[('cat', 'cat'),\n",
        " ('cp', 'cp'),\n",
        " ('ldir', 'ls -F -G -l %l | grep /$'),\n",
        " ('lf', 'ls -F -l -G %l | grep ^-'),\n",
        " ('lk', 'ls -F -l -G %l | grep ^l'),\n",
        " ('ll', 'ls -F -l -G'),\n",
        " ('ls', 'ls -F -G'),\n",
        " ('lx', 'ls -F -l -G %l | grep ^-..x'),\n",
        " ('mkdir', 'mkdir'),\n",
        " ('mv', 'mv'),\n",
        " ('rm', 'rm'),\n",
        " ('rmdir', 'rmdir')]"
       ]
      }
     ],
     "prompt_number": 8
    }
   ],
   "metadata": {}
  }
 ]
}