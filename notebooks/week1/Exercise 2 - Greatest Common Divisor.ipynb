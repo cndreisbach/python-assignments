{
 "metadata": {
  "name": "",
  "signature": "sha256:0450ecfd42e0c1e4036f9f69afe3539fa9082229f3e84dd9146abeaff7b516a0"
 },
 "nbformat": 3,
 "nbformat_minor": 0,
 "worksheets": [
  {
   "cells": [
    {
     "cell_type": "markdown",
     "metadata": {},
     "source": [
      "The **greatest common divisor (GCD)** of two or more integers is the largest positive integer that divides the numbers without a remainder. For example, the GCD of 8 and 12 is 4. (Taken from Wikipedia.)"
     ]
    },
    {
     "cell_type": "markdown",
     "metadata": {},
     "source": [
      "One algorithm to figure out the GCD of two numbers is the Euclidean algorithm. It is a pretty simple algorithm.\n",
      "\n",
      "\\begin{align}\n",
      "\\gcd(a, 0) &= a \\\\\n",
      "\\gcd(a, b) &= \\gcd(b, a \\bmod b)\n",
      "\\end{align}"
     ]
    },
    {
     "cell_type": "markdown",
     "metadata": {},
     "source": [
      "Implement a `gcd` function in Python and then find the GCD of 123456 and 654321."
     ]
    },
    {
     "cell_type": "code",
     "collapsed": false,
     "input": [],
     "language": "python",
     "metadata": {},
     "outputs": []
    }
   ],
   "metadata": {}
  }
 ]
}