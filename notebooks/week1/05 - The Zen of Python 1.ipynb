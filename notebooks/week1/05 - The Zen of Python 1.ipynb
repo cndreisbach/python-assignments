{
 "metadata": {
  "name": "",
  "signature": "sha256:566c73edfecbff5106a04f17355197bade7d9212cbd9f12a15fb1834f8aef171"
 },
 "nbformat": 3,
 "nbformat_minor": 0,
 "worksheets": [
  {
   "cells": [
    {
     "cell_type": "code",
     "collapsed": false,
     "input": [
      "import this"
     ],
     "language": "python",
     "metadata": {},
     "outputs": [
      {
       "output_type": "stream",
       "stream": "stdout",
       "text": [
        "The Zen of Python, by Tim Peters\n",
        "\n",
        "Beautiful is better than ugly.\n",
        "Explicit is better than implicit.\n",
        "Simple is better than complex.\n",
        "Complex is better than complicated.\n",
        "Flat is better than nested.\n",
        "Sparse is better than dense.\n",
        "Readability counts.\n",
        "Special cases aren't special enough to break the rules.\n",
        "Although practicality beats purity.\n",
        "Errors should never pass silently.\n",
        "Unless explicitly silenced.\n",
        "In the face of ambiguity, refuse the temptation to guess.\n",
        "There should be one-- and preferably only one --obvious way to do it.\n",
        "Although that way may not be obvious at first unless you're Dutch.\n",
        "Now is better than never.\n",
        "Although never is often better than *right* now.\n",
        "If the implementation is hard to explain, it's a bad idea.\n",
        "If the implementation is easy to explain, it may be a good idea.\n",
        "Namespaces are one honking great idea -- let's do more of those!\n"
       ]
      }
     ],
     "prompt_number": 1
    },
    {
     "cell_type": "heading",
     "level": 1,
     "metadata": {},
     "source": [
      "Beautiful is better than ugly. Readability counts."
     ]
    },
    {
     "cell_type": "markdown",
     "metadata": {},
     "source": [
      "You can write Python all sorts of ways, but there is a standard you should follow:\n",
      "\n",
      "[PEP 8](https://www.python.org/dev/peps/pep-0008/)\n",
      "\n",
      "Following it ensures your code will look nice and be easy for others to read. There is _no excuse_ for code that doesn't meet these guidelines.\n",
      "\n",
      "Run `pip install pep8` to install a tool that can check your code for PEP 8 errors."
     ]
    },
    {
     "cell_type": "heading",
     "level": 1,
     "metadata": {},
     "source": [
      "Explicit is better than implicit."
     ]
    },
    {
     "cell_type": "markdown",
     "metadata": {},
     "source": [
      "You'll see this throughout Python, but you've already seen it. Here's some JavaScript, another language:\n",
      "\n",
      "```js\n",
      "console.log(4 + \"5\");\n",
      "#=> 45\n",
      "```\n",
      "\n",
      "Would you guess that's what would happen?\n",
      "\n",
      "Here's Python:"
     ]
    },
    {
     "cell_type": "code",
     "collapsed": false,
     "input": [
      "4 + \"5\""
     ],
     "language": "python",
     "metadata": {},
     "outputs": [
      {
       "ename": "TypeError",
       "evalue": "unsupported operand type(s) for +: 'int' and 'str'",
       "output_type": "pyerr",
       "traceback": [
        "\u001b[0;31m---------------------------------------------------------------------------\u001b[0m\n\u001b[0;31mTypeError\u001b[0m                                 Traceback (most recent call last)",
        "\u001b[0;32m<ipython-input-4-871c0c3bbca2>\u001b[0m in \u001b[0;36m<module>\u001b[0;34m()\u001b[0m\n\u001b[0;32m----> 1\u001b[0;31m \u001b[0;36m4\u001b[0m \u001b[0;34m+\u001b[0m \u001b[0;34m\"5\"\u001b[0m\u001b[0;34m\u001b[0m\u001b[0m\n\u001b[0m",
        "\u001b[0;31mTypeError\u001b[0m: unsupported operand type(s) for +: 'int' and 'str'"
       ]
      }
     ],
     "prompt_number": 4
    },
    {
     "cell_type": "heading",
     "level": 1,
     "metadata": {},
     "source": [
      "There should be one -- and preferably only one -- obvious way to do it."
     ]
    },
    {
     "cell_type": "markdown",
     "metadata": {},
     "source": [
      "Watch for this in the rest of our class. Tomorrow you'll see:\n",
      "\n",
      "```py\n",
      "for element in sequence:\n",
      "    print(element)\n",
      "```\n",
      "\n",
      "That works with every type of sequence that exists in Python."
     ]
    }
   ],
   "metadata": {}
  }
 ]
}