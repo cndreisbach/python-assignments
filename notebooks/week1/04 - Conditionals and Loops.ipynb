{
 "metadata": {
  "name": "",
  "signature": "sha256:972bacebd63bb7f09991120b6806fdf18a68d459acf5fea8b6941e6bc8429097"
 },
 "nbformat": 3,
 "nbformat_minor": 0,
 "worksheets": [
  {
   "cells": [
    {
     "cell_type": "markdown",
     "metadata": {},
     "source": [
      "In order to write complex programs, we need some logic. \n",
      "\n",
      "If you think about programs like recipes, you'll think of conditional statements and loops. Here some examples:\n",
      "\n",
      "* Stir the mixture until it thickens.\n",
      "* Bake at 425 degrees for 11-13 minutes, or at 400 degrees for 15-17 for a crispier crust.\n",
      "* Cook on low for 8 hours, or on high for 3.5 hours.\n",
      "* Add the peppers once the onions are translucent.\n",
      "* Whip the eggs and sugar until they have stiff peaks."
     ]
    },
    {
     "cell_type": "heading",
     "level": 1,
     "metadata": {},
     "source": [
      "if statements"
     ]
    },
    {
     "cell_type": "markdown",
     "metadata": {},
     "source": [
      "Let's write a program to print some information about a user based on their age."
     ]
    },
    {
     "cell_type": "code",
     "collapsed": false,
     "input": [
      "age = int(input(\"What is your age? \"))\n",
      "if age >= 18:\n",
      "    print(\"You are allowed to vote.\")\n",
      "else:\n",
      "    print(\"You are not allowed to vote.\")"
     ],
     "language": "python",
     "metadata": {},
     "outputs": [
      {
       "name": "stdout",
       "output_type": "stream",
       "stream": "stdout",
       "text": [
        "What is your age? 29\n"
       ]
      },
      {
       "output_type": "stream",
       "stream": "stdout",
       "text": [
        "You are allowed to vote.\n"
       ]
      }
     ],
     "prompt_number": 1
    },
    {
     "cell_type": "markdown",
     "metadata": {},
     "source": [
      "`if` statements can have more than two options, using the poorly-named `elif` keyword."
     ]
    },
    {
     "cell_type": "code",
     "collapsed": false,
     "input": [
      "age = int(input(\"What is your age? \"))\n",
      "if age >= 21:\n",
      "    print(\"You are allowed to vote and drink.\")\n",
      "elif age >= 18:\n",
      "    print(\"You are allowed to vote, but not drink.\")\n",
      "else:\n",
      "    print(\"You are not allowed to vote or drink.\")"
     ],
     "language": "python",
     "metadata": {},
     "outputs": [
      {
       "name": "stdout",
       "output_type": "stream",
       "stream": "stdout",
       "text": [
        "What is your age? 20\n"
       ]
      },
      {
       "output_type": "stream",
       "stream": "stdout",
       "text": [
        "You are allowed to vote, but not drink.\n"
       ]
      }
     ],
     "prompt_number": 2
    },
    {
     "cell_type": "heading",
     "level": 1,
     "metadata": {},
     "source": [
      "while statements"
     ]
    },
    {
     "cell_type": "markdown",
     "metadata": {},
     "source": [
      "Here's a simple problem: print out all the numbers from 1 to 10."
     ]
    },
    {
     "cell_type": "code",
     "collapsed": false,
     "input": [
      "i = 1\n",
      "while i <= 10:\n",
      "    print(i)\n",
      "    i += 1"
     ],
     "language": "python",
     "metadata": {},
     "outputs": [
      {
       "output_type": "stream",
       "stream": "stdout",
       "text": [
        "1\n",
        "2\n",
        "3\n",
        "4\n",
        "5\n",
        "6\n",
        "7\n",
        "8\n",
        "9\n",
        "10\n"
       ]
      }
     ],
     "prompt_number": 3
    },
    {
     "cell_type": "heading",
     "level": 1,
     "metadata": {},
     "source": [
      "Complex logic"
     ]
    },
    {
     "cell_type": "markdown",
     "metadata": {},
     "source": [
      "You can use `and` and `or` to combine predicates in `if` and `while` statements."
     ]
    },
    {
     "cell_type": "code",
     "collapsed": false,
     "input": [
      "age = int(input(\"What is your age? \"))\n",
      "name = input(\"What is your name? \")\n",
      "if name == \"Harper\" or age > 50:\n",
      "    print(\"You are wise.\")"
     ],
     "language": "python",
     "metadata": {},
     "outputs": [
      {
       "name": "stdout",
       "output_type": "stream",
       "stream": "stdout",
       "text": [
        "What is your age? 43\n"
       ]
      },
      {
       "name": "stdout",
       "output_type": "stream",
       "stream": "stdout",
       "text": [
        "What is your name? Harper\n"
       ]
      },
      {
       "output_type": "stream",
       "stream": "stdout",
       "text": [
        "You are wise.\n"
       ]
      }
     ],
     "prompt_number": 4
    },
    {
     "cell_type": "code",
     "collapsed": false,
     "input": [
      "age = int(input(\"What is your age? \"))\n",
      "name = input(\"What is your name? \")\n",
      "if name == \"Harper\" and age > 50:\n",
      "    print(\"Entrance into the halls of yore is granted.\")"
     ],
     "language": "python",
     "metadata": {},
     "outputs": [
      {
       "name": "stdout",
       "output_type": "stream",
       "stream": "stdout",
       "text": [
        "What is your age? 50\n"
       ]
      },
      {
       "name": "stdout",
       "output_type": "stream",
       "stream": "stdout",
       "text": [
        "What is your name? Harper\n"
       ]
      }
     ],
     "prompt_number": 5
    },
    {
     "cell_type": "code",
     "collapsed": false,
     "input": [],
     "language": "python",
     "metadata": {},
     "outputs": []
    }
   ],
   "metadata": {}
  }
 ]
}