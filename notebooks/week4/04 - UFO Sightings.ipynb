{
 "metadata": {
  "name": "",
  "signature": "sha256:b974371a6fa59134a54bcef1cd1dbea9cf7fb425d4ee860aa631ef04441d3e14"
 },
 "nbformat": 3,
 "nbformat_minor": 0,
 "worksheets": [
  {
   "cells": [
    {
     "cell_type": "markdown",
     "metadata": {},
     "source": [
      "* Load UFO data\n",
      "    * Deal with messed up lines\n",
      "    \n",
      "```py\n",
      "inpath = 'data/ufo/ufo_awesome.tsv'\n",
      "inf = open(inpath, 'r')\n",
      "\n",
      "for i, line in enumerate(inf):\n",
      "    splitline = line.split('\\\\t')\n",
      "    if len(splitline) != 6:\n",
      "        first_bad_line = splitline\n",
      "        print \"First bad row:\", i\n",
      "        for j, col in enumerate(first_bad_line):\n",
      "            print j, col\n",
      "        break\n",
      "\n",
      "inf.close()\n",
      "```\n",
      "\n",
      "* deal with headers\n",
      "* convert dates and index\n",
      "* split city and state\n",
      "* get a histogram\n",
      "\n",
      "```py\n",
      "post90_count = ufo_us.groupby('date_occurred')['date_occurred'].count()\n",
      "plt.figure()\n",
      "post90_count.plot()\n",
      "plt.title('Number of U.S. UFO sightings\\\\nJanuary 1990 through August 2010')\n",
      "plt.savefig('post90_count_ts.png')\n",
      "```\n",
      "\n",
      "* Reshape data: http://slendermeans.org/ml4h-ch1-p4.html\n"
     ]
    },
    {
     "cell_type": "code",
     "collapsed": false,
     "input": [
      "import pandas as pd\n",
      "import datetime\n",
      "import numpy as np\n",
      "import matplotlib.pyplot as plt"
     ],
     "language": "python",
     "metadata": {},
     "outputs": [],
     "prompt_number": 1
    },
    {
     "cell_type": "code",
     "collapsed": false,
     "input": [
      "%matplotlib inline"
     ],
     "language": "python",
     "metadata": {},
     "outputs": [],
     "prompt_number": 2
    },
    {
     "cell_type": "code",
     "collapsed": false,
     "input": [
      "col_names = [\"date_occurred\", \"date_reported\", \"location\", \"short_desc\", \"duration\", \"description\"]\n",
      "ufo = pd.read_csv(\"ufo_awesome.tsv\", sep=\"\\t\", names=col_names, dtype=str)"
     ],
     "language": "python",
     "metadata": {},
     "outputs": [],
     "prompt_number": 3
    },
    {
     "cell_type": "code",
     "collapsed": false,
     "input": [
      "ufo.head()"
     ],
     "language": "python",
     "metadata": {},
     "outputs": [
      {
       "html": [
        "<div style=\"max-height:1000px;max-width:1500px;overflow:auto;\">\n",
        "<table border=\"1\" class=\"dataframe\">\n",
        "  <thead>\n",
        "    <tr style=\"text-align: right;\">\n",
        "      <th></th>\n",
        "      <th>date_occurred</th>\n",
        "      <th>date_reported</th>\n",
        "      <th>location</th>\n",
        "      <th>short_desc</th>\n",
        "      <th>duration</th>\n",
        "      <th>description</th>\n",
        "    </tr>\n",
        "  </thead>\n",
        "  <tbody>\n",
        "    <tr>\n",
        "      <th>0</th>\n",
        "      <td> 19951009</td>\n",
        "      <td> 19951009</td>\n",
        "      <td>  Iowa City, IA</td>\n",
        "      <td> NaN</td>\n",
        "      <td>    NaN</td>\n",
        "      <td> Man repts. witnessing &amp;quot;flash, followed by...</td>\n",
        "    </tr>\n",
        "    <tr>\n",
        "      <th>1</th>\n",
        "      <td> 19951010</td>\n",
        "      <td> 19951011</td>\n",
        "      <td>  Milwaukee, WI</td>\n",
        "      <td> NaN</td>\n",
        "      <td> 2 min.</td>\n",
        "      <td> Man  on Hwy 43 SW of Milwaukee sees large, bri...</td>\n",
        "    </tr>\n",
        "    <tr>\n",
        "      <th>2</th>\n",
        "      <td> 19950101</td>\n",
        "      <td> 19950103</td>\n",
        "      <td>    Shelton, WA</td>\n",
        "      <td> NaN</td>\n",
        "      <td>    NaN</td>\n",
        "      <td> Telephoned Report:CA woman visiting daughter w...</td>\n",
        "    </tr>\n",
        "    <tr>\n",
        "      <th>3</th>\n",
        "      <td> 19950510</td>\n",
        "      <td> 19950510</td>\n",
        "      <td>   Columbia, MO</td>\n",
        "      <td> NaN</td>\n",
        "      <td> 2 min.</td>\n",
        "      <td> Man repts. son&amp;apos;s bizarre sighting of smal...</td>\n",
        "    </tr>\n",
        "    <tr>\n",
        "      <th>4</th>\n",
        "      <td> 19950611</td>\n",
        "      <td> 19950614</td>\n",
        "      <td>    Seattle, WA</td>\n",
        "      <td> NaN</td>\n",
        "      <td>    NaN</td>\n",
        "      <td> Anonymous caller repts. sighting 4 ufo&amp;apos;s ...</td>\n",
        "    </tr>\n",
        "  </tbody>\n",
        "</table>\n",
        "</div>"
       ],
       "metadata": {},
       "output_type": "pyout",
       "prompt_number": 4,
       "text": [
        "  date_occurred date_reported        location short_desc duration  \\\n",
        "0      19951009      19951009   Iowa City, IA        NaN      NaN   \n",
        "1      19951010      19951011   Milwaukee, WI        NaN   2 min.   \n",
        "2      19950101      19950103     Shelton, WA        NaN      NaN   \n",
        "3      19950510      19950510    Columbia, MO        NaN   2 min.   \n",
        "4      19950611      19950614     Seattle, WA        NaN      NaN   \n",
        "\n",
        "                                         description  \n",
        "0  Man repts. witnessing &quot;flash, followed by...  \n",
        "1  Man  on Hwy 43 SW of Milwaukee sees large, bri...  \n",
        "2  Telephoned Report:CA woman visiting daughter w...  \n",
        "3  Man repts. son&apos;s bizarre sighting of smal...  \n",
        "4  Anonymous caller repts. sighting 4 ufo&apos;s ...  "
       ]
      }
     ],
     "prompt_number": 4
    },
    {
     "cell_type": "code",
     "collapsed": false,
     "input": [
      "ufo.tail()"
     ],
     "language": "python",
     "metadata": {},
     "outputs": [
      {
       "html": [
        "<div style=\"max-height:1000px;max-width:1500px;overflow:auto;\">\n",
        "<table border=\"1\" class=\"dataframe\">\n",
        "  <thead>\n",
        "    <tr style=\"text-align: right;\">\n",
        "      <th></th>\n",
        "      <th>date_occurred</th>\n",
        "      <th>date_reported</th>\n",
        "      <th>location</th>\n",
        "      <th>short_desc</th>\n",
        "      <th>duration</th>\n",
        "      <th>description</th>\n",
        "    </tr>\n",
        "  </thead>\n",
        "  <tbody>\n",
        "    <tr>\n",
        "      <th>61388</th>\n",
        "      <td> 20090424</td>\n",
        "      <td> 20100820</td>\n",
        "      <td>         Hartwell, GA</td>\n",
        "      <td>      oval</td>\n",
        "      <td>            10 min</td>\n",
        "      <td> never seen anything like it.i was drivivg home...</td>\n",
        "    </tr>\n",
        "    <tr>\n",
        "      <th>61389</th>\n",
        "      <td> 20100821</td>\n",
        "      <td> 20100826</td>\n",
        "      <td>  Franklin Square, NY</td>\n",
        "      <td>  fireball</td>\n",
        "      <td>        20 minutes</td>\n",
        "      <td> multiple fireballs in sky over long islandat 1...</td>\n",
        "    </tr>\n",
        "    <tr>\n",
        "      <th>61390</th>\n",
        "      <td> 20100827</td>\n",
        "      <td> 20100827</td>\n",
        "      <td>         Brighton, CO</td>\n",
        "      <td>    circle</td>\n",
        "      <td>    at lest 45 min</td>\n",
        "      <td> Very bright flashing in a pattern of red, whit...</td>\n",
        "    </tr>\n",
        "    <tr>\n",
        "      <th>61391</th>\n",
        "      <td> 20100818</td>\n",
        "      <td> 20100821</td>\n",
        "      <td>  Dryden (Canada), ON</td>\n",
        "      <td>     other</td>\n",
        "      <td> 5 Min. maybe more</td>\n",
        "      <td> Long steal pipe shaped object with No Wings, a...</td>\n",
        "    </tr>\n",
        "    <tr>\n",
        "      <th>61392</th>\n",
        "      <td> 20050502</td>\n",
        "      <td> 20100824</td>\n",
        "      <td>        Fort Knox, KY</td>\n",
        "      <td>  triangle</td>\n",
        "      <td>        15 seconds</td>\n",
        "      <td> Flash of light made me look up to see a dark c...</td>\n",
        "    </tr>\n",
        "  </tbody>\n",
        "</table>\n",
        "</div>"
       ],
       "metadata": {},
       "output_type": "pyout",
       "prompt_number": 5,
       "text": [
        "      date_occurred date_reported              location short_desc  \\\n",
        "61388      20090424      20100820          Hartwell, GA       oval   \n",
        "61389      20100821      20100826   Franklin Square, NY   fireball   \n",
        "61390      20100827      20100827          Brighton, CO     circle   \n",
        "61391      20100818      20100821   Dryden (Canada), ON      other   \n",
        "61392      20050502      20100824         Fort Knox, KY   triangle   \n",
        "\n",
        "                duration                                        description  \n",
        "61388             10 min  never seen anything like it.i was drivivg home...  \n",
        "61389         20 minutes  multiple fireballs in sky over long islandat 1...  \n",
        "61390     at lest 45 min  Very bright flashing in a pattern of red, whit...  \n",
        "61391  5 Min. maybe more  Long steal pipe shaped object with No Wings, a...  \n",
        "61392         15 seconds  Flash of light made me look up to see a dark c...  "
       ]
      }
     ],
     "prompt_number": 5
    },
    {
     "cell_type": "code",
     "collapsed": false,
     "input": [
      "ufo[ufo['date_occurred'] == \"0000\"]['date_occurred'] = np.nan"
     ],
     "language": "python",
     "metadata": {},
     "outputs": [
      {
       "output_type": "stream",
       "stream": "stderr",
       "text": [
        "-c:1: SettingWithCopyWarning: \n",
        "A value is trying to be set on a copy of a slice from a DataFrame.\n",
        "Try using .loc[row_indexer,col_indexer] = value instead\n",
        "\n",
        "See the the caveats in the documentation: http://pandas.pydata.org/pandas-docs/stable/indexing.html#indexing-view-versus-copy\n"
       ]
      }
     ],
     "prompt_number": 6
    },
    {
     "cell_type": "code",
     "collapsed": false,
     "input": [
      "ufo.loc[ufo['date_occurred'] == \"0000\", 'date_occurred'] = np.nan"
     ],
     "language": "python",
     "metadata": {},
     "outputs": [],
     "prompt_number": 7
    },
    {
     "cell_type": "code",
     "collapsed": false,
     "input": [
      "ufo[ufo['date_occurred'].isnull()].head()"
     ],
     "language": "python",
     "metadata": {},
     "outputs": [
      {
       "html": [
        "<div style=\"max-height:1000px;max-width:1500px;overflow:auto;\">\n",
        "<table border=\"1\" class=\"dataframe\">\n",
        "  <thead>\n",
        "    <tr style=\"text-align: right;\">\n",
        "      <th></th>\n",
        "      <th>date_occurred</th>\n",
        "      <th>date_reported</th>\n",
        "      <th>location</th>\n",
        "      <th>short_desc</th>\n",
        "      <th>duration</th>\n",
        "      <th>description</th>\n",
        "    </tr>\n",
        "  </thead>\n",
        "  <tbody>\n",
        "    <tr>\n",
        "      <th>948 </th>\n",
        "      <td> NaN</td>\n",
        "      <td> 19951218</td>\n",
        "      <td>                         Chattanooga, TN</td>\n",
        "      <td>        NaN</td>\n",
        "      <td>        NaN</td>\n",
        "      <td> He called seeking information regarding the UF...</td>\n",
        "    </tr>\n",
        "    <tr>\n",
        "      <th>1351</th>\n",
        "      <td> NaN</td>\n",
        "      <td> 19970410</td>\n",
        "      <td>                         Near Randle, WA</td>\n",
        "      <td>      light</td>\n",
        "      <td> 45 Seconds</td>\n",
        "      <td> Summary : Large bright object moving horizonta...</td>\n",
        "    </tr>\n",
        "    <tr>\n",
        "      <th>1391</th>\n",
        "      <td> NaN</td>\n",
        "      <td> 19970810</td>\n",
        "      <td>  Escondido (Suburbs of Eden Valley), CA</td>\n",
        "      <td>    unknown</td>\n",
        "      <td>    5-7 min</td>\n",
        "      <td> Summary : Approx 2200 an auto sized bright blu...</td>\n",
        "    </tr>\n",
        "    <tr>\n",
        "      <th>1397</th>\n",
        "      <td> NaN</td>\n",
        "      <td> 19971019</td>\n",
        "      <td>                              Warren, OH</td>\n",
        "      <td>    unknown</td>\n",
        "      <td>  3 minutes</td>\n",
        "      <td> Summary : About 100 feet from the ground. Hove...</td>\n",
        "    </tr>\n",
        "    <tr>\n",
        "      <th>1501</th>\n",
        "      <td> NaN</td>\n",
        "      <td> 19971005</td>\n",
        "      <td>                        Rohnert Park, CA</td>\n",
        "      <td>  rectangle</td>\n",
        "      <td>   1 minute</td>\n",
        "      <td> Summary : Saw black monolith type objectI was ...</td>\n",
        "    </tr>\n",
        "  </tbody>\n",
        "</table>\n",
        "</div>"
       ],
       "metadata": {},
       "output_type": "pyout",
       "prompt_number": 8,
       "text": [
        "     date_occurred date_reported                                 location  \\\n",
        "948            NaN      19951218                          Chattanooga, TN   \n",
        "1351           NaN      19970410                          Near Randle, WA   \n",
        "1391           NaN      19970810   Escondido (Suburbs of Eden Valley), CA   \n",
        "1397           NaN      19971019                               Warren, OH   \n",
        "1501           NaN      19971005                         Rohnert Park, CA   \n",
        "\n",
        "      short_desc    duration  \\\n",
        "948          NaN         NaN   \n",
        "1351       light  45 Seconds   \n",
        "1391     unknown     5-7 min   \n",
        "1397     unknown   3 minutes   \n",
        "1501   rectangle    1 minute   \n",
        "\n",
        "                                            description  \n",
        "948   He called seeking information regarding the UF...  \n",
        "1351  Summary : Large bright object moving horizonta...  \n",
        "1391  Summary : Approx 2200 an auto sized bright blu...  \n",
        "1397  Summary : About 100 feet from the ground. Hove...  \n",
        "1501  Summary : Saw black monolith type objectI was ...  "
       ]
      }
     ],
     "prompt_number": 8
    },
    {
     "cell_type": "code",
     "collapsed": false,
     "input": [
      "pd.to_datetime(ufo['date_occurred'], format=\"%Y%m%d\")"
     ],
     "language": "python",
     "metadata": {},
     "outputs": [
      {
       "ename": "ValueError",
       "evalue": "time data '19940000' does not match format '%Y%m%d' (match)",
       "output_type": "pyerr",
       "traceback": [
        "\u001b[0;31m---------------------------------------------------------------------------\u001b[0m\n\u001b[0;31mValueError\u001b[0m                                Traceback (most recent call last)",
        "\u001b[0;32m<ipython-input-9-b834037ab39c>\u001b[0m in \u001b[0;36m<module>\u001b[0;34m()\u001b[0m\n\u001b[0;32m----> 1\u001b[0;31m \u001b[0mpd\u001b[0m\u001b[0;34m.\u001b[0m\u001b[0mto_datetime\u001b[0m\u001b[0;34m(\u001b[0m\u001b[0mufo\u001b[0m\u001b[0;34m[\u001b[0m\u001b[0;34m'date_occurred'\u001b[0m\u001b[0;34m]\u001b[0m\u001b[0;34m,\u001b[0m \u001b[0mformat\u001b[0m\u001b[0;34m=\u001b[0m\u001b[0;34m\"%Y%m%d\"\u001b[0m\u001b[0;34m)\u001b[0m\u001b[0;34m\u001b[0m\u001b[0m\n\u001b[0m",
        "\u001b[0;32m/Users/clinton/.pyenv/versions/sandbox/lib/python3.4/site-packages/pandas/tseries/tools.py\u001b[0m in \u001b[0;36mto_datetime\u001b[0;34m(arg, errors, dayfirst, utc, box, format, exact, coerce, unit, infer_datetime_format)\u001b[0m\n\u001b[1;32m    311\u001b[0m         \u001b[0;32mreturn\u001b[0m \u001b[0marg\u001b[0m\u001b[0;34m\u001b[0m\u001b[0m\n\u001b[1;32m    312\u001b[0m     \u001b[0;32melif\u001b[0m \u001b[0misinstance\u001b[0m\u001b[0;34m(\u001b[0m\u001b[0marg\u001b[0m\u001b[0;34m,\u001b[0m \u001b[0mSeries\u001b[0m\u001b[0;34m)\u001b[0m\u001b[0;34m:\u001b[0m\u001b[0;34m\u001b[0m\u001b[0m\n\u001b[0;32m--> 313\u001b[0;31m         \u001b[0mvalues\u001b[0m \u001b[0;34m=\u001b[0m \u001b[0m_convert_listlike\u001b[0m\u001b[0;34m(\u001b[0m\u001b[0marg\u001b[0m\u001b[0;34m.\u001b[0m\u001b[0mvalues\u001b[0m\u001b[0;34m,\u001b[0m \u001b[0;32mFalse\u001b[0m\u001b[0;34m,\u001b[0m \u001b[0mformat\u001b[0m\u001b[0;34m)\u001b[0m\u001b[0;34m\u001b[0m\u001b[0m\n\u001b[0m\u001b[1;32m    314\u001b[0m         \u001b[0;32mreturn\u001b[0m \u001b[0mSeries\u001b[0m\u001b[0;34m(\u001b[0m\u001b[0mvalues\u001b[0m\u001b[0;34m,\u001b[0m \u001b[0mindex\u001b[0m\u001b[0;34m=\u001b[0m\u001b[0marg\u001b[0m\u001b[0;34m.\u001b[0m\u001b[0mindex\u001b[0m\u001b[0;34m,\u001b[0m \u001b[0mname\u001b[0m\u001b[0;34m=\u001b[0m\u001b[0marg\u001b[0m\u001b[0;34m.\u001b[0m\u001b[0mname\u001b[0m\u001b[0;34m)\u001b[0m\u001b[0;34m\u001b[0m\u001b[0m\n\u001b[1;32m    315\u001b[0m     \u001b[0;32melif\u001b[0m \u001b[0mcom\u001b[0m\u001b[0;34m.\u001b[0m\u001b[0mis_list_like\u001b[0m\u001b[0;34m(\u001b[0m\u001b[0marg\u001b[0m\u001b[0;34m)\u001b[0m\u001b[0;34m:\u001b[0m\u001b[0;34m\u001b[0m\u001b[0m\n",
        "\u001b[0;32m/Users/clinton/.pyenv/versions/sandbox/lib/python3.4/site-packages/pandas/tseries/tools.py\u001b[0m in \u001b[0;36m_convert_listlike\u001b[0;34m(arg, box, format)\u001b[0m\n\u001b[1;32m    304\u001b[0m                 \u001b[0;32mreturn\u001b[0m \u001b[0mDatetimeIndex\u001b[0m\u001b[0;34m.\u001b[0m\u001b[0m_simple_new\u001b[0m\u001b[0;34m(\u001b[0m\u001b[0mvalues\u001b[0m\u001b[0;34m,\u001b[0m \u001b[0;32mNone\u001b[0m\u001b[0;34m,\u001b[0m \u001b[0mtz\u001b[0m\u001b[0;34m=\u001b[0m\u001b[0mtz\u001b[0m\u001b[0;34m)\u001b[0m\u001b[0;34m\u001b[0m\u001b[0m\n\u001b[1;32m    305\u001b[0m             \u001b[0;32mexcept\u001b[0m \u001b[0;34m(\u001b[0m\u001b[0mValueError\u001b[0m\u001b[0;34m,\u001b[0m \u001b[0mTypeError\u001b[0m\u001b[0;34m)\u001b[0m\u001b[0;34m:\u001b[0m\u001b[0;34m\u001b[0m\u001b[0m\n\u001b[0;32m--> 306\u001b[0;31m                 \u001b[0;32mraise\u001b[0m \u001b[0me\u001b[0m\u001b[0;34m\u001b[0m\u001b[0m\n\u001b[0m\u001b[1;32m    307\u001b[0m \u001b[0;34m\u001b[0m\u001b[0m\n\u001b[1;32m    308\u001b[0m     \u001b[0;32mif\u001b[0m \u001b[0marg\u001b[0m \u001b[0;32mis\u001b[0m \u001b[0;32mNone\u001b[0m\u001b[0;34m:\u001b[0m\u001b[0;34m\u001b[0m\u001b[0m\n",
        "\u001b[0;32m/Users/clinton/.pyenv/versions/sandbox/lib/python3.4/site-packages/pandas/tseries/tools.py\u001b[0m in \u001b[0;36m_convert_listlike\u001b[0;34m(arg, box, format)\u001b[0m\n\u001b[1;32m    278\u001b[0m                     \u001b[0;32mtry\u001b[0m\u001b[0;34m:\u001b[0m\u001b[0;34m\u001b[0m\u001b[0m\n\u001b[1;32m    279\u001b[0m                         result = tslib.array_strptime(\n\u001b[0;32m--> 280\u001b[0;31m                             \u001b[0marg\u001b[0m\u001b[0;34m,\u001b[0m \u001b[0mformat\u001b[0m\u001b[0;34m,\u001b[0m \u001b[0mexact\u001b[0m\u001b[0;34m=\u001b[0m\u001b[0mexact\u001b[0m\u001b[0;34m,\u001b[0m \u001b[0mcoerce\u001b[0m\u001b[0;34m=\u001b[0m\u001b[0mcoerce\u001b[0m\u001b[0;34m\u001b[0m\u001b[0m\n\u001b[0m\u001b[1;32m    281\u001b[0m                         )\n\u001b[1;32m    282\u001b[0m                     \u001b[0;32mexcept\u001b[0m \u001b[0;34m(\u001b[0m\u001b[0mtslib\u001b[0m\u001b[0;34m.\u001b[0m\u001b[0mOutOfBoundsDatetime\u001b[0m\u001b[0;34m)\u001b[0m\u001b[0;34m:\u001b[0m\u001b[0;34m\u001b[0m\u001b[0m\n",
        "\u001b[0;32m/Users/clinton/.pyenv/versions/sandbox/lib/python3.4/site-packages/pandas/tslib.so\u001b[0m in \u001b[0;36mpandas.tslib.array_strptime (pandas/tslib.c:38672)\u001b[0;34m()\u001b[0m\n",
        "\u001b[0;31mValueError\u001b[0m: time data '19940000' does not match format '%Y%m%d' (match)"
       ]
      }
     ],
     "prompt_number": 9
    },
    {
     "cell_type": "code",
     "collapsed": false,
     "input": [
      "ufo.index = pd.to_datetime(ufo['date_reported'], format=\"%Y%m%d\")"
     ],
     "language": "python",
     "metadata": {},
     "outputs": [],
     "prompt_number": 10
    },
    {
     "cell_type": "code",
     "collapsed": false,
     "input": [
      "ufo.head()"
     ],
     "language": "python",
     "metadata": {},
     "outputs": [
      {
       "html": [
        "<div style=\"max-height:1000px;max-width:1500px;overflow:auto;\">\n",
        "<table border=\"1\" class=\"dataframe\">\n",
        "  <thead>\n",
        "    <tr style=\"text-align: right;\">\n",
        "      <th></th>\n",
        "      <th>date_occurred</th>\n",
        "      <th>date_reported</th>\n",
        "      <th>location</th>\n",
        "      <th>short_desc</th>\n",
        "      <th>duration</th>\n",
        "      <th>description</th>\n",
        "    </tr>\n",
        "    <tr>\n",
        "      <th>date_reported</th>\n",
        "      <th></th>\n",
        "      <th></th>\n",
        "      <th></th>\n",
        "      <th></th>\n",
        "      <th></th>\n",
        "      <th></th>\n",
        "    </tr>\n",
        "  </thead>\n",
        "  <tbody>\n",
        "    <tr>\n",
        "      <th>1995-10-09</th>\n",
        "      <td> 19951009</td>\n",
        "      <td> 19951009</td>\n",
        "      <td>  Iowa City, IA</td>\n",
        "      <td> NaN</td>\n",
        "      <td>    NaN</td>\n",
        "      <td> Man repts. witnessing &amp;quot;flash, followed by...</td>\n",
        "    </tr>\n",
        "    <tr>\n",
        "      <th>1995-10-11</th>\n",
        "      <td> 19951010</td>\n",
        "      <td> 19951011</td>\n",
        "      <td>  Milwaukee, WI</td>\n",
        "      <td> NaN</td>\n",
        "      <td> 2 min.</td>\n",
        "      <td> Man  on Hwy 43 SW of Milwaukee sees large, bri...</td>\n",
        "    </tr>\n",
        "    <tr>\n",
        "      <th>1995-01-03</th>\n",
        "      <td> 19950101</td>\n",
        "      <td> 19950103</td>\n",
        "      <td>    Shelton, WA</td>\n",
        "      <td> NaN</td>\n",
        "      <td>    NaN</td>\n",
        "      <td> Telephoned Report:CA woman visiting daughter w...</td>\n",
        "    </tr>\n",
        "    <tr>\n",
        "      <th>1995-05-10</th>\n",
        "      <td> 19950510</td>\n",
        "      <td> 19950510</td>\n",
        "      <td>   Columbia, MO</td>\n",
        "      <td> NaN</td>\n",
        "      <td> 2 min.</td>\n",
        "      <td> Man repts. son&amp;apos;s bizarre sighting of smal...</td>\n",
        "    </tr>\n",
        "    <tr>\n",
        "      <th>1995-06-14</th>\n",
        "      <td> 19950611</td>\n",
        "      <td> 19950614</td>\n",
        "      <td>    Seattle, WA</td>\n",
        "      <td> NaN</td>\n",
        "      <td>    NaN</td>\n",
        "      <td> Anonymous caller repts. sighting 4 ufo&amp;apos;s ...</td>\n",
        "    </tr>\n",
        "  </tbody>\n",
        "</table>\n",
        "</div>"
       ],
       "metadata": {},
       "output_type": "pyout",
       "prompt_number": 11,
       "text": [
        "              date_occurred date_reported        location short_desc duration  \\\n",
        "date_reported                                                                   \n",
        "1995-10-09         19951009      19951009   Iowa City, IA        NaN      NaN   \n",
        "1995-10-11         19951010      19951011   Milwaukee, WI        NaN   2 min.   \n",
        "1995-01-03         19950101      19950103     Shelton, WA        NaN      NaN   \n",
        "1995-05-10         19950510      19950510    Columbia, MO        NaN   2 min.   \n",
        "1995-06-14         19950611      19950614     Seattle, WA        NaN      NaN   \n",
        "\n",
        "                                                     description  \n",
        "date_reported                                                     \n",
        "1995-10-09     Man repts. witnessing &quot;flash, followed by...  \n",
        "1995-10-11     Man  on Hwy 43 SW of Milwaukee sees large, bri...  \n",
        "1995-01-03     Telephoned Report:CA woman visiting daughter w...  \n",
        "1995-05-10     Man repts. son&apos;s bizarre sighting of smal...  \n",
        "1995-06-14     Anonymous caller repts. sighting 4 ufo&apos;s ...  "
       ]
      }
     ],
     "prompt_number": 11
    },
    {
     "cell_type": "code",
     "collapsed": false,
     "input": [
      "ufo = ufo[[\"date_occurred\", \"location\", \"duration\"]]"
     ],
     "language": "python",
     "metadata": {},
     "outputs": [],
     "prompt_number": 12
    },
    {
     "cell_type": "code",
     "collapsed": false,
     "input": [
      "ufo.head()"
     ],
     "language": "python",
     "metadata": {},
     "outputs": [
      {
       "html": [
        "<div style=\"max-height:1000px;max-width:1500px;overflow:auto;\">\n",
        "<table border=\"1\" class=\"dataframe\">\n",
        "  <thead>\n",
        "    <tr style=\"text-align: right;\">\n",
        "      <th></th>\n",
        "      <th>date_occurred</th>\n",
        "      <th>location</th>\n",
        "      <th>duration</th>\n",
        "    </tr>\n",
        "    <tr>\n",
        "      <th>date_reported</th>\n",
        "      <th></th>\n",
        "      <th></th>\n",
        "      <th></th>\n",
        "    </tr>\n",
        "  </thead>\n",
        "  <tbody>\n",
        "    <tr>\n",
        "      <th>1995-10-09</th>\n",
        "      <td> 19951009</td>\n",
        "      <td>  Iowa City, IA</td>\n",
        "      <td>    NaN</td>\n",
        "    </tr>\n",
        "    <tr>\n",
        "      <th>1995-10-11</th>\n",
        "      <td> 19951010</td>\n",
        "      <td>  Milwaukee, WI</td>\n",
        "      <td> 2 min.</td>\n",
        "    </tr>\n",
        "    <tr>\n",
        "      <th>1995-01-03</th>\n",
        "      <td> 19950101</td>\n",
        "      <td>    Shelton, WA</td>\n",
        "      <td>    NaN</td>\n",
        "    </tr>\n",
        "    <tr>\n",
        "      <th>1995-05-10</th>\n",
        "      <td> 19950510</td>\n",
        "      <td>   Columbia, MO</td>\n",
        "      <td> 2 min.</td>\n",
        "    </tr>\n",
        "    <tr>\n",
        "      <th>1995-06-14</th>\n",
        "      <td> 19950611</td>\n",
        "      <td>    Seattle, WA</td>\n",
        "      <td>    NaN</td>\n",
        "    </tr>\n",
        "  </tbody>\n",
        "</table>\n",
        "</div>"
       ],
       "metadata": {},
       "output_type": "pyout",
       "prompt_number": 13,
       "text": [
        "              date_occurred        location duration\n",
        "date_reported                                       \n",
        "1995-10-09         19951009   Iowa City, IA      NaN\n",
        "1995-10-11         19951010   Milwaukee, WI   2 min.\n",
        "1995-01-03         19950101     Shelton, WA      NaN\n",
        "1995-05-10         19950510    Columbia, MO   2 min.\n",
        "1995-06-14         19950611     Seattle, WA      NaN"
       ]
      }
     ],
     "prompt_number": 13
    },
    {
     "cell_type": "code",
     "collapsed": false,
     "input": [
      "import re"
     ],
     "language": "python",
     "metadata": {},
     "outputs": [],
     "prompt_number": 14
    },
    {
     "cell_type": "code",
     "collapsed": false,
     "input": [
      "location_regex = re.compile(r\"\\s*(.+), ([A-Z]{2})\\s*$\")"
     ],
     "language": "python",
     "metadata": {},
     "outputs": [],
     "prompt_number": 15
    },
    {
     "cell_type": "code",
     "collapsed": false,
     "input": [
      "print(location_regex.match(\"Jason Aylward\"))"
     ],
     "language": "python",
     "metadata": {},
     "outputs": [
      {
       "output_type": "stream",
       "stream": "stdout",
       "text": [
        "None\n"
       ]
      }
     ],
     "prompt_number": 16
    },
    {
     "cell_type": "code",
     "collapsed": false,
     "input": [
      "m = location_regex.match(\"Durham, NC\")"
     ],
     "language": "python",
     "metadata": {},
     "outputs": [],
     "prompt_number": 17
    },
    {
     "cell_type": "code",
     "collapsed": false,
     "input": [
      "m.groups()"
     ],
     "language": "python",
     "metadata": {},
     "outputs": [
      {
       "metadata": {},
       "output_type": "pyout",
       "prompt_number": 18,
       "text": [
        "('Durham', 'NC')"
       ]
      }
     ],
     "prompt_number": 18
    },
    {
     "cell_type": "code",
     "collapsed": false,
     "input": [
      "location_regex.match(\"Los Alamos, NM\").groups()"
     ],
     "language": "python",
     "metadata": {},
     "outputs": [
      {
       "metadata": {},
       "output_type": "pyout",
       "prompt_number": 19,
       "text": [
        "('Los Alamos', 'NM')"
       ]
      }
     ],
     "prompt_number": 19
    },
    {
     "cell_type": "code",
     "collapsed": false,
     "input": [
      "location_regex.match(\"Coeur d'Alene, ID\").groups()"
     ],
     "language": "python",
     "metadata": {},
     "outputs": [
      {
       "metadata": {},
       "output_type": "pyout",
       "prompt_number": 20,
       "text": [
        "(\"Coeur d'Alene\", 'ID')"
       ]
      }
     ],
     "prompt_number": 20
    },
    {
     "cell_type": "code",
     "collapsed": false,
     "input": [
      "location_regex.match(\"Los Alamos, NMX\").groups()"
     ],
     "language": "python",
     "metadata": {},
     "outputs": [
      {
       "ename": "AttributeError",
       "evalue": "'NoneType' object has no attribute 'groups'",
       "output_type": "pyerr",
       "traceback": [
        "\u001b[0;31m---------------------------------------------------------------------------\u001b[0m\n\u001b[0;31mAttributeError\u001b[0m                            Traceback (most recent call last)",
        "\u001b[0;32m<ipython-input-21-706e42c394f3>\u001b[0m in \u001b[0;36m<module>\u001b[0;34m()\u001b[0m\n\u001b[0;32m----> 1\u001b[0;31m \u001b[0mlocation_regex\u001b[0m\u001b[0;34m.\u001b[0m\u001b[0mmatch\u001b[0m\u001b[0;34m(\u001b[0m\u001b[0;34m\"Los Alamos, NMX\"\u001b[0m\u001b[0;34m)\u001b[0m\u001b[0;34m.\u001b[0m\u001b[0mgroups\u001b[0m\u001b[0;34m(\u001b[0m\u001b[0;34m)\u001b[0m\u001b[0;34m\u001b[0m\u001b[0m\n\u001b[0m",
        "\u001b[0;31mAttributeError\u001b[0m: 'NoneType' object has no attribute 'groups'"
       ]
      }
     ],
     "prompt_number": 21
    },
    {
     "cell_type": "code",
     "collapsed": false,
     "input": [
      "location_regex.match(\"Los Alamos, NM, USA\").groups()"
     ],
     "language": "python",
     "metadata": {},
     "outputs": [
      {
       "ename": "AttributeError",
       "evalue": "'NoneType' object has no attribute 'groups'",
       "output_type": "pyerr",
       "traceback": [
        "\u001b[0;31m---------------------------------------------------------------------------\u001b[0m\n\u001b[0;31mAttributeError\u001b[0m                            Traceback (most recent call last)",
        "\u001b[0;32m<ipython-input-22-8e96c3b593d3>\u001b[0m in \u001b[0;36m<module>\u001b[0;34m()\u001b[0m\n\u001b[0;32m----> 1\u001b[0;31m \u001b[0mlocation_regex\u001b[0m\u001b[0;34m.\u001b[0m\u001b[0mmatch\u001b[0m\u001b[0;34m(\u001b[0m\u001b[0;34m\"Los Alamos, NM, USA\"\u001b[0m\u001b[0;34m)\u001b[0m\u001b[0;34m.\u001b[0m\u001b[0mgroups\u001b[0m\u001b[0;34m(\u001b[0m\u001b[0;34m)\u001b[0m\u001b[0;34m\u001b[0m\u001b[0m\n\u001b[0m",
        "\u001b[0;31mAttributeError\u001b[0m: 'NoneType' object has no attribute 'groups'"
       ]
      }
     ],
     "prompt_number": 22
    },
    {
     "cell_type": "code",
     "collapsed": false,
     "input": [
      "def extract_city_state(loc):\n",
      "    location_regex = re.compile(r\"\\s*(.+), ([A-Z]{2})\\s*$\")\n",
      "    try:\n",
      "        match = location_regex.match(loc)\n",
      "    except TypeError:\n",
      "        match = None\n",
      "        \n",
      "    if match:\n",
      "        city, state = match.groups()\n",
      "    else:\n",
      "        city, state = (None, None)\n",
      "        \n",
      "    return city, state        "
     ],
     "language": "python",
     "metadata": {},
     "outputs": [],
     "prompt_number": 23
    },
    {
     "cell_type": "code",
     "collapsed": false,
     "input": [
      "locations = ufo.location.map(extract_city_state)"
     ],
     "language": "python",
     "metadata": {},
     "outputs": [],
     "prompt_number": 24
    },
    {
     "cell_type": "code",
     "collapsed": false,
     "input": [
      "locations[:5]"
     ],
     "language": "python",
     "metadata": {},
     "outputs": [
      {
       "metadata": {},
       "output_type": "pyout",
       "prompt_number": 25,
       "text": [
        "date_reported\n",
        "1995-10-09       (Iowa City, IA)\n",
        "1995-10-11       (Milwaukee, WI)\n",
        "1995-01-03         (Shelton, WA)\n",
        "1995-05-10        (Columbia, MO)\n",
        "1995-06-14         (Seattle, WA)\n",
        "Name: location, dtype: object"
       ]
      }
     ],
     "prompt_number": 25
    },
    {
     "cell_type": "code",
     "collapsed": false,
     "input": [
      "list(locations)[:5]"
     ],
     "language": "python",
     "metadata": {},
     "outputs": [
      {
       "metadata": {},
       "output_type": "pyout",
       "prompt_number": 26,
       "text": [
        "[('Iowa City', 'IA'),\n",
        " ('Milwaukee', 'WI'),\n",
        " ('Shelton', 'WA'),\n",
        " ('Columbia', 'MO'),\n",
        " ('Seattle', 'WA')]"
       ]
      }
     ],
     "prompt_number": 26
    },
    {
     "cell_type": "code",
     "collapsed": false,
     "input": [
      "ufo[\"city\"] = [city for city, state in locations]\n",
      "ufo[\"state\"] = [state for city, state in locations]\n",
      "ufo.head()"
     ],
     "language": "python",
     "metadata": {},
     "outputs": [
      {
       "html": [
        "<div style=\"max-height:1000px;max-width:1500px;overflow:auto;\">\n",
        "<table border=\"1\" class=\"dataframe\">\n",
        "  <thead>\n",
        "    <tr style=\"text-align: right;\">\n",
        "      <th></th>\n",
        "      <th>date_occurred</th>\n",
        "      <th>location</th>\n",
        "      <th>duration</th>\n",
        "      <th>city</th>\n",
        "      <th>state</th>\n",
        "    </tr>\n",
        "    <tr>\n",
        "      <th>date_reported</th>\n",
        "      <th></th>\n",
        "      <th></th>\n",
        "      <th></th>\n",
        "      <th></th>\n",
        "      <th></th>\n",
        "    </tr>\n",
        "  </thead>\n",
        "  <tbody>\n",
        "    <tr>\n",
        "      <th>1995-10-09</th>\n",
        "      <td> 19951009</td>\n",
        "      <td>  Iowa City, IA</td>\n",
        "      <td>    NaN</td>\n",
        "      <td> Iowa City</td>\n",
        "      <td> IA</td>\n",
        "    </tr>\n",
        "    <tr>\n",
        "      <th>1995-10-11</th>\n",
        "      <td> 19951010</td>\n",
        "      <td>  Milwaukee, WI</td>\n",
        "      <td> 2 min.</td>\n",
        "      <td> Milwaukee</td>\n",
        "      <td> WI</td>\n",
        "    </tr>\n",
        "    <tr>\n",
        "      <th>1995-01-03</th>\n",
        "      <td> 19950101</td>\n",
        "      <td>    Shelton, WA</td>\n",
        "      <td>    NaN</td>\n",
        "      <td>   Shelton</td>\n",
        "      <td> WA</td>\n",
        "    </tr>\n",
        "    <tr>\n",
        "      <th>1995-05-10</th>\n",
        "      <td> 19950510</td>\n",
        "      <td>   Columbia, MO</td>\n",
        "      <td> 2 min.</td>\n",
        "      <td>  Columbia</td>\n",
        "      <td> MO</td>\n",
        "    </tr>\n",
        "    <tr>\n",
        "      <th>1995-06-14</th>\n",
        "      <td> 19950611</td>\n",
        "      <td>    Seattle, WA</td>\n",
        "      <td>    NaN</td>\n",
        "      <td>   Seattle</td>\n",
        "      <td> WA</td>\n",
        "    </tr>\n",
        "  </tbody>\n",
        "</table>\n",
        "</div>"
       ],
       "metadata": {},
       "output_type": "pyout",
       "prompt_number": 27,
       "text": [
        "              date_occurred        location duration       city state\n",
        "date_reported                                                        \n",
        "1995-10-09         19951009   Iowa City, IA      NaN  Iowa City    IA\n",
        "1995-10-11         19951010   Milwaukee, WI   2 min.  Milwaukee    WI\n",
        "1995-01-03         19950101     Shelton, WA      NaN    Shelton    WA\n",
        "1995-05-10         19950510    Columbia, MO   2 min.   Columbia    MO\n",
        "1995-06-14         19950611     Seattle, WA      NaN    Seattle    WA"
       ]
      }
     ],
     "prompt_number": 27
    },
    {
     "cell_type": "code",
     "collapsed": false,
     "input": [
      "ufo = ufo[[\"date_occurred\", \"city\", \"state\"]]"
     ],
     "language": "python",
     "metadata": {},
     "outputs": [],
     "prompt_number": 61
    },
    {
     "cell_type": "code",
     "collapsed": false,
     "input": [
      "ufo.tail()"
     ],
     "language": "python",
     "metadata": {},
     "outputs": [
      {
       "html": [
        "<div style=\"max-height:1000px;max-width:1500px;overflow:auto;\">\n",
        "<table border=\"1\" class=\"dataframe\">\n",
        "  <thead>\n",
        "    <tr style=\"text-align: right;\">\n",
        "      <th></th>\n",
        "      <th>date_occurred</th>\n",
        "      <th>city</th>\n",
        "      <th>state</th>\n",
        "    </tr>\n",
        "    <tr>\n",
        "      <th>date_reported</th>\n",
        "      <th></th>\n",
        "      <th></th>\n",
        "      <th></th>\n",
        "    </tr>\n",
        "  </thead>\n",
        "  <tbody>\n",
        "    <tr>\n",
        "      <th>2010-08-20</th>\n",
        "      <td> 20090424</td>\n",
        "      <td>        Hartwell</td>\n",
        "      <td> GA</td>\n",
        "    </tr>\n",
        "    <tr>\n",
        "      <th>2010-08-26</th>\n",
        "      <td> 20100821</td>\n",
        "      <td> Franklin Square</td>\n",
        "      <td> NY</td>\n",
        "    </tr>\n",
        "    <tr>\n",
        "      <th>2010-08-27</th>\n",
        "      <td> 20100827</td>\n",
        "      <td>        Brighton</td>\n",
        "      <td> CO</td>\n",
        "    </tr>\n",
        "    <tr>\n",
        "      <th>2010-08-21</th>\n",
        "      <td> 20100818</td>\n",
        "      <td> Dryden (Canada)</td>\n",
        "      <td> ON</td>\n",
        "    </tr>\n",
        "    <tr>\n",
        "      <th>2010-08-24</th>\n",
        "      <td> 20050502</td>\n",
        "      <td>       Fort Knox</td>\n",
        "      <td> KY</td>\n",
        "    </tr>\n",
        "  </tbody>\n",
        "</table>\n",
        "</div>"
       ],
       "metadata": {},
       "output_type": "pyout",
       "prompt_number": 63,
       "text": [
        "              date_occurred             city state\n",
        "date_reported                                     \n",
        "2010-08-20         20090424         Hartwell    GA\n",
        "2010-08-26         20100821  Franklin Square    NY\n",
        "2010-08-27         20100827         Brighton    CO\n",
        "2010-08-21         20100818  Dryden (Canada)    ON\n",
        "2010-08-24         20050502        Fort Knox    KY"
       ]
      }
     ],
     "prompt_number": 63
    },
    {
     "cell_type": "code",
     "collapsed": false,
     "input": [
      "help(ufo.reindex)"
     ],
     "language": "python",
     "metadata": {},
     "outputs": [
      {
       "output_type": "stream",
       "stream": "stdout",
       "text": [
        "Help on method reindex in module pandas.core.frame:\n",
        "\n",
        "reindex(index=None, columns=None, **kwargs) method of pandas.core.frame.DataFrame instance\n",
        "    Conform DataFrame to new index with optional filling logic, placing\n",
        "    NA/NaN in locations having no value in the previous index. A new object\n",
        "    is produced unless the new index is equivalent to the current one and\n",
        "    copy=False\n",
        "    \n",
        "    Parameters\n",
        "    ----------\n",
        "    index, columns : array-like, optional (can be specified in order, or as\n",
        "        keywords)\n",
        "        New labels / index to conform to. Preferably an Index object to\n",
        "        avoid duplicating data\n",
        "    method : {'backfill', 'bfill', 'pad', 'ffill', None}, default None\n",
        "        Method to use for filling holes in reindexed DataFrame\n",
        "        pad / ffill: propagate last valid observation forward to next valid\n",
        "        backfill / bfill: use NEXT valid observation to fill gap\n",
        "    copy : boolean, default True\n",
        "        Return a new object, even if the passed indexes are the same\n",
        "    level : int or name\n",
        "        Broadcast across a level, matching Index values on the\n",
        "        passed MultiIndex level\n",
        "    fill_value : scalar, default np.NaN\n",
        "        Value to use for missing values. Defaults to NaN, but can be any\n",
        "        \"compatible\" value\n",
        "    limit : int, default None\n",
        "        Maximum size gap to forward or backward fill\n",
        "    \n",
        "    Examples\n",
        "    --------\n",
        "    >>> df.reindex(index=[date1, date2, date3], columns=['A', 'B', 'C'])\n",
        "    \n",
        "    Returns\n",
        "    -------\n",
        "    reindexed : DataFrame\n",
        "\n"
       ]
      }
     ],
     "prompt_number": 64
    },
    {
     "cell_type": "code",
     "collapsed": false,
     "input": [
      "ufo.date_occurred.groupby(ufo.index).count()"
     ],
     "language": "python",
     "metadata": {},
     "outputs": [
      {
       "metadata": {},
       "output_type": "pyout",
       "prompt_number": 72,
       "text": [
        "date_reported\n",
        "1905-06-23       2\n",
        "1995-01-01       3\n",
        "1995-01-02       1\n",
        "1995-01-03       8\n",
        "1995-01-04       3\n",
        "1995-01-05       4\n",
        "1995-01-06       1\n",
        "1995-01-07       4\n",
        "1995-01-08       1\n",
        "1995-01-09       2\n",
        "1995-01-10       1\n",
        "1995-01-11       1\n",
        "1995-01-12       2\n",
        "1995-01-13       2\n",
        "1995-01-14       1\n",
        "...\n",
        "2010-08-16       17\n",
        "2010-08-17       19\n",
        "2010-08-18        9\n",
        "2010-08-19       14\n",
        "2010-08-20       16\n",
        "2010-08-21       22\n",
        "2010-08-22       17\n",
        "2010-08-23       16\n",
        "2010-08-24       18\n",
        "2010-08-25       15\n",
        "2010-08-26       23\n",
        "2010-08-27       24\n",
        "2010-08-28       18\n",
        "2010-08-29       23\n",
        "2010-08-30       16\n",
        "Name: date_occurred, Length: 5306"
       ]
      }
     ],
     "prompt_number": 72
    },
    {
     "cell_type": "code",
     "collapsed": false,
     "input": [
      "ufo.date_occurred.groupby(ufo.index).count().plot()"
     ],
     "language": "python",
     "metadata": {},
     "outputs": [
      {
       "metadata": {},
       "output_type": "pyout",
       "prompt_number": 73,
       "text": [
        "<matplotlib.axes._subplots.AxesSubplot at 0x10a038668>"
       ]
      },
      {
       "metadata": {},
       "output_type": "display_data",
       "png": "[encoded data removed]",
       "text": [
        "<matplotlib.figure.Figure at 0x1096ed7f0>"
       ]
      }
     ],
     "prompt_number": 73
    },
    {
     "cell_type": "code",
     "collapsed": false,
     "input": [
      "post1990 = ufo[ufo >= datetime.date(1990, 1, 1)]"
     ],
     "language": "python",
     "metadata": {},
     "outputs": [],
     "prompt_number": 76
    },
    {
     "cell_type": "code",
     "collapsed": false,
     "input": [
      "post1990.head()"
     ],
     "language": "python",
     "metadata": {},
     "outputs": [
      {
       "html": [
        "<div style=\"max-height:1000px;max-width:1500px;overflow:auto;\">\n",
        "<table border=\"1\" class=\"dataframe\">\n",
        "  <thead>\n",
        "    <tr style=\"text-align: right;\">\n",
        "      <th></th>\n",
        "      <th>date_occurred</th>\n",
        "      <th>city</th>\n",
        "      <th>state</th>\n",
        "    </tr>\n",
        "    <tr>\n",
        "      <th>date_reported</th>\n",
        "      <th></th>\n",
        "      <th></th>\n",
        "      <th></th>\n",
        "    </tr>\n",
        "  </thead>\n",
        "  <tbody>\n",
        "    <tr>\n",
        "      <th>1995-10-09</th>\n",
        "      <td> 19951009</td>\n",
        "      <td> Iowa City</td>\n",
        "      <td> IA</td>\n",
        "    </tr>\n",
        "    <tr>\n",
        "      <th>1995-10-11</th>\n",
        "      <td> 19951010</td>\n",
        "      <td> Milwaukee</td>\n",
        "      <td> WI</td>\n",
        "    </tr>\n",
        "    <tr>\n",
        "      <th>1995-01-03</th>\n",
        "      <td> 19950101</td>\n",
        "      <td>   Shelton</td>\n",
        "      <td> WA</td>\n",
        "    </tr>\n",
        "    <tr>\n",
        "      <th>1995-05-10</th>\n",
        "      <td> 19950510</td>\n",
        "      <td>  Columbia</td>\n",
        "      <td> MO</td>\n",
        "    </tr>\n",
        "    <tr>\n",
        "      <th>1995-06-14</th>\n",
        "      <td> 19950611</td>\n",
        "      <td>   Seattle</td>\n",
        "      <td> WA</td>\n",
        "    </tr>\n",
        "  </tbody>\n",
        "</table>\n",
        "</div>"
       ],
       "metadata": {},
       "output_type": "pyout",
       "prompt_number": 77,
       "text": [
        "              date_occurred       city state\n",
        "date_reported                               \n",
        "1995-10-09         19951009  Iowa City    IA\n",
        "1995-10-11         19951010  Milwaukee    WI\n",
        "1995-01-03         19950101    Shelton    WA\n",
        "1995-05-10         19950510   Columbia    MO\n",
        "1995-06-14         19950611    Seattle    WA"
       ]
      }
     ],
     "prompt_number": 77
    },
    {
     "cell_type": "code",
     "collapsed": false,
     "input": [
      "post1990.date_occurred.groupby(post1990.index).count()"
     ],
     "language": "python",
     "metadata": {},
     "outputs": [
      {
       "metadata": {},
       "output_type": "pyout",
       "prompt_number": 81,
       "text": [
        "date_reported\n",
        "1905-06-23       2\n",
        "1995-01-01       3\n",
        "1995-01-02       1\n",
        "1995-01-03       8\n",
        "1995-01-04       3\n",
        "1995-01-05       4\n",
        "1995-01-06       1\n",
        "1995-01-07       4\n",
        "1995-01-08       1\n",
        "1995-01-09       2\n",
        "1995-01-10       1\n",
        "1995-01-11       1\n",
        "1995-01-12       2\n",
        "1995-01-13       2\n",
        "1995-01-14       1\n",
        "...\n",
        "2010-08-16       17\n",
        "2010-08-17       19\n",
        "2010-08-18        9\n",
        "2010-08-19       14\n",
        "2010-08-20       16\n",
        "2010-08-21       22\n",
        "2010-08-22       17\n",
        "2010-08-23       16\n",
        "2010-08-24       18\n",
        "2010-08-25       15\n",
        "2010-08-26       23\n",
        "2010-08-27       24\n",
        "2010-08-28       18\n",
        "2010-08-29       23\n",
        "2010-08-30       16\n",
        "Name: date_occurred, Length: 5306"
       ]
      }
     ],
     "prompt_number": 81
    },
    {
     "cell_type": "code",
     "collapsed": false,
     "input": [
      "post1990 = post1990.drop(datetime.date(1905, 6, 23), axis=0)"
     ],
     "language": "python",
     "metadata": {},
     "outputs": [],
     "prompt_number": 89
    },
    {
     "cell_type": "code",
     "collapsed": false,
     "input": [
      "post1990.date_occurred.groupby(post1990.index).count().plot()"
     ],
     "language": "python",
     "metadata": {},
     "outputs": [
      {
       "metadata": {},
       "output_type": "pyout",
       "prompt_number": 91,
       "text": [
        "<matplotlib.axes._subplots.AxesSubplot at 0x109c92550>"
       ]
      },
      {
       "metadata": {},
       "output_type": "display_data",
       "png": "[encoded data removed]",
       "text": [
        "<matplotlib.figure.Figure at 0x109df5390>"
       ]
      }
     ],
     "prompt_number": 91
    },
    {
     "cell_type": "code",
     "collapsed": false,
     "input": [
      "post1990.resample(\"Q\", how=[\"count\"]).plot()"
     ],
     "language": "python",
     "metadata": {},
     "outputs": [
      {
       "metadata": {},
       "output_type": "pyout",
       "prompt_number": 93,
       "text": [
        "<matplotlib.axes._subplots.AxesSubplot at 0x109f6e278>"
       ]
      },
      {
       "metadata": {},
       "output_type": "display_data",
       "png": "[encoded data removed]",
       "text": [
        "<matplotlib.figure.Figure at 0x109f57f28>"
       ]
      }
     ],
     "prompt_number": 93
    },
    {
     "cell_type": "code",
     "collapsed": false,
     "input": [
      "post1990.index.to_series().map(lambda d: d.weekday())"
     ],
     "language": "python",
     "metadata": {},
     "outputs": [
      {
       "metadata": {},
       "output_type": "pyout",
       "prompt_number": 115,
       "text": [
        "date_reported\n",
        "1995-10-09       0\n",
        "1995-10-11       2\n",
        "1995-01-03       1\n",
        "1995-05-10       2\n",
        "1995-06-14       2\n",
        "1995-10-24       1\n",
        "1995-04-19       2\n",
        "1995-09-11       0\n",
        "1995-02-14       1\n",
        "1995-09-15       4\n",
        "1995-02-20       0\n",
        "1995-07-24       0\n",
        "1995-06-12       0\n",
        "1995-08-23       2\n",
        "1995-04-16       6\n",
        "...\n",
        "2010-08-12       3\n",
        "2010-08-10       1\n",
        "2010-08-14       5\n",
        "2010-08-12       3\n",
        "2010-08-17       1\n",
        "2010-08-10       1\n",
        "2010-08-26       3\n",
        "2010-08-28       5\n",
        "2010-08-27       4\n",
        "2010-08-28       5\n",
        "2010-08-20       4\n",
        "2010-08-26       3\n",
        "2010-08-27       4\n",
        "2010-08-21       5\n",
        "2010-08-24       1\n",
        "Name: date_reported, Length: 61391"
       ]
      }
     ],
     "prompt_number": 115
    },
    {
     "cell_type": "code",
     "collapsed": false,
     "input": [
      "dow = [\"Su\", \"M\", \"Tu\", \"W\", \"Th\", \"F\", \"Sa\"]\n",
      "post1990[\"day_of_week\"] = post1990.index.to_series().map(lambda d: d.weekday())"
     ],
     "language": "python",
     "metadata": {},
     "outputs": [],
     "prompt_number": 123
    },
    {
     "cell_type": "code",
     "collapsed": false,
     "input": [
      "post1990.head()"
     ],
     "language": "python",
     "metadata": {},
     "outputs": [
      {
       "html": [
        "<div style=\"max-height:1000px;max-width:1500px;overflow:auto;\">\n",
        "<table border=\"1\" class=\"dataframe\">\n",
        "  <thead>\n",
        "    <tr style=\"text-align: right;\">\n",
        "      <th></th>\n",
        "      <th>date_occurred</th>\n",
        "      <th>city</th>\n",
        "      <th>state</th>\n",
        "      <th>day_of_week</th>\n",
        "    </tr>\n",
        "    <tr>\n",
        "      <th>date_reported</th>\n",
        "      <th></th>\n",
        "      <th></th>\n",
        "      <th></th>\n",
        "      <th></th>\n",
        "    </tr>\n",
        "  </thead>\n",
        "  <tbody>\n",
        "    <tr>\n",
        "      <th>1995-10-09</th>\n",
        "      <td> 19951009</td>\n",
        "      <td> Iowa City</td>\n",
        "      <td> IA</td>\n",
        "      <td> 0</td>\n",
        "    </tr>\n",
        "    <tr>\n",
        "      <th>1995-10-11</th>\n",
        "      <td> 19951010</td>\n",
        "      <td> Milwaukee</td>\n",
        "      <td> WI</td>\n",
        "      <td> 2</td>\n",
        "    </tr>\n",
        "    <tr>\n",
        "      <th>1995-01-03</th>\n",
        "      <td> 19950101</td>\n",
        "      <td>   Shelton</td>\n",
        "      <td> WA</td>\n",
        "      <td> 1</td>\n",
        "    </tr>\n",
        "    <tr>\n",
        "      <th>1995-05-10</th>\n",
        "      <td> 19950510</td>\n",
        "      <td>  Columbia</td>\n",
        "      <td> MO</td>\n",
        "      <td> 2</td>\n",
        "    </tr>\n",
        "    <tr>\n",
        "      <th>1995-06-14</th>\n",
        "      <td> 19950611</td>\n",
        "      <td>   Seattle</td>\n",
        "      <td> WA</td>\n",
        "      <td> 2</td>\n",
        "    </tr>\n",
        "  </tbody>\n",
        "</table>\n",
        "</div>"
       ],
       "metadata": {},
       "output_type": "pyout",
       "prompt_number": 124,
       "text": [
        "              date_occurred       city state  day_of_week\n",
        "date_reported                                            \n",
        "1995-10-09         19951009  Iowa City    IA            0\n",
        "1995-10-11         19951010  Milwaukee    WI            2\n",
        "1995-01-03         19950101    Shelton    WA            1\n",
        "1995-05-10         19950510   Columbia    MO            2\n",
        "1995-06-14         19950611    Seattle    WA            2"
       ]
      }
     ],
     "prompt_number": 124
    },
    {
     "cell_type": "code",
     "collapsed": false,
     "input": [
      "data = post1990.day_of_week.value_counts().sort_index()"
     ],
     "language": "python",
     "metadata": {},
     "outputs": [],
     "prompt_number": 138
    },
    {
     "cell_type": "code",
     "collapsed": false,
     "input": [
      "data.index = dow"
     ],
     "language": "python",
     "metadata": {},
     "outputs": [],
     "prompt_number": 139
    },
    {
     "cell_type": "code",
     "collapsed": false,
     "input": [
      "data.head()"
     ],
     "language": "python",
     "metadata": {},
     "outputs": [
      {
       "metadata": {},
       "output_type": "pyout",
       "prompt_number": 140,
       "text": [
        "Su    9502\n",
        "M     8996\n",
        "Tu    8629\n",
        "W     8754\n",
        "Th    8029\n",
        "dtype: int64"
       ]
      }
     ],
     "prompt_number": 140
    },
    {
     "cell_type": "code",
     "collapsed": false,
     "input": [
      "data.plot(ylim=(0, 10000))"
     ],
     "language": "python",
     "metadata": {},
     "outputs": [
      {
       "metadata": {},
       "output_type": "pyout",
       "prompt_number": 145,
       "text": [
        "<matplotlib.axes._subplots.AxesSubplot at 0x10c3326d8>"
       ]
      },
      {
       "metadata": {},
       "output_type": "display_data",
       "png": "[encoded data removed]",
       "text": [
        "<matplotlib.figure.Figure at 0x10c36d7b8>"
       ]
      }
     ],
     "prompt_number": 145
    },
    {
     "cell_type": "code",
     "collapsed": false,
     "input": [
      "data.plot(kind=\"pie\")"
     ],
     "language": "python",
     "metadata": {},
     "outputs": [
      {
       "metadata": {},
       "output_type": "pyout",
       "prompt_number": 144,
       "text": [
        "<matplotlib.axes._subplots.AxesSubplot at 0x10c3378d0>"
       ]
      },
      {
       "metadata": {},
       "output_type": "display_data",
       "png": "[encoded data removed]",
       "text": [
        "<matplotlib.figure.Figure at 0x10c346f28>"
       ]
      }
     ],
     "prompt_number": 144
    },
    {
     "cell_type": "code",
     "collapsed": false,
     "input": [
      "type(data)"
     ],
     "language": "python",
     "metadata": {},
     "outputs": [
      {
       "metadata": {},
       "output_type": "pyout",
       "prompt_number": 146,
       "text": [
        "pandas.core.series.Series"
       ]
      }
     ],
     "prompt_number": 146
    },
    {
     "cell_type": "code",
     "collapsed": false,
     "input": [
      "isinstance(data, np.ndarray)"
     ],
     "language": "python",
     "metadata": {},
     "outputs": [
      {
       "metadata": {},
       "output_type": "pyout",
       "prompt_number": 148,
       "text": [
        "False"
       ]
      }
     ],
     "prompt_number": 148
    },
    {
     "cell_type": "code",
     "collapsed": false,
     "input": [
      "np.array(data)"
     ],
     "language": "python",
     "metadata": {},
     "outputs": [
      {
       "metadata": {},
       "output_type": "pyout",
       "prompt_number": 150,
       "text": [
        "array([9502, 8996, 8629, 8754, 8029, 8486, 8995])"
       ]
      }
     ],
     "prompt_number": 150
    },
    {
     "cell_type": "code",
     "collapsed": false,
     "input": [],
     "language": "python",
     "metadata": {},
     "outputs": []
    }
   ],
   "metadata": {}
  }
 ]
}