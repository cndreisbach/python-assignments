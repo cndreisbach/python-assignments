{
 "metadata": {
  "name": "",
  "signature": "sha256:1783212de5b5de1252c9bac52bbe1536be58f0ce32bab7ace426ea0355c8b7d3"
 },
 "nbformat": 3,
 "nbformat_minor": 0,
 "worksheets": []
}