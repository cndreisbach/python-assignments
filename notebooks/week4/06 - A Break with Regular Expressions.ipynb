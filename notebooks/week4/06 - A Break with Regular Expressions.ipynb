{
 "metadata": {
  "name": "",
  "signature": "sha256:68adb570a44c8570d67f6fd985126394e65237ed1c72a338ecef3ae9a262733f"
 },
 "nbformat": 3,
 "nbformat_minor": 0,
 "worksheets": [
  {
   "cells": [
    {
     "cell_type": "markdown",
     "metadata": {},
     "source": [
      "Regular expressions (regexes) are, when you understand them, one of the most fun things you can work with in programming. They are a mini-language for matching text.\n",
      "\n",
      "The first thing to know is that non-special characters match themselves in text."
     ]
    },
    {
     "cell_type": "code",
     "collapsed": true,
     "input": [
      "import re\n",
      "help(re.search)"
     ],
     "language": "python",
     "metadata": {},
     "outputs": [
      {
       "output_type": "stream",
       "stream": "stdout",
       "text": [
        "Help on function search in module re:\n",
        "\n",
        "search(pattern, string, flags=0)\n",
        "    Scan through string looking for a match to the pattern, returning\n",
        "    a match object, or None if no match was found.\n",
        "\n"
       ]
      }
     ],
     "prompt_number": 2
    },
    {
     "cell_type": "code",
     "collapsed": false,
     "input": [
      "re.search(r\"e\", \"hello\")"
     ],
     "language": "python",
     "metadata": {},
     "outputs": [
      {
       "metadata": {},
       "output_type": "pyout",
       "prompt_number": 3,
       "text": [
        "<_sre.SRE_Match object; span=(1, 2), match='e'>"
       ]
      }
     ],
     "prompt_number": 3
    },
    {
     "cell_type": "code",
     "collapsed": false,
     "input": [
      "re.search(r\"l\", \"hello\")"
     ],
     "language": "python",
     "metadata": {},
     "outputs": [
      {
       "metadata": {},
       "output_type": "pyout",
       "prompt_number": 4,
       "text": [
        "<_sre.SRE_Match object; span=(2, 3), match='l'>"
       ]
      }
     ],
     "prompt_number": 4
    },
    {
     "cell_type": "markdown",
     "metadata": {},
     "source": [
      "You can match more than one letter, of course."
     ]
    },
    {
     "cell_type": "code",
     "collapsed": false,
     "input": [
      "sentence = (\"A symmetry of a pattern is, loosely speaking, a way of transforming \"\n",
      "            \"the pattern so that the pattern looks exactly the same after the \"\n",
      "            \"transformation.\")"
     ],
     "language": "python",
     "metadata": {},
     "outputs": [],
     "prompt_number": 5
    },
    {
     "cell_type": "code",
     "collapsed": false,
     "input": [
      "re.search(r\"pattern\", sentence)"
     ],
     "language": "python",
     "metadata": {},
     "outputs": [
      {
       "metadata": {},
       "output_type": "pyout",
       "prompt_number": 6,
       "text": [
        "<_sre.SRE_Match object; span=(16, 23), match='pattern'>"
       ]
      }
     ],
     "prompt_number": 6
    },
    {
     "cell_type": "markdown",
     "metadata": {},
     "source": [
      "`re.search` gives us a match object that has many methods, but only finds the first match.\n",
      "\n",
      "`re.findall` gives us a list of all matches."
     ]
    },
    {
     "cell_type": "code",
     "collapsed": false,
     "input": [
      "re.findall(r\"pattern\", sentence)"
     ],
     "language": "python",
     "metadata": {},
     "outputs": [
      {
       "metadata": {},
       "output_type": "pyout",
       "prompt_number": 7,
       "text": [
        "['pattern', 'pattern', 'pattern']"
       ]
      }
     ],
     "prompt_number": 7
    },
    {
     "cell_type": "code",
     "collapsed": false,
     "input": [
      "re.findall(r\"at\", sentence)"
     ],
     "language": "python",
     "metadata": {},
     "outputs": [
      {
       "metadata": {},
       "output_type": "pyout",
       "prompt_number": 8,
       "text": [
        "['at', 'at', 'at', 'at', 'at']"
       ]
      }
     ],
     "prompt_number": 8
    },
    {
     "cell_type": "markdown",
     "metadata": {},
     "source": [
      "## Matching anything\n",
      "\n",
      "The `.` (period) character matches anything (except a newline). We can use this to find strings that match wildcards, like \"a double-o followed by any character.\""
     ]
    },
    {
     "cell_type": "code",
     "collapsed": false,
     "input": [
      "re.search(r\"oo.\", sentence)"
     ],
     "language": "python",
     "metadata": {},
     "outputs": [
      {
       "metadata": {},
       "output_type": "pyout",
       "prompt_number": 41,
       "text": [
        "<_sre.SRE_Match object; span=(29, 32), match='oos'>"
       ]
      }
     ],
     "prompt_number": 41
    },
    {
     "cell_type": "markdown",
     "metadata": {},
     "source": [
      "See how the match is \"oos\"."
     ]
    },
    {
     "cell_type": "code",
     "collapsed": false,
     "input": [
      "re.findall(r\".at.\", sentence)"
     ],
     "language": "python",
     "metadata": {},
     "outputs": [
      {
       "metadata": {},
       "output_type": "pyout",
       "prompt_number": 10,
       "text": [
        "['patt', 'patt', 'hat ', 'patt', 'mati']"
       ]
      }
     ],
     "prompt_number": 10
    },
    {
     "cell_type": "code",
     "collapsed": false,
     "input": [
      "re.search(r\"\\.\", sentence)"
     ],
     "language": "python",
     "metadata": {},
     "outputs": [
      {
       "metadata": {},
       "output_type": "pyout",
       "prompt_number": 14,
       "text": [
        "<_sre.SRE_Match object; span=(147, 148), match='.'>"
       ]
      }
     ],
     "prompt_number": 14
    },
    {
     "cell_type": "code",
     "collapsed": false,
     "input": [
      "# Case-insensitive matching\n",
      "print(re.findall(r\"h\", \"Hello there! How many I help you?\"))\n",
      "print(re.findall(r\"h\", \"Hello there! How many I help you?\", re.IGNORECASE))"
     ],
     "language": "python",
     "metadata": {},
     "outputs": [
      {
       "output_type": "stream",
       "stream": "stdout",
       "text": [
        "['h', 'h']\n",
        "['H', 'h', 'H', 'h']\n"
       ]
      }
     ],
     "prompt_number": 19
    },
    {
     "cell_type": "markdown",
     "metadata": {},
     "source": [
      "## What can I do with a match object?"
     ]
    },
    {
     "cell_type": "code",
     "collapsed": false,
     "input": [
      "match = re.search(\"pattern\", sentence)\n",
      "help(match)"
     ],
     "language": "python",
     "metadata": {},
     "outputs": [
      {
       "output_type": "stream",
       "stream": "stdout",
       "text": [
        "Help on SRE_Match object:\n",
        "\n",
        "class SRE_Match(builtins.object)\n",
        " |  The result of re.match() and re.search().\n",
        " |  Match objects always have a boolean value of True.\n",
        " |  \n",
        " |  Methods defined here:\n",
        " |  \n",
        " |  __copy__(...)\n",
        " |  \n",
        " |  __deepcopy__(...)\n",
        " |  \n",
        " |  __repr__(self, /)\n",
        " |      Return repr(self).\n",
        " |  \n",
        " |  end(...)\n",
        " |      end([group=0]) -> int.\n",
        " |      Return index of the end of the substring matched by group.\n",
        " |  \n",
        " |  expand(...)\n",
        " |      expand(template) -> str.\n",
        " |      Return the string obtained by doing backslash substitution\n",
        " |      on the string template, as done by the sub() method.\n",
        " |  \n",
        " |  group(...)\n",
        " |      group([group1, ...]) -> str or tuple.\n",
        " |      Return subgroup(s) of the match by indices or names.\n",
        " |      For 0 returns the entire match.\n",
        " |  \n",
        " |  groupdict(...)\n",
        " |      groupdict([default=None]) -> dict.\n",
        " |      Return a dictionary containing all the named subgroups of the match,\n",
        " |      keyed by the subgroup name. The default argument is used for groups\n",
        " |      that did not participate in the match\n",
        " |  \n",
        " |  groups(...)\n",
        " |      groups([default=None]) -> tuple.\n",
        " |      Return a tuple containing all the subgroups of the match, from 1.\n",
        " |      The default argument is used for groups\n",
        " |      that did not participate in the match\n",
        " |  \n",
        " |  span(...)\n",
        " |      span([group]) -> tuple.\n",
        " |      For MatchObject m, return the 2-tuple (m.start(group), m.end(group)).\n",
        " |  \n",
        " |  start(...)\n",
        " |      start([group=0]) -> int.\n",
        " |      Return index of the start of the substring matched by group.\n",
        " |  \n",
        " |  ----------------------------------------------------------------------\n",
        " |  Data descriptors defined here:\n",
        " |  \n",
        " |  endpos\n",
        " |  \n",
        " |  lastgroup\n",
        " |  \n",
        " |  lastindex\n",
        " |  \n",
        " |  pos\n",
        " |  \n",
        " |  re\n",
        " |  \n",
        " |  regs\n",
        " |  \n",
        " |  string\n",
        "\n"
       ]
      }
     ],
     "prompt_number": 16
    },
    {
     "cell_type": "markdown",
     "metadata": {},
     "source": [
      "## Start and end matches\n",
      "\n",
      "You often want to match something if and only if it is at the beginning or end of a string.\n",
      "\n",
      "`^` matches the beginning of a string.\n",
      "\n",
      "`$` matches the end of a string."
     ]
    },
    {
     "cell_type": "code",
     "collapsed": false,
     "input": [
      "re.search(r\"^A \", sentence)"
     ],
     "language": "python",
     "metadata": {},
     "outputs": [
      {
       "metadata": {},
       "output_type": "pyout",
       "prompt_number": 42,
       "text": [
        "<_sre.SRE_Match object; span=(0, 2), match='A '>"
       ]
      }
     ],
     "prompt_number": 42
    },
    {
     "cell_type": "code",
     "collapsed": false,
     "input": [
      "print(re.search(r\"^pattern\", sentence))"
     ],
     "language": "python",
     "metadata": {},
     "outputs": [
      {
       "output_type": "stream",
       "stream": "stdout",
       "text": [
        "None\n"
       ]
      }
     ],
     "prompt_number": 15
    },
    {
     "cell_type": "markdown",
     "metadata": {},
     "source": [
      "If I want to match the end of this string, I have to match a period."
     ]
    },
    {
     "cell_type": "code",
     "collapsed": false,
     "input": [
      "re.search(r\"n.$\", sentence)"
     ],
     "language": "python",
     "metadata": {},
     "outputs": [
      {
       "metadata": {},
       "output_type": "pyout",
       "prompt_number": 21,
       "text": [
        "<_sre.SRE_Match object; span=(146, 148), match='n.'>"
       ]
      }
     ],
     "prompt_number": 21
    },
    {
     "cell_type": "code",
     "collapsed": false,
     "input": [
      "re.search(r\"n.$\", \"I like singing\")"
     ],
     "language": "python",
     "metadata": {},
     "outputs": [
      {
       "metadata": {},
       "output_type": "pyout",
       "prompt_number": 23,
       "text": [
        "<_sre.SRE_Match object; span=(12, 14), match='ng'>"
       ]
      }
     ],
     "prompt_number": 23
    },
    {
     "cell_type": "markdown",
     "metadata": {},
     "source": [
      "What happened here? `.` matches anything, so I have to _escape_ it to match just a period."
     ]
    },
    {
     "cell_type": "code",
     "collapsed": false,
     "input": [
      "re.search(r\"n\\.$\", sentence)"
     ],
     "language": "python",
     "metadata": {},
     "outputs": [
      {
       "metadata": {},
       "output_type": "pyout",
       "prompt_number": 47,
       "text": [
        "<_sre.SRE_Match object; span=(146, 148), match='n.'>"
       ]
      }
     ],
     "prompt_number": 47
    },
    {
     "cell_type": "code",
     "collapsed": false,
     "input": [
      "re.search(r\"n\\.$\", \"I like singing\")"
     ],
     "language": "python",
     "metadata": {},
     "outputs": [],
     "prompt_number": 48
    },
    {
     "cell_type": "markdown",
     "metadata": {},
     "source": [
      "## Matching multiples\n",
      "\n",
      "Often, you want to match a multiple amount of something. Whether it's 0 or more, 1 or more, 0 or 1, or something else, we've got you covered.\n",
      "\n",
      "* `*` matches 0 or more.\n",
      "* `+` matches 1 or more.\n",
      "* `?` matches 0 or 1.\n",
      "* `{n}` matches `n` repetitions.\n",
      "* `{m,n}` matches `m` to `n` repetitions. You can leave out `m` or `n` to match 0 to `n`, or `m` to infinity."
     ]
    },
    {
     "cell_type": "code",
     "collapsed": false,
     "input": [
      "re.findall(r\"o+\", sentence)"
     ],
     "language": "python",
     "metadata": {},
     "outputs": [
      {
       "metadata": {},
       "output_type": "pyout",
       "prompt_number": 49,
       "text": [
        "['o', 'oo', 'o', 'o', 'o', 'oo', 'o', 'o']"
       ]
      }
     ],
     "prompt_number": 49
    },
    {
     "cell_type": "code",
     "collapsed": false,
     "input": [
      "re.findall(r\"ng? \", sentence)"
     ],
     "language": "python",
     "metadata": {},
     "outputs": [
      {
       "metadata": {},
       "output_type": "pyout",
       "prompt_number": 50,
       "text": [
        "['n ', 'ng ', 'n ', 'n ']"
       ]
      }
     ],
     "prompt_number": 50
    },
    {
     "cell_type": "code",
     "collapsed": false,
     "input": [
      "no_a = \"b\"\n",
      "one_a = \"ab\"\n",
      "lots_of_a = \"aaaaaaaaaaaab\""
     ],
     "language": "python",
     "metadata": {},
     "outputs": [],
     "prompt_number": 24
    },
    {
     "cell_type": "code",
     "collapsed": false,
     "input": [
      "print(re.search(r\"a*b\", no_a))\n",
      "print(re.search(r\"a*b\", one_a))\n",
      "print(re.search(r\"a*b\", lots_of_a))"
     ],
     "language": "python",
     "metadata": {},
     "outputs": [
      {
       "output_type": "stream",
       "stream": "stdout",
       "text": [
        "<_sre.SRE_Match object; span=(0, 1), match='b'>\n",
        "<_sre.SRE_Match object; span=(0, 2), match='ab'>\n",
        "<_sre.SRE_Match object; span=(0, 13), match='aaaaaaaaaaaab'>\n"
       ]
      }
     ],
     "prompt_number": 25
    },
    {
     "cell_type": "code",
     "collapsed": false,
     "input": [
      "print(re.search(r\"a+b\", no_a))\n",
      "print(re.search(r\"a+b\", one_a))\n",
      "print(re.search(r\"a+b\", lots_of_a))"
     ],
     "language": "python",
     "metadata": {},
     "outputs": [
      {
       "output_type": "stream",
       "stream": "stdout",
       "text": [
        "None\n",
        "<_sre.SRE_Match object; span=(0, 2), match='ab'>\n",
        "<_sre.SRE_Match object; span=(0, 13), match='aaaaaaaaaaaab'>\n"
       ]
      }
     ],
     "prompt_number": 53
    },
    {
     "cell_type": "code",
     "collapsed": false,
     "input": [
      "print(re.search(\"a?b\", no_a))\n",
      "print(re.search(\"a?b\", one_a))\n",
      "print(re.search(\"a?b\", lots_of_a))"
     ],
     "language": "python",
     "metadata": {},
     "outputs": [
      {
       "output_type": "stream",
       "stream": "stdout",
       "text": [
        "<_sre.SRE_Match object; span=(0, 1), match='b'>\n",
        "<_sre.SRE_Match object; span=(0, 2), match='ab'>\n",
        "<_sre.SRE_Match object; span=(11, 13), match='ab'>\n"
       ]
      }
     ],
     "prompt_number": 54
    },
    {
     "cell_type": "code",
     "collapsed": false,
     "input": [
      "print(re.search(\"a{2}b\", no_a))\n",
      "print(re.search(\"a{2}b\", one_a))\n",
      "print(re.search(\"a{2}b\", lots_of_a))"
     ],
     "language": "python",
     "metadata": {},
     "outputs": [
      {
       "output_type": "stream",
       "stream": "stdout",
       "text": [
        "None\n",
        "None\n",
        "<_sre.SRE_Match object; span=(10, 13), match='aab'>\n"
       ]
      }
     ],
     "prompt_number": 55
    },
    {
     "cell_type": "code",
     "collapsed": false,
     "input": [
      "print(re.search(\"a{1,2}b\", no_a))\n",
      "print(re.search(\"a{1,2}b\", one_a))\n",
      "print(re.search(\"a{1,2}b\", lots_of_a))"
     ],
     "language": "python",
     "metadata": {},
     "outputs": [
      {
       "output_type": "stream",
       "stream": "stdout",
       "text": [
        "None\n",
        "<_sre.SRE_Match object; span=(0, 2), match='ab'>\n",
        "<_sre.SRE_Match object; span=(10, 13), match='aab'>\n"
       ]
      }
     ],
     "prompt_number": 56
    },
    {
     "cell_type": "code",
     "collapsed": false,
     "input": [
      "print(re.search(\"a{1,}b\", no_a))\n",
      "print(re.search(\"a{1,}b\", one_a))\n",
      "print(re.search(\"a{1,}b\", lots_of_a))"
     ],
     "language": "python",
     "metadata": {},
     "outputs": [
      {
       "output_type": "stream",
       "stream": "stdout",
       "text": [
        "None\n",
        "<_sre.SRE_Match object; span=(0, 2), match='ab'>\n",
        "<_sre.SRE_Match object; span=(0, 13), match='aaaaaaaaaaaab'>\n"
       ]
      }
     ],
     "prompt_number": 57
    },
    {
     "cell_type": "code",
     "collapsed": false,
     "input": [
      "print(re.search(\"a{,2}b\", no_a))\n",
      "print(re.search(\"a{,2}b\", one_a))\n",
      "print(re.search(\"a{,2}b\", lots_of_a))"
     ],
     "language": "python",
     "metadata": {},
     "outputs": [
      {
       "output_type": "stream",
       "stream": "stdout",
       "text": [
        "<_sre.SRE_Match object; span=(0, 1), match='b'>\n",
        "<_sre.SRE_Match object; span=(0, 2), match='ab'>\n",
        "<_sre.SRE_Match object; span=(10, 13), match='aab'>\n"
       ]
      }
     ],
     "prompt_number": 58
    },
    {
     "cell_type": "code",
     "collapsed": false,
     "input": [
      "re.findall(r\"a?b\", \"ababb\")"
     ],
     "language": "python",
     "metadata": {},
     "outputs": [
      {
       "metadata": {},
       "output_type": "pyout",
       "prompt_number": 26,
       "text": [
        "['ab', 'ab', 'b']"
       ]
      }
     ],
     "prompt_number": 26
    },
    {
     "cell_type": "code",
     "collapsed": false,
     "input": [
      "# Find 2 instances of ab\n",
      "re.search(r\"(a+b){2}\", \"abaaaabaab\")"
     ],
     "language": "python",
     "metadata": {},
     "outputs": [
      {
       "metadata": {},
       "output_type": "pyout",
       "prompt_number": 29,
       "text": [
        "<_sre.SRE_Match object; span=(0, 7), match='abaaaab'>"
       ]
      }
     ],
     "prompt_number": 29
    },
    {
     "cell_type": "markdown",
     "metadata": {},
     "source": [
      "## Matching sets of things\n",
      "\n",
      "All the above is good, but not that useful by itself. Being able to match a group of characters is super-useful.\n",
      "\n",
      "We use square brackets to do this.\n",
      "\n",
      "* `[abz]` will match an a, b, or z.\n",
      "* `[A-Z]` matches a range of letters from A to Z.\n",
      "* `[^A-Z]` matches anything that _isn't_ A to Z."
     ]
    },
    {
     "cell_type": "code",
     "collapsed": false,
     "input": [
      "# Get words three to five letters long\n",
      "re.findall(r\" [A-Za-z]{3,5} \", sentence)"
     ],
     "language": "python",
     "metadata": {},
     "outputs": [
      {
       "metadata": {},
       "output_type": "pyout",
       "prompt_number": 30,
       "text": [
        "[' way ', ' the ', ' that ', ' looks ', ' the ', ' after ']"
       ]
      }
     ],
     "prompt_number": 30
    },
    {
     "cell_type": "code",
     "collapsed": false,
     "input": [
      "# Find the first number in a string\n",
      "re.search(r\"[0-9]+\", \"I ate 130 ghost peppers\")"
     ],
     "language": "python",
     "metadata": {},
     "outputs": [
      {
       "metadata": {},
       "output_type": "pyout",
       "prompt_number": 31,
       "text": [
        "<_sre.SRE_Match object; span=(6, 9), match='130'>"
       ]
      }
     ],
     "prompt_number": 31
    },
    {
     "cell_type": "code",
     "collapsed": false,
     "input": [
      "# Find all punctuation\n",
      "re.findall(r\"[\\.,;?!]\", sentence)"
     ],
     "language": "python",
     "metadata": {},
     "outputs": [
      {
       "metadata": {},
       "output_type": "pyout",
       "prompt_number": 37,
       "text": [
        "[',', ',', '.']"
       ]
      }
     ],
     "prompt_number": 37
    },
    {
     "cell_type": "code",
     "collapsed": false,
     "input": [
      "# or\n",
      "re.findall(r\"[^A-Za-z0-9 ]\", sentence)"
     ],
     "language": "python",
     "metadata": {},
     "outputs": [
      {
       "metadata": {},
       "output_type": "pyout",
       "prompt_number": 38,
       "text": [
        "[',', ',', '.']"
       ]
      }
     ],
     "prompt_number": 38
    },
    {
     "cell_type": "code",
     "collapsed": false,
     "input": [
      "# Find a phone number\n",
      "re.search(r\"[0-9]{3}-[0-9]{3}-[0-9]{4}\", \"My phone number is 919-555-1212.\")"
     ],
     "language": "python",
     "metadata": {},
     "outputs": [
      {
       "metadata": {},
       "output_type": "pyout",
       "prompt_number": 66,
       "text": [
        "<_sre.SRE_Match object; span=(19, 31), match='919-555-1212'>"
       ]
      }
     ],
     "prompt_number": 66
    },
    {
     "cell_type": "markdown",
     "metadata": {},
     "source": [
      "## Character classes\n",
      "\n",
      "That last match was pretty wordy. Luckily, we have something called _character classes_ for commonly used groups of characters.\n",
      "\n",
      "* `\\d` matches digits.\n",
      "* `\\D` matches _non_-digits.\n",
      "* `\\w` matches \"word characters\": basically `[a-zA-Z0-9_]`, plus all other valid Unicode characters that can be in words.\n",
      "* `\\W` matches _non_-word-characters.\n",
      "* `\\s` matches space characters -- `[ \\t\\n\\r\\f\\v]`.\n",
      "* `\\S` matches non-space characters."
     ]
    },
    {
     "cell_type": "code",
     "collapsed": false,
     "input": [
      "# Find a phone number\n",
      "re.search(r\"\\d{3}-\\d{3}-\\d{4}\", \"My phone number is 919-555-1212.\")"
     ],
     "language": "python",
     "metadata": {},
     "outputs": [
      {
       "metadata": {},
       "output_type": "pyout",
       "prompt_number": 67,
       "text": [
        "<_sre.SRE_Match object; span=(19, 31), match='919-555-1212'>"
       ]
      }
     ],
     "prompt_number": 67
    },
    {
     "cell_type": "code",
     "collapsed": false,
     "input": [
      "# Find all punctuation\n",
      "re.findall(r\"[^\\w\\s]\", sentence)"
     ],
     "language": "python",
     "metadata": {},
     "outputs": [
      {
       "metadata": {},
       "output_type": "pyout",
       "prompt_number": 77,
       "text": [
        "[',', ',', '.']"
       ]
      }
     ],
     "prompt_number": 77
    },
    {
     "cell_type": "markdown",
     "metadata": {},
     "source": [
      "There's a few odder ones:\n",
      "\n",
      "* `\\A` matches the beginning of the string. This is a lot like `^`, but different for multi-line strings.\n",
      "* `\\Z` matches the end of the string. This is a lot like `$`, but different for multi-line strings.\n",
      "* `\\b` matches a word boundary. This means it matches an empty string at the end of a word."
     ]
    },
    {
     "cell_type": "code",
     "collapsed": false,
     "input": [
      "# Get words three to five letters long\n",
      "re.findall(r\"\\b\\w{3,5}\\b\", sentence)"
     ],
     "language": "python",
     "metadata": {},
     "outputs": [
      {
       "metadata": {},
       "output_type": "pyout",
       "prompt_number": 75,
       "text": [
        "['way', 'the', 'that', 'the', 'looks', 'the', 'same', 'after', 'the']"
       ]
      }
     ],
     "prompt_number": 75
    },
    {
     "cell_type": "code",
     "collapsed": false,
     "input": [
      "# Pick out email addresses\n",
      "possible_emails = [\"clinton\", \"clinton@dreisbach.us\", \"beanguy@example.org\", \n",
      "                   \"Email help@example.org for more information\",\n",
      "                   \"terry@example.org\", \"@carmen\", \"what@what\", \"hi@example.org\"]\n",
      "[possibility \n",
      " for possibility in possible_emails \n",
      " if re.search(\"\\A\\w+@\\w+\\.\\w{2,3}\\Z\", possibility)]"
     ],
     "language": "python",
     "metadata": {},
     "outputs": [
      {
       "metadata": {},
       "output_type": "pyout",
       "prompt_number": 41,
       "text": [
        "['clinton@dreisbach.us',\n",
        " 'beanguy@example.org',\n",
        " 'terry@example.org',\n",
        " 'hi@example.org']"
       ]
      }
     ],
     "prompt_number": 41
    },
    {
     "cell_type": "markdown",
     "metadata": {},
     "source": [
      "Note that a regex for emails is more complex than this. It's not that hard, though:\n",
      "\n",
      "```\n",
      "[a-z0-9!#$%&'*+/=?^_`{|}~-]+(?:\\.[a-z0-9!#$%&'*+/=?^_`{|}~-]+)*@\n",
      "(?:[a-z0-9](?:[a-z0-9-]*[a-z0-9])?\\.)+[a-z0-9](?:[a-z0-9-]*[a-z0-9])?\n",
      "```"
     ]
    },
    {
     "cell_type": "markdown",
     "metadata": {},
     "source": [
      "## Capturing matches\n",
      "\n",
      "We often want to capture part of a match for later use. You can use parentheses to mark part of your regex as something you will capture."
     ]
    },
    {
     "cell_type": "code",
     "collapsed": false,
     "input": [
      "# city and state\n",
      "possibilities = [\"Decatur, GA\", \"Wilkesboro, NC\", \"Seattle\", \"Wichita Falls, TX\", \"DC\"]\n",
      "for possibility in possibilities:\n",
      "    match = re.search(\"^([\\w\\s]+), ([A-Z]{2})\", possibility)\n",
      "    if match:\n",
      "        city, state = match.groups()\n",
      "        print(\"City:\", city, \"| State:\", state)"
     ],
     "language": "python",
     "metadata": {},
     "outputs": [
      {
       "output_type": "stream",
       "stream": "stdout",
       "text": [
        "City: Decatur | State: GA\n",
        "City: Wilkesboro | State: NC\n",
        "City: Wichita Falls | State: TX\n"
       ]
      }
     ],
     "prompt_number": 83
    },
    {
     "cell_type": "code",
     "collapsed": false,
     "input": [
      "# Re-format phone numbers for later\n",
      "phone_nums = [\"999-555-1212\", \"(703) 555-9999\", \"800.555.7341\", \"3145558286\"]\n",
      "cleaned = []\n",
      "for num in phone_nums:\n",
      "    match = re.search(r\"\\(?(\\d{3})\\)?[-.]?\\s*(\\d{3})[\\-\\.]?(\\d{4})\", num)\n",
      "    cleaned.append(\"{}-{}-{}\".format(*match.groups()))\n",
      "print(cleaned)"
     ],
     "language": "python",
     "metadata": {},
     "outputs": [
      {
       "output_type": "stream",
       "stream": "stdout",
       "text": [
        "['999-555-1212', '703-555-9999', '800-555-7341', '314-555-8286']\n"
       ]
      }
     ],
     "prompt_number": 42
    },
    {
     "cell_type": "markdown",
     "metadata": {},
     "source": [
      "## Non-capturing group\n",
      "\n",
      "Use `(?:)` to make a group but not capture it."
     ]
    },
    {
     "cell_type": "code",
     "collapsed": false,
     "input": [
      "phone_num_with_possible_area_code = r\"(?:\\(?(\\d{3})\\)?[-.]?\\s*)?(\\d{3})[\\-\\.]?(\\d{4})\"\n",
      "phone_nums = [\"999-555-1212\", \"(703) 555-9999\", \"800.555.7341\", \"3145558286\", \"555-1212\"]\n",
      "cleaned = []\n",
      "for num in phone_nums:\n",
      "    match = re.search(phone_num_with_possible_area_code, num)\n",
      "    cleaned.append(\"{}-{}-{}\".format(*match.groups()))\n",
      "print(cleaned)"
     ],
     "language": "python",
     "metadata": {},
     "outputs": [
      {
       "output_type": "stream",
       "stream": "stdout",
       "text": [
        "['999-555-1212', '703-555-9999', '800-555-7341', '314-555-8286', 'None-555-1212']\n"
       ]
      }
     ],
     "prompt_number": 43
    },
    {
     "cell_type": "code",
     "collapsed": false,
     "input": [
      "re.search(r\"(?:ab)+\", \"ccccababababcccccab\")"
     ],
     "language": "python",
     "metadata": {},
     "outputs": [
      {
       "metadata": {},
       "output_type": "pyout",
       "prompt_number": 48,
       "text": [
        "<_sre.SRE_Match object; span=(4, 12), match='abababab'>"
       ]
      }
     ],
     "prompt_number": 48
    },
    {
     "cell_type": "markdown",
     "metadata": {},
     "source": [
      "## Scratching the surface\n",
      "\n",
      "This is just the beginning with regular expressions. You can go really deep down this hole.\n",
      "\n",
      "* [Python regex docs](https://docs.python.org/3/library/re.html)\n",
      "* [Regexr](http://www.regexr.com/)\n",
      "* [Regex One](http://regexone.com/)\n",
      "* [Regular-Expressions.info](http://www.regular-expressions.info/)\n"
     ]
    },
    {
     "cell_type": "code",
     "collapsed": false,
     "input": [
      "# Pick out email addresses\n",
      "possible_emails = [\"clinton\", \"clinton@dreisbach.us\", \"beanguy@example.org\", \n",
      "                   \"Email help@example.org for more information\",\n",
      "                   \"terry@example.org\", \"@carmen\", \"what@what\", \"hi@example.org\"]\n",
      "emails = []\n",
      "for possibility in possible_emails:\n",
      "    match = re.search(\"\\w+@\\w+\\.\\w{2,3}\", possibility)\n",
      "    if match:\n",
      "        emails.append(match.group(0))\n",
      "emails"
     ],
     "language": "python",
     "metadata": {},
     "outputs": [
      {
       "metadata": {},
       "output_type": "pyout",
       "prompt_number": 52,
       "text": [
        "['clinton@dreisbach.us',\n",
        " 'beanguy@example.org',\n",
        " 'help@example.org',\n",
        " 'terry@example.org',\n",
        " 'hi@example.org']"
       ]
      }
     ],
     "prompt_number": 52
    },
    {
     "cell_type": "code",
     "collapsed": false,
     "input": [],
     "language": "python",
     "metadata": {},
     "outputs": []
    },
    {
     "cell_type": "code",
     "collapsed": false,
     "input": [
      "for match in re.finditer(r\"a*b\", \"ccccabaabcccaaaaaababccb\"):\n",
      "    print(match)"
     ],
     "language": "python",
     "metadata": {},
     "outputs": [
      {
       "output_type": "stream",
       "stream": "stdout",
       "text": [
        "<_sre.SRE_Match object; span=(4, 6), match='ab'>\n",
        "<_sre.SRE_Match object; span=(6, 9), match='aab'>\n",
        "<_sre.SRE_Match object; span=(12, 19), match='aaaaaab'>\n",
        "<_sre.SRE_Match object; span=(19, 21), match='ab'>\n",
        "<_sre.SRE_Match object; span=(23, 24), match='b'>\n"
       ]
      }
     ],
     "prompt_number": 51
    }
   ],
   "metadata": {}
  }
 ]
}