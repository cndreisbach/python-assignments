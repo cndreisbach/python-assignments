{
 "metadata": {
  "name": "",
  "signature": "sha256:079f083a01983da5fb2f83e2442cd175ed03ce54d2b5d609baee832576fd09b8"
 },
 "nbformat": 3,
 "nbformat_minor": 0,
 "worksheets": [
  {
   "cells": [
    {
     "cell_type": "markdown",
     "metadata": {},
     "source": [
      "Read in the text of _Frankenstein_.\n",
      "\n",
      "Get all words > 3 character long.\n",
      "\n",
      "Get the word frequency."
     ]
    },
    {
     "cell_type": "code",
     "collapsed": false,
     "input": [],
     "language": "python",
     "metadata": {},
     "outputs": []
    }
   ],
   "metadata": {}
  }
 ]
}