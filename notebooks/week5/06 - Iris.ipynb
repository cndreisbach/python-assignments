{
 "metadata": {
  "name": "",
  "signature": "sha256:0e9fe6ccba9ef7f2ffbb6896ec7e63269dc75bc83adc40e7db69f6087fb34e36"
 },
 "nbformat": 3,
 "nbformat_minor": 0,
 "worksheets": [
  {
   "cells": [
    {
     "cell_type": "code",
     "collapsed": false,
     "input": [
      "from sklearn.datasets import load_iris\n",
      "iris = load_iris()"
     ],
     "language": "python",
     "metadata": {},
     "outputs": [],
     "prompt_number": 2
    },
    {
     "cell_type": "code",
     "collapsed": false,
     "input": [
      "from sklearn.cross_validation import train_test_split\n",
      "X_train, X_test, y_train, y_test = train_test_split(iris.data, iris.target, \n",
      "                                                    test_size=0.4, random_state=0)\n",
      "\n",
      "## Pick and choose your classifier here\n",
      "from sklearn.naive_bayes import GaussianNB\n",
      "classifier = GaussianNB()\n",
      "classifier = classifier.fit(X_train, y_train)\n",
      "predicted = classifier.predict(X_test)\n",
      "\n",
      "from sklearn import metrics\n",
      "print(metrics.classification_report(y_test, predicted))\n",
      "print(metrics.confusion_matrix(y_test, predicted))\n",
      "print(metrics.f1_score(y_test, predicted))\n",
      "\n",
      "from sklearn.cross_validation import cross_val_score\n",
      "\n",
      "scores = cross_val_score(classifier, iris.data, iris.target, cv=5)"
     ],
     "language": "python",
     "metadata": {},
     "outputs": [
      {
       "output_type": "stream",
       "stream": "stdout",
       "text": [
        "             precision    recall  f1-score   support\n",
        "\n",
        "          0       1.00      1.00      1.00        16\n",
        "          1       0.85      1.00      0.92        23\n",
        "          2       1.00      0.81      0.89        21\n",
        "\n",
        "avg / total       0.94      0.93      0.93        60\n",
        "\n",
        "[[16  0  0]\n",
        " [ 0 23  0]\n",
        " [ 0  4 17]]\n",
        "0.93249122807\n"
       ]
      }
     ],
     "prompt_number": 3
    },
    {
     "cell_type": "code",
     "collapsed": false,
     "input": [
      "X_train"
     ],
     "language": "python",
     "metadata": {},
     "outputs": [
      {
       "metadata": {},
       "output_type": "pyout",
       "prompt_number": 5,
       "text": [
        "array([[ 6. ,  3.4,  4.5,  1.6],\n",
        "       [ 4.8,  3.1,  1.6,  0.2],\n",
        "       [ 5.8,  2.7,  5.1,  1.9],\n",
        "       [ 5.6,  2.7,  4.2,  1.3],\n",
        "       [ 5.6,  2.9,  3.6,  1.3],\n",
        "       [ 5.5,  2.5,  4. ,  1.3],\n",
        "       [ 6.1,  3. ,  4.6,  1.4],\n",
        "       [ 7.2,  3.2,  6. ,  1.8],\n",
        "       [ 5.3,  3.7,  1.5,  0.2],\n",
        "       [ 4.3,  3. ,  1.1,  0.1],\n",
        "       [ 6.4,  2.7,  5.3,  1.9],\n",
        "       [ 5.7,  3. ,  4.2,  1.2],\n",
        "       [ 5.4,  3.4,  1.7,  0.2],\n",
        "       [ 5.7,  4.4,  1.5,  0.4],\n",
        "       [ 6.9,  3.1,  4.9,  1.5],\n",
        "       [ 4.6,  3.1,  1.5,  0.2],\n",
        "       [ 5.9,  3. ,  5.1,  1.8],\n",
        "       [ 5.1,  2.5,  3. ,  1.1],\n",
        "       [ 4.6,  3.4,  1.4,  0.3],\n",
        "       [ 6.2,  2.2,  4.5,  1.5],\n",
        "       [ 7.2,  3.6,  6.1,  2.5],\n",
        "       [ 5.7,  2.9,  4.2,  1.3],\n",
        "       [ 4.8,  3. ,  1.4,  0.1],\n",
        "       [ 7.1,  3. ,  5.9,  2.1],\n",
        "       [ 6.9,  3.2,  5.7,  2.3],\n",
        "       [ 6.5,  3. ,  5.8,  2.2],\n",
        "       [ 6.4,  2.8,  5.6,  2.1],\n",
        "       [ 5.1,  3.8,  1.6,  0.2],\n",
        "       [ 4.8,  3.4,  1.6,  0.2],\n",
        "       [ 6.5,  3.2,  5.1,  2. ],\n",
        "       [ 6.7,  3.3,  5.7,  2.1],\n",
        "       [ 4.5,  2.3,  1.3,  0.3],\n",
        "       [ 6.2,  3.4,  5.4,  2.3],\n",
        "       [ 4.9,  3. ,  1.4,  0.2],\n",
        "       [ 5.7,  2.5,  5. ,  2. ],\n",
        "       [ 6.9,  3.1,  5.4,  2.1],\n",
        "       [ 4.4,  3.2,  1.3,  0.2],\n",
        "       [ 5. ,  3.6,  1.4,  0.2],\n",
        "       [ 7.2,  3. ,  5.8,  1.6],\n",
        "       [ 5.1,  3.5,  1.4,  0.3],\n",
        "       [ 4.4,  3. ,  1.3,  0.2],\n",
        "       [ 5.4,  3.9,  1.7,  0.4],\n",
        "       [ 5.5,  2.3,  4. ,  1.3],\n",
        "       [ 6.8,  3.2,  5.9,  2.3],\n",
        "       [ 7.6,  3. ,  6.6,  2.1],\n",
        "       [ 5.1,  3.5,  1.4,  0.2],\n",
        "       [ 4.9,  3.1,  1.5,  0.1],\n",
        "       [ 5.2,  3.4,  1.4,  0.2],\n",
        "       [ 5.7,  2.8,  4.5,  1.3],\n",
        "       [ 6.6,  3. ,  4.4,  1.4],\n",
        "       [ 5. ,  3.2,  1.2,  0.2],\n",
        "       [ 5.1,  3.3,  1.7,  0.5],\n",
        "       [ 6.4,  2.9,  4.3,  1.3],\n",
        "       [ 5.4,  3.4,  1.5,  0.4],\n",
        "       [ 7.7,  2.6,  6.9,  2.3],\n",
        "       [ 4.9,  2.4,  3.3,  1. ],\n",
        "       [ 7.9,  3.8,  6.4,  2. ],\n",
        "       [ 6.7,  3.1,  4.4,  1.4],\n",
        "       [ 5.2,  4.1,  1.5,  0.1],\n",
        "       [ 6. ,  3. ,  4.8,  1.8],\n",
        "       [ 5.8,  4. ,  1.2,  0.2],\n",
        "       [ 7.7,  2.8,  6.7,  2. ],\n",
        "       [ 5.1,  3.8,  1.5,  0.3],\n",
        "       [ 4.7,  3.2,  1.6,  0.2],\n",
        "       [ 7.4,  2.8,  6.1,  1.9],\n",
        "       [ 5. ,  3.3,  1.4,  0.2],\n",
        "       [ 6.3,  3.4,  5.6,  2.4],\n",
        "       [ 5.7,  2.8,  4.1,  1.3],\n",
        "       [ 5.8,  2.7,  3.9,  1.2],\n",
        "       [ 5.7,  2.6,  3.5,  1. ],\n",
        "       [ 6.4,  3.2,  5.3,  2.3],\n",
        "       [ 6.7,  3. ,  5.2,  2.3],\n",
        "       [ 6.3,  2.5,  4.9,  1.5],\n",
        "       [ 6.7,  3. ,  5. ,  1.7],\n",
        "       [ 5. ,  3. ,  1.6,  0.2],\n",
        "       [ 5.5,  2.4,  3.7,  1. ],\n",
        "       [ 6.7,  3.1,  5.6,  2.4],\n",
        "       [ 5.8,  2.7,  5.1,  1.9],\n",
        "       [ 5.1,  3.4,  1.5,  0.2],\n",
        "       [ 6.6,  2.9,  4.6,  1.3],\n",
        "       [ 5.6,  3. ,  4.1,  1.3],\n",
        "       [ 5.9,  3.2,  4.8,  1.8],\n",
        "       [ 6.3,  2.3,  4.4,  1.3],\n",
        "       [ 5.5,  3.5,  1.3,  0.2],\n",
        "       [ 5.1,  3.7,  1.5,  0.4],\n",
        "       [ 4.9,  3.1,  1.5,  0.1],\n",
        "       [ 6.3,  2.9,  5.6,  1.8],\n",
        "       [ 5.8,  2.7,  4.1,  1. ],\n",
        "       [ 7.7,  3.8,  6.7,  2.2],\n",
        "       [ 4.6,  3.2,  1.4,  0.2]])"
       ]
      }
     ],
     "prompt_number": 5
    },
    {
     "cell_type": "code",
     "collapsed": false,
     "input": [
      "y_train"
     ],
     "language": "python",
     "metadata": {},
     "outputs": [
      {
       "metadata": {},
       "output_type": "pyout",
       "prompt_number": 6,
       "text": [
        "array([1, 0, 2, 1, 1, 1, 1, 2, 0, 0, 2, 1, 0, 0, 1, 0, 2, 1, 0, 1, 2, 1, 0,\n",
        "       2, 2, 2, 2, 0, 0, 2, 2, 0, 2, 0, 2, 2, 0, 0, 2, 0, 0, 0, 1, 2, 2, 0,\n",
        "       0, 0, 1, 1, 0, 0, 1, 0, 2, 1, 2, 1, 0, 2, 0, 2, 0, 0, 2, 0, 2, 1, 1,\n",
        "       1, 2, 2, 1, 1, 0, 1, 2, 2, 0, 1, 1, 1, 1, 0, 0, 0, 2, 1, 2, 0])"
       ]
      }
     ],
     "prompt_number": 6
    },
    {
     "cell_type": "code",
     "collapsed": false,
     "input": [],
     "language": "python",
     "metadata": {},
     "outputs": []
    }
   ],
   "metadata": {}
  }
 ]
}