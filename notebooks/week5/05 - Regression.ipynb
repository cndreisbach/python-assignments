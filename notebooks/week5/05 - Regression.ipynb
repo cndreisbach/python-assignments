{
 "metadata": {
  "name": "",
  "signature": "sha256:a740c915a4cf039bc0d23a6fa709d3b161b2fafda2c4544d1523bf4e32134f92"
 },
 "nbformat": 3,
 "nbformat_minor": 0,
 "worksheets": [
  {
   "cells": [
    {
     "cell_type": "code",
     "collapsed": false,
     "input": [
      "import pandas as pd\n",
      "import matplotlib.pyplot as plt\n",
      "import numpy as np\n",
      "import seaborn as sns\n",
      "from sklearn import linear_model"
     ],
     "language": "python",
     "metadata": {},
     "outputs": [],
     "prompt_number": 17
    },
    {
     "cell_type": "code",
     "collapsed": false,
     "input": [
      "%matplotlib inline"
     ],
     "language": "python",
     "metadata": {},
     "outputs": [],
     "prompt_number": 18
    },
    {
     "cell_type": "code",
     "collapsed": false,
     "input": [
      "summary = pd.read_csv(\"atussum_2013.dat\")\n",
      "summary.info()"
     ],
     "language": "python",
     "metadata": {},
     "outputs": [
      {
       "output_type": "stream",
       "stream": "stdout",
       "text": [
        "<class 'pandas.core.frame.DataFrame'>\n",
        "Int64Index: 11385 entries, 0 to 11384\n",
        "Columns: 413 entries, tucaseid to t500107\n",
        "dtypes: float64(1), int64(412)\n",
        "memory usage: 36.0 MB\n"
       ]
      }
     ],
     "prompt_number": 19
    },
    {
     "cell_type": "code",
     "collapsed": false,
     "input": [
      "def activity_by_age(df, activity_code, subsample=True):\n",
      "    activity_col = \"t{}\".format(activity_code)\n",
      "    df = df[['TUFINLWGT', 'TEAGE', activity_col]]\n",
      "    df = df.rename(columns={\"TUFINLWGT\": \"weight\", \"TEAGE\": \"age\", activity_col: \"minutes\"})\n",
      "    if subsample:\n",
      "        df = df[df.age % 5 == 0]\n",
      "    df['weighted_minutes'] = df.weight * df.minutes\n",
      "    df = df.groupby(\"age\").sum()\n",
      "    df['mean_minutes'] = df.weighted_minutes / df.weight\n",
      "    df = df[['mean_minutes']]\n",
      "    return df"
     ],
     "language": "python",
     "metadata": {},
     "outputs": [],
     "prompt_number": 20
    },
    {
     "cell_type": "code",
     "collapsed": false,
     "input": [
      "medical_care = activity_by_age(summary, \"080401\", subsample=False)\n",
      "plt.scatter(medical_care.index, medical_care.mean_minutes)"
     ],
     "language": "python",
     "metadata": {},
     "outputs": [
      {
       "metadata": {},
       "output_type": "pyout",
       "prompt_number": 21,
       "text": [
        "<matplotlib.collections.PathCollection at 0x10ef5ba58>"
       ]
      },
      {
       "metadata": {},
       "output_type": "display_data",
       "png": "[encoded data removed]",
       "text": [
        "<matplotlib.figure.Figure at 0x10eeea7f0>"
       ]
      }
     ],
     "prompt_number": 21
    },
    {
     "cell_type": "code",
     "collapsed": false,
     "input": [
      "def linear_least_squares(df, fn):\n",
      "    values = df.index.map(fn)\n",
      "    diffs = df.mean_minutes - values\n",
      "    diffs_squared = diffs ** 2\n",
      "    return diffs_squared.sum() / (2 * len(diffs)) "
     ],
     "language": "python",
     "metadata": {},
     "outputs": [],
     "prompt_number": 22
    },
    {
     "cell_type": "code",
     "collapsed": false,
     "input": [
      "fn1 = lambda x: 0 + 0.25 * x\n",
      "print(linear_least_squares(medical_care, fn1))\n",
      "plt.scatter(medical_care.index, medical_care.mean_minutes)\n",
      "xmin, xmax = plt.xlim()\n",
      "xs = np.linspace(xmin, xmax, 100)\n",
      "plt.plot(xs, fn1(xs))"
     ],
     "language": "python",
     "metadata": {},
     "outputs": [
      {
       "output_type": "stream",
       "stream": "stdout",
       "text": [
        "48.3584490073\n"
       ]
      },
      {
       "metadata": {},
       "output_type": "pyout",
       "prompt_number": 23,
       "text": [
        "[<matplotlib.lines.Line2D at 0x10ef73780>]"
       ]
      },
      {
       "metadata": {},
       "output_type": "display_data",
       "png": "[encoded data removed]",
       "text": [
        "<matplotlib.figure.Figure at 0x10ef739b0>"
       ]
      }
     ],
     "prompt_number": 23
    },
    {
     "cell_type": "code",
     "collapsed": false,
     "input": [
      "fn2 = lambda x: 0 + 0.15 * x\n",
      "print(linear_least_squares(medical_care, fn2))\n",
      "plt.scatter(medical_care.index, medical_care.mean_minutes)\n",
      "xmin, xmax = plt.xlim()\n",
      "xs = np.linspace(xmin, xmax, 100)\n",
      "plt.plot(xs, fn1(xs), alpha=0.3)\n",
      "plt.plot(xs, fn2(xs))"
     ],
     "language": "python",
     "metadata": {},
     "outputs": [
      {
       "output_type": "stream",
       "stream": "stdout",
       "text": [
        "12.0451166721\n"
       ]
      },
      {
       "metadata": {},
       "output_type": "pyout",
       "prompt_number": 24,
       "text": [
        "[<matplotlib.lines.Line2D at 0x10f095f98>]"
       ]
      },
      {
       "metadata": {},
       "output_type": "display_data",
       "png": "[encoded data removed]",
       "text": [
        "<matplotlib.figure.Figure at 0x10efa2da0>"
       ]
      }
     ],
     "prompt_number": 24
    },
    {
     "cell_type": "code",
     "collapsed": false,
     "input": [
      "fn3 = lambda x: 0 + 0.1 * x\n",
      "print(linear_least_squares(medical_care, fn3))\n",
      "plt.scatter(medical_care.index, medical_care.mean_minutes)\n",
      "xmin, xmax = plt.xlim()\n",
      "xs = np.linspace(xmin, xmax, 100)\n",
      "plt.plot(xs, fn1(xs), alpha=0.3)\n",
      "plt.plot(xs, fn2(xs), alpha=0.3)\n",
      "plt.plot(xs, fn3(xs))"
     ],
     "language": "python",
     "metadata": {},
     "outputs": [
      {
       "output_type": "stream",
       "stream": "stdout",
       "text": [
        "3.96811468369\n"
       ]
      },
      {
       "metadata": {},
       "output_type": "pyout",
       "prompt_number": 25,
       "text": [
        "[<matplotlib.lines.Line2D at 0x10f101a58>]"
       ]
      },
      {
       "metadata": {},
       "output_type": "display_data",
       "png": "[encoded data removed]",
       "text": [
        "<matplotlib.figure.Figure at 0x10f006f28>"
       ]
      }
     ],
     "prompt_number": 25
    },
    {
     "cell_type": "code",
     "collapsed": false,
     "input": [
      "from sklearn import linear_model"
     ],
     "language": "python",
     "metadata": {},
     "outputs": [],
     "prompt_number": 26
    },
    {
     "cell_type": "code",
     "collapsed": false,
     "input": [
      "medical_care.mean_minutes.values"
     ],
     "language": "python",
     "metadata": {},
     "outputs": [
      {
       "metadata": {},
       "output_type": "pyout",
       "prompt_number": 27,
       "text": [
        "array([  0.79017668,   2.82850927,   2.02375459,   1.95148633,\n",
        "         0.17557022,   0.89924901,   0.60200333,   0.44554344,\n",
        "         1.58246198,   0.89905073,   0.59729932,   3.60149204,\n",
        "         4.54455096,   0.67597341,   0.62125381,   0.21247888,\n",
        "         2.14572459,   0.84802338,   2.20850502,   4.23451489,\n",
        "         1.37000971,   1.43833498,   3.31387935,   0.42204369,\n",
        "         2.59323868,   2.09209226,   1.30676603,   2.23341164,\n",
        "         1.14108623,   1.6758738 ,   2.09961959,   1.30025879,\n",
        "         3.12321025,   1.11662773,   3.39339526,   2.3645808 ,\n",
        "         1.10172246,   0.20375908,   3.2284492 ,   2.95881223,\n",
        "         4.25203874,   0.85477308,   3.30153105,   4.09235259,\n",
        "         2.05711116,   2.01804124,   3.93180293,   0.78964562,\n",
        "         3.20671871,   0.94956874,  10.30103765,   1.91317517,\n",
        "         3.73248444,   4.30694386,   3.02129072,   4.24476389,\n",
        "         3.95415417,   3.0409133 ,   3.94511918,   5.64308053,\n",
        "        11.4600384 ,   5.47231076,   2.40629447,   8.43841007,\n",
        "        12.31480859,   6.15095593,  11.87694356])"
       ]
      }
     ],
     "prompt_number": 27
    },
    {
     "cell_type": "code",
     "collapsed": false,
     "input": [
      "medical_care.index.values"
     ],
     "language": "python",
     "metadata": {},
     "outputs": [
      {
       "metadata": {},
       "output_type": "pyout",
       "prompt_number": 28,
       "text": [
        "array([15, 16, 17, 18, 19, 20, 21, 22, 23, 24, 25, 26, 27, 28, 29, 30, 31,\n",
        "       32, 33, 34, 35, 36, 37, 38, 39, 40, 41, 42, 43, 44, 45, 46, 47, 48,\n",
        "       49, 50, 51, 52, 53, 54, 55, 56, 57, 58, 59, 60, 61, 62, 63, 64, 65,\n",
        "       66, 67, 68, 69, 70, 71, 72, 73, 74, 75, 76, 77, 78, 79, 80, 85])"
       ]
      }
     ],
     "prompt_number": 28
    },
    {
     "cell_type": "code",
     "collapsed": false,
     "input": [
      "regression = linear_model.LinearRegression()\n",
      "regression.fit(np.array(medical_care.index.values).reshape((-1, 1)), medical_care.mean_minutes.values)"
     ],
     "language": "python",
     "metadata": {},
     "outputs": [
      {
       "metadata": {},
       "output_type": "pyout",
       "prompt_number": 29,
       "text": [
        "LinearRegression(copy_X=True, fit_intercept=True, normalize=False)"
       ]
      }
     ],
     "prompt_number": 29
    },
    {
     "cell_type": "code",
     "collapsed": false,
     "input": [
      "regression.predict(60)"
     ],
     "language": "python",
     "metadata": {},
     "outputs": [
      {
       "metadata": {},
       "output_type": "pyout",
       "prompt_number": 30,
       "text": [
        "array([ 3.97856719])"
       ]
      }
     ],
     "prompt_number": 30
    },
    {
     "cell_type": "code",
     "collapsed": false,
     "input": [
      "print(regression.coef_, regression.intercept_)"
     ],
     "language": "python",
     "metadata": {},
     "outputs": [
      {
       "output_type": "stream",
       "stream": "stdout",
       "text": [
        "[ 0.08565362] -1.16065027669\n"
       ]
      }
     ],
     "prompt_number": 31
    },
    {
     "cell_type": "code",
     "collapsed": false,
     "input": [
      "fn = lambda x: regression.predict(x)[0]\n",
      "print(linear_least_squares(medical_care, fn))\n",
      "plt.scatter(medical_care.index, medical_care.mean_minutes)\n",
      "xmin, xmax = plt.xlim()\n",
      "xs = np.linspace(xmin, xmax, 100)\n",
      "plt.plot(xs, [fn(x) for x in xs])"
     ],
     "language": "python",
     "metadata": {},
     "outputs": [
      {
       "output_type": "stream",
       "stream": "stdout",
       "text": [
        "2.21770122909\n"
       ]
      },
      {
       "metadata": {},
       "output_type": "pyout",
       "prompt_number": 32,
       "text": [
        "[<matplotlib.lines.Line2D at 0x10efa2d30>]"
       ]
      },
      {
       "metadata": {},
       "output_type": "display_data",
       "png": "[encoded data removed]",
       "text": [
        "<matplotlib.figure.Figure at 0x10f0fccf8>"
       ]
      }
     ],
     "prompt_number": 32
    },
    {
     "cell_type": "code",
     "collapsed": false,
     "input": [
      "linear_least_squares(medical_care, lambda x: regression.predict(x)[0])"
     ],
     "language": "python",
     "metadata": {},
     "outputs": [
      {
       "metadata": {},
       "output_type": "pyout",
       "prompt_number": 33,
       "text": [
        "2.2177012290946809"
       ]
      }
     ],
     "prompt_number": 33
    },
    {
     "cell_type": "code",
     "collapsed": false,
     "input": [
      "sleep_data = summary[['TUFINLWGT', 'TEAGE', 'TESEX', 't010101']]\n",
      "sleep_data = sleep_data.rename(columns={\"TUFINLWGT\": \"weight\", \"TEAGE\": \"age\", \"TESEX\": \"sex\", \"t010101\": \"minutes\"})\n",
      "sleep_data['weighted_minutes'] = sleep_data.weight * sleep_data.minutes\n",
      "sleep_data.info()"
     ],
     "language": "python",
     "metadata": {},
     "outputs": [
      {
       "output_type": "stream",
       "stream": "stdout",
       "text": [
        "<class 'pandas.core.frame.DataFrame'>\n",
        "Int64Index: 11385 entries, 0 to 11384\n",
        "Data columns (total 5 columns):\n",
        "weight              11385 non-null float64\n",
        "age                 11385 non-null int64\n",
        "sex                 11385 non-null int64\n",
        "minutes             11385 non-null int64\n",
        "weighted_minutes    11385 non-null float64\n",
        "dtypes: float64(2), int64(3)\n",
        "memory usage: 533.7 KB\n"
       ]
      }
     ],
     "prompt_number": 34
    },
    {
     "cell_type": "code",
     "collapsed": false,
     "input": [
      "sleep_by_age = sleep_data.groupby(\"age\").sum()\n",
      "sleep_by_age.head()"
     ],
     "language": "python",
     "metadata": {},
     "outputs": [
      {
       "html": [
        "<div style=\"max-height:1000px;max-width:1500px;overflow:auto;\">\n",
        "<table border=\"1\" class=\"dataframe\">\n",
        "  <thead>\n",
        "    <tr style=\"text-align: right;\">\n",
        "      <th></th>\n",
        "      <th>weight</th>\n",
        "      <th>sex</th>\n",
        "      <th>minutes</th>\n",
        "      <th>weighted_minutes</th>\n",
        "    </tr>\n",
        "    <tr>\n",
        "      <th>age</th>\n",
        "      <th></th>\n",
        "      <th></th>\n",
        "      <th></th>\n",
        "      <th></th>\n",
        "    </tr>\n",
        "  </thead>\n",
        "  <tbody>\n",
        "    <tr>\n",
        "      <th>15</th>\n",
        "      <td> 1.168895e+09</td>\n",
        "      <td> 159</td>\n",
        "      <td> 62992</td>\n",
        "      <td> 6.645155e+11</td>\n",
        "    </tr>\n",
        "    <tr>\n",
        "      <th>16</th>\n",
        "      <td> 1.807565e+09</td>\n",
        "      <td> 243</td>\n",
        "      <td> 96196</td>\n",
        "      <td> 1.013404e+12</td>\n",
        "    </tr>\n",
        "    <tr>\n",
        "      <th>17</th>\n",
        "      <td> 1.929189e+09</td>\n",
        "      <td> 246</td>\n",
        "      <td> 96861</td>\n",
        "      <td> 1.094304e+12</td>\n",
        "    </tr>\n",
        "    <tr>\n",
        "      <th>18</th>\n",
        "      <td> 1.419704e+09</td>\n",
        "      <td> 165</td>\n",
        "      <td> 64722</td>\n",
        "      <td> 8.498931e+11</td>\n",
        "    </tr>\n",
        "    <tr>\n",
        "      <th>19</th>\n",
        "      <td> 1.307960e+09</td>\n",
        "      <td> 130</td>\n",
        "      <td> 50557</td>\n",
        "      <td> 7.508169e+11</td>\n",
        "    </tr>\n",
        "  </tbody>\n",
        "</table>\n",
        "</div>"
       ],
       "metadata": {},
       "output_type": "pyout",
       "prompt_number": 35,
       "text": [
        "           weight  sex  minutes  weighted_minutes\n",
        "age                                              \n",
        "15   1.168895e+09  159    62992      6.645155e+11\n",
        "16   1.807565e+09  243    96196      1.013404e+12\n",
        "17   1.929189e+09  246    96861      1.094304e+12\n",
        "18   1.419704e+09  165    64722      8.498931e+11\n",
        "19   1.307960e+09  130    50557      7.508169e+11"
       ]
      }
     ],
     "prompt_number": 35
    },
    {
     "cell_type": "code",
     "collapsed": false,
     "input": [
      "sleep_by_age['mean_minutes'] = sleep_by_age.weighted_minutes / sleep_by_age.weight\n",
      "sleep_by_age.head()"
     ],
     "language": "python",
     "metadata": {},
     "outputs": [
      {
       "html": [
        "<div style=\"max-height:1000px;max-width:1500px;overflow:auto;\">\n",
        "<table border=\"1\" class=\"dataframe\">\n",
        "  <thead>\n",
        "    <tr style=\"text-align: right;\">\n",
        "      <th></th>\n",
        "      <th>weight</th>\n",
        "      <th>sex</th>\n",
        "      <th>minutes</th>\n",
        "      <th>weighted_minutes</th>\n",
        "      <th>mean_minutes</th>\n",
        "    </tr>\n",
        "    <tr>\n",
        "      <th>age</th>\n",
        "      <th></th>\n",
        "      <th></th>\n",
        "      <th></th>\n",
        "      <th></th>\n",
        "      <th></th>\n",
        "    </tr>\n",
        "  </thead>\n",
        "  <tbody>\n",
        "    <tr>\n",
        "      <th>15</th>\n",
        "      <td> 1.168895e+09</td>\n",
        "      <td> 159</td>\n",
        "      <td> 62992</td>\n",
        "      <td> 6.645155e+11</td>\n",
        "      <td> 568.498993</td>\n",
        "    </tr>\n",
        "    <tr>\n",
        "      <th>16</th>\n",
        "      <td> 1.807565e+09</td>\n",
        "      <td> 243</td>\n",
        "      <td> 96196</td>\n",
        "      <td> 1.013404e+12</td>\n",
        "      <td> 560.646005</td>\n",
        "    </tr>\n",
        "    <tr>\n",
        "      <th>17</th>\n",
        "      <td> 1.929189e+09</td>\n",
        "      <td> 246</td>\n",
        "      <td> 96861</td>\n",
        "      <td> 1.094304e+12</td>\n",
        "      <td> 567.235373</td>\n",
        "    </tr>\n",
        "    <tr>\n",
        "      <th>18</th>\n",
        "      <td> 1.419704e+09</td>\n",
        "      <td> 165</td>\n",
        "      <td> 64722</td>\n",
        "      <td> 8.498931e+11</td>\n",
        "      <td> 598.641088</td>\n",
        "    </tr>\n",
        "    <tr>\n",
        "      <th>19</th>\n",
        "      <td> 1.307960e+09</td>\n",
        "      <td> 130</td>\n",
        "      <td> 50557</td>\n",
        "      <td> 7.508169e+11</td>\n",
        "      <td> 574.036484</td>\n",
        "    </tr>\n",
        "  </tbody>\n",
        "</table>\n",
        "</div>"
       ],
       "metadata": {},
       "output_type": "pyout",
       "prompt_number": 36,
       "text": [
        "           weight  sex  minutes  weighted_minutes  mean_minutes\n",
        "age                                                            \n",
        "15   1.168895e+09  159    62992      6.645155e+11    568.498993\n",
        "16   1.807565e+09  243    96196      1.013404e+12    560.646005\n",
        "17   1.929189e+09  246    96861      1.094304e+12    567.235373\n",
        "18   1.419704e+09  165    64722      8.498931e+11    598.641088\n",
        "19   1.307960e+09  130    50557      7.508169e+11    574.036484"
       ]
      }
     ],
     "prompt_number": 36
    },
    {
     "cell_type": "code",
     "collapsed": false,
     "input": [
      "plt.scatter(sleep_by_age.index, sleep_by_age.mean_minutes)"
     ],
     "language": "python",
     "metadata": {},
     "outputs": [
      {
       "metadata": {},
       "output_type": "pyout",
       "prompt_number": 37,
       "text": [
        "<matplotlib.collections.PathCollection at 0x10f280e80>"
       ]
      },
      {
       "metadata": {},
       "output_type": "display_data",
       "png": "[encoded data removed]",
       "text": [
        "<matplotlib.figure.Figure at 0x10f006198>"
       ]
      }
     ],
     "prompt_number": 37
    },
    {
     "cell_type": "code",
     "collapsed": false,
     "input": [
      "regression = linear_model.LinearRegression()\n",
      "regression.fit(np.array(sleep_by_age.index.values).reshape((-1, 1)), sleep_by_age.mean_minutes.values)\n",
      "print(regression.coef_, regression.intercept_)"
     ],
     "language": "python",
     "metadata": {},
     "outputs": [
      {
       "output_type": "stream",
       "stream": "stdout",
       "text": [
        "[-0.3727603] 538.764180347\n"
       ]
      }
     ],
     "prompt_number": 50
    },
    {
     "cell_type": "code",
     "collapsed": false,
     "input": [
      "fn = lambda x: regression.predict(x)[0]\n",
      "print(linear_least_squares(sleep_by_age, fn))\n",
      "plt.scatter(sleep_by_age.index, sleep_by_age.mean_minutes)\n",
      "xmin, xmax = plt.xlim()\n",
      "xs = np.linspace(xmin, xmax, 100)\n",
      "plt.plot(xs, [fn(x) for x in xs])"
     ],
     "language": "python",
     "metadata": {},
     "outputs": [
      {
       "output_type": "stream",
       "stream": "stdout",
       "text": [
        "275.926659317\n"
       ]
      },
      {
       "metadata": {},
       "output_type": "pyout",
       "prompt_number": 54,
       "text": [
        "[<matplotlib.lines.Line2D at 0x112110278>]"
       ]
      },
      {
       "metadata": {},
       "output_type": "display_data",
       "png": "[encoded data removed]",
       "text": [
        "<matplotlib.figure.Figure at 0x1120d43c8>"
       ]
      }
     ],
     "prompt_number": 54
    },
    {
     "cell_type": "code",
     "collapsed": false,
     "input": [
      "from sklearn.preprocessing import PolynomialFeatures\n",
      "from sklearn.linear_model import LinearRegression\n",
      "from sklearn.pipeline import Pipeline\n",
      "model = Pipeline([('poly', PolynomialFeatures(degree=2)),\n",
      "                  ('linear', LinearRegression(fit_intercept=False))])\n",
      "model = model.fit(np.array(sleep_by_age.index.values).reshape((-1, 1)), sleep_by_age.mean_minutes.values)\n",
      "model.named_steps['linear'].coef_"
     ],
     "language": "python",
     "metadata": {},
     "outputs": [
      {
       "metadata": {},
       "output_type": "pyout",
       "prompt_number": 55,
       "text": [
        "array([  6.45733647e+02,  -5.66518847e+00,   5.48318311e-02])"
       ]
      }
     ],
     "prompt_number": 55
    },
    {
     "cell_type": "code",
     "collapsed": false,
     "input": [
      "fn = lambda x: model.predict(x)[0]\n",
      "print(linear_least_squares(sleep_by_age, fn))\n",
      "plt.scatter(sleep_by_age.index, sleep_by_age.mean_minutes)\n",
      "xmin, xmax = plt.xlim()\n",
      "xs = np.linspace(xmin, xmax, 100)\n",
      "plt.plot(xs, [fn(x) for x in xs])"
     ],
     "language": "python",
     "metadata": {},
     "outputs": [
      {
       "output_type": "stream",
       "stream": "stdout",
       "text": [
        "97.2604515584\n"
       ]
      },
      {
       "metadata": {},
       "output_type": "pyout",
       "prompt_number": 56,
       "text": [
        "[<matplotlib.lines.Line2D at 0x112115f98>]"
       ]
      },
      {
       "metadata": {},
       "output_type": "display_data",
       "png": "[encoded data removed]",
       "text": [
        "<matplotlib.figure.Figure at 0x112115470>"
       ]
      }
     ],
     "prompt_number": 56
    },
    {
     "cell_type": "code",
     "collapsed": false,
     "input": [
      "model.predict(38) / 60"
     ],
     "language": "python",
     "metadata": {},
     "outputs": [
      {
       "metadata": {},
       "output_type": "pyout",
       "prompt_number": 64,
       "text": [
        "array([ 8.49389415])"
       ]
      }
     ],
     "prompt_number": 64
    },
    {
     "cell_type": "code",
     "collapsed": false,
     "input": [
      "model.predict(50) / 60"
     ],
     "language": "python",
     "metadata": {},
     "outputs": [
      {
       "metadata": {},
       "output_type": "pyout",
       "prompt_number": 65,
       "text": [
        "array([ 8.32589668])"
       ]
      }
     ],
     "prompt_number": 65
    }
   ],
   "metadata": {}
  }
 ]
}