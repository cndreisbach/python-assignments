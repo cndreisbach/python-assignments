{
 "metadata": {
  "name": "",
  "signature": "sha256:6d7a23753d77553f7ca0b7b3556f84ade9c62e6ec87da6cec6eac22a8d100da6"
 },
 "nbformat": 3,
 "nbformat_minor": 0,
 "worksheets": [
  {
   "cells": [
    {
     "cell_type": "code",
     "collapsed": false,
     "input": [
      "import re\n",
      "import collections\n",
      "\n",
      "def words(text):\n",
      "    return re.findall(r'[a-z]+', text.lower()) \n",
      "\n",
      "def train(features):\n",
      "    model = collections.defaultdict(lambda: 1)\n",
      "    for f in features:\n",
      "        model[f] += 1\n",
      "    return model\n",
      "\n",
      "with open('big.txt') as file:\n",
      "    WORD_COUNTS = train(words(file.read()))\n",
      "\n",
      "alphabet = 'abcdefghijklmnopqrstuvwxyz'\n",
      "\n",
      "def edits1(word):\n",
      "    splits     = [(word[:i], word[i:]) for i in range(len(word) + 1)]\n",
      "    deletes    = [a + b[1:] for a, b in splits if b]\n",
      "    transposes = [a + b[1] + b[0] + b[2:] for a, b in splits if len(b)>1]\n",
      "    replaces   = [a + c + b[1:] for a, b in splits for c in alphabet if b]\n",
      "    inserts    = [a + c + b     for a, b in splits for c in alphabet]\n",
      "    return set(deletes + transposes + replaces + inserts)\n",
      "\n",
      "def edits2(word):\n",
      "    return set(e2 for e1 in edits1(word) for e2 in edits1(e1))\n",
      "\n",
      "def known(words): \n",
      "    return set(w for w in words if w in WORD_COUNTS)\n",
      "\n",
      "def correct(word):\n",
      "    candidates = known([word]) or known(edits1(word)) or known(edits2(word)) or [word]\n",
      "    return max(candidates, key=WORD_COUNTS.get)"
     ],
     "language": "python",
     "metadata": {},
     "outputs": [],
     "prompt_number": 26
    },
    {
     "cell_type": "code",
     "collapsed": false,
     "input": [
      "correct(\"speling\")"
     ],
     "language": "python",
     "metadata": {},
     "outputs": [
      {
       "metadata": {},
       "output_type": "pyout",
       "prompt_number": 27,
       "text": [
        "'spelling'"
       ]
      }
     ],
     "prompt_number": 27
    },
    {
     "cell_type": "code",
     "collapsed": false,
     "input": [
      "correct('eelphat')"
     ],
     "language": "python",
     "metadata": {},
     "outputs": [
      {
       "metadata": {},
       "output_type": "pyout",
       "prompt_number": 28,
       "text": [
        "'elephant'"
       ]
      }
     ],
     "prompt_number": 28
    },
    {
     "cell_type": "code",
     "collapsed": false,
     "input": [],
     "language": "python",
     "metadata": {},
     "outputs": []
    }
   ],
   "metadata": {}
  }
 ]
}