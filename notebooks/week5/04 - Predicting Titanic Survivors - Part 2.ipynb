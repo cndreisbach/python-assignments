{
 "metadata": {
  "name": "",
  "signature": "sha256:557c7a4f15ee34ce7365812a99fff214fd62a56ff5937d64e02a7cf95b0a7d35"
 },
 "nbformat": 3,
 "nbformat_minor": 0,
 "worksheets": [
  {
   "cells": [
    {
     "cell_type": "code",
     "collapsed": false,
     "input": [
      "import pandas as pd\n",
      "import numpy as np\n",
      "import matplotlib.pyplot as plt\n",
      "import seaborn as sb\n",
      "import random\n",
      "import re\n",
      "from sklearn.cross_validation import train_test_split\n",
      "\n",
      "random.seed(1)"
     ],
     "language": "python",
     "metadata": {},
     "outputs": [],
     "prompt_number": 603
    },
    {
     "cell_type": "code",
     "collapsed": false,
     "input": [
      "%matplotlib inline"
     ],
     "language": "python",
     "metadata": {},
     "outputs": [],
     "prompt_number": 571
    },
    {
     "cell_type": "code",
     "collapsed": false,
     "input": [
      "orig_train = pd.read_csv(\"titanic/train.csv\")\n",
      "orig_test = pd.read_csv(\"titanic/test.csv\")\n",
      "\n",
      "# Keep 10% of data aside for cross-validation.\n",
      "# rows = random.sample(list(train.index), len(train) // 10)\n",
      "# orig_crossval = orig_train.ix[rows]\n",
      "# orig_train = orig_train.drop(rows)"
     ],
     "language": "python",
     "metadata": {},
     "outputs": [],
     "prompt_number": 604
    },
    {
     "cell_type": "code",
     "collapsed": false,
     "input": [
      "from sklearn.cross_validation import train_test_split\n",
      "len(orig_train.values)"
     ],
     "language": "python",
     "metadata": {},
     "outputs": [
      {
       "metadata": {},
       "output_type": "pyout",
       "prompt_number": 606,
       "text": [
        "891"
       ]
      }
     ],
     "prompt_number": 606
    },
    {
     "cell_type": "code",
     "collapsed": false,
     "input": [
      "train, cross_val = train_test_split(orig_train, test_size=0.1)\n",
      "print(len(train))\n",
      "print(len(cross_val))"
     ],
     "language": "python",
     "metadata": {},
     "outputs": [
      {
       "output_type": "stream",
       "stream": "stdout",
       "text": [
        "801\n",
        "90\n"
       ]
      }
     ],
     "prompt_number": 607
    },
    {
     "cell_type": "code",
     "collapsed": false,
     "input": [
      "train.info()"
     ],
     "language": "python",
     "metadata": {},
     "outputs": [
      {
       "output_type": "stream",
       "stream": "stdout",
       "text": [
        "<class 'pandas.core.frame.DataFrame'>\n",
        "Int64Index: 810 entries, 0 to 890\n",
        "Data columns (total 34 columns):\n",
        "PassengerId      810 non-null int64\n",
        "Survived         810 non-null int64\n",
        "Pclass           810 non-null int64\n",
        "Name             810 non-null object\n",
        "Sex              810 non-null int64\n",
        "Age              810 non-null float64\n",
        "SibSp            810 non-null int64\n",
        "Parch            810 non-null int64\n",
        "Ticket           810 non-null object\n",
        "Fare             810 non-null float64\n",
        "FamilySize       810 non-null int64\n",
        "CabinAssigned    810 non-null int64\n",
        "Fare_bin         810 non-null float64\n",
        "Age_bin          810 non-null int64\n",
        "Title            810 non-null object\n",
        "Title_Dr         810 non-null Title_Dr      int64\n",
        "Title_Dr    float64\n",
        "dtype: object\n",
        "Title_Lady       810 non-null Title_Lady      int64\n",
        "Title_Lady    float64\n",
        "dtype: object\n",
        "Title_Master     810 non-null Title_Master      int64\n",
        "Title_Master    float64\n",
        "dtype: object\n",
        "Title_Miss       810 non-null Title_Miss      int64\n",
        "Title_Miss    float64\n",
        "dtype: object\n",
        "Title_Mr         810 non-null Title_Mr      int64\n",
        "Title_Mr    float64\n",
        "dtype: object\n",
        "Title_Mrs        810 non-null Title_Mrs      int64\n",
        "Title_Mrs    float64\n",
        "dtype: object\n",
        "Title_Rev        810 non-null Title_Rev      int64\n",
        "Title_Rev    float64\n",
        "dtype: object\n",
        "Title_Sir        810 non-null Title_Sir      int64\n",
        "Title_Sir    float64\n",
        "dtype: object\n",
        "Title_Dr         810 non-null Title_Dr      int64\n",
        "Title_Dr    float64\n",
        "dtype: object\n",
        "Title_Lady       810 non-null Title_Lady      int64\n",
        "Title_Lady    float64\n",
        "dtype: object\n",
        "Title_Master     810 non-null Title_Master      int64\n",
        "Title_Master    float64\n",
        "dtype: object\n",
        "Title_Miss       810 non-null Title_Miss      int64\n",
        "Title_Miss    float64\n",
        "dtype: object\n",
        "Title_Mr         810 non-null Title_Mr      int64\n",
        "Title_Mr    float64\n",
        "dtype: object\n",
        "Title_Mrs        810 non-null Title_Mrs      int64\n",
        "Title_Mrs    float64\n",
        "dtype: object\n",
        "Title_Rev        810 non-null Title_Rev      int64\n",
        "Title_Rev    float64\n",
        "dtype: object\n",
        "Title_Sir        810 non-null Title_Sir      int64\n",
        "Title_Sir    float64\n",
        "dtype: object\n",
        "Married          810 non-null int64\n",
        "AgeClass         810 non-null int64\n",
        "FareClass        810 non-null float64\n",
        "dtypes: float64(12), int64(19), object(3)\n",
        "memory usage: 221.5+ KB\n"
       ]
      }
     ],
     "prompt_number": 573
    },
    {
     "cell_type": "markdown",
     "metadata": {},
     "source": [
      "First, let's clean up this data. Sex is a string -- let's turn it into numbers. SibSp and Parch could help a lot as one number for family members. Embarked has some nulls, but I can't imagine it plays into survival rates. Cabin probably isn't useful, but maybe it matters if we had one assigned or not.\n",
      "\n",
      "Some more things: binning fares and ages."
     ]
    },
    {
     "cell_type": "code",
     "collapsed": false,
     "input": [
      "def fare_bin(fare):\n",
      "    return fare // 10\n",
      "\n",
      "def age_bin(age):\n",
      "    if age <= 10:\n",
      "        return 0\n",
      "    elif age <= 30:\n",
      "        return 1\n",
      "    elif age <= 60:\n",
      "        return 2\n",
      "    else:\n",
      "        return 3\n",
      "    \n",
      "def add_titles(df):\n",
      "    # What is each person's title? \n",
      "    df['Title'] = df['Name'].map(lambda x: re.compile(\", (.*?)\\.\").findall(x)[0])\n",
      "\n",
      "    # Group low-occuring, related titles together\n",
      "    df.loc[df.Title == 'Jonkheer', 'Title'] = 'Master'\n",
      "    df.loc[df.Title.isin(['Ms','Mlle']), 'Title'] = 'Miss'\n",
      "    df.loc[df.Title == 'Mme', 'Title'] = 'Mrs'\n",
      "    df.loc[df.Title.isin(['Capt', 'Don', 'Major', 'Col', 'Sir']), 'Title'] = 'Sir'\n",
      "    df.loc[df.Title.isin(['Dona', 'Lady', 'the Countess']), 'Title'] = 'Lady'\n",
      "    \n",
      "    titles = ['Title_Dr', 'Title_Lady', 'Title_Master', 'Title_Miss', \n",
      "              'Title_Mr', 'Title_Mrs', 'Title_Rev', 'Title_Sir']\n",
      "    for title in titles:\n",
      "        df[title] = 0\n",
      "\n",
      "    # Build binary features\n",
      "    df = pd.concat([df, pd.get_dummies(df['Title']).rename(columns=lambda x: 'Title_' + str(x))], axis=1)\n",
      "    return df\n",
      "\n",
      "def clean(df):\n",
      "    df['Sex'] = pd.factorize(df['Sex'], sort=True)[0]\n",
      "    df['FamilySize'] = df['SibSp'] + df['Parch']\n",
      "    df = df.drop('Embarked', axis=1)\n",
      "    df['CabinAssigned'] = df['Cabin'].map(lambda x: 0 if x is np.nan else 1)\n",
      "    df = df.drop('Cabin', axis=1)\n",
      "    \n",
      "    df['Fare_bin'] = df['Fare'].map(fare_bin)\n",
      "    df['Age_bin'] = df['Age'].map(age_bin)\n",
      "    \n",
      "    df = add_titles(df)\n",
      "    \n",
      "    df['Married'] = df['Title'].map(lambda t: 0 if t == 'Miss' or t == 'Master' else 1)\n",
      "\n",
      "    return df"
     ],
     "language": "python",
     "metadata": {},
     "outputs": [],
     "prompt_number": 574
    },
    {
     "cell_type": "code",
     "collapsed": false,
     "input": [
      "train = clean(orig_train)\n",
      "crossval = clean(orig_crossval)\n",
      "test = clean(orig_test)"
     ],
     "language": "python",
     "metadata": {},
     "outputs": [],
     "prompt_number": 575
    },
    {
     "cell_type": "code",
     "collapsed": false,
     "input": [
      "train.head()"
     ],
     "language": "python",
     "metadata": {},
     "outputs": [
      {
       "html": [
        "<div style=\"max-height:1000px;max-width:1500px;overflow:auto;\">\n",
        "<table border=\"1\" class=\"dataframe\">\n",
        "  <thead>\n",
        "    <tr style=\"text-align: right;\">\n",
        "      <th></th>\n",
        "      <th>PassengerId</th>\n",
        "      <th>Survived</th>\n",
        "      <th>Pclass</th>\n",
        "      <th>Name</th>\n",
        "      <th>Sex</th>\n",
        "      <th>Age</th>\n",
        "      <th>SibSp</th>\n",
        "      <th>Parch</th>\n",
        "      <th>Ticket</th>\n",
        "      <th>Fare</th>\n",
        "      <th>...</th>\n",
        "      <th>Title_Sir</th>\n",
        "      <th>Title_Dr</th>\n",
        "      <th>Title_Lady</th>\n",
        "      <th>Title_Master</th>\n",
        "      <th>Title_Miss</th>\n",
        "      <th>Title_Mr</th>\n",
        "      <th>Title_Mrs</th>\n",
        "      <th>Title_Rev</th>\n",
        "      <th>Title_Sir</th>\n",
        "      <th>Married</th>\n",
        "    </tr>\n",
        "  </thead>\n",
        "  <tbody>\n",
        "    <tr>\n",
        "      <th>0</th>\n",
        "      <td> 1</td>\n",
        "      <td> 0</td>\n",
        "      <td> 3</td>\n",
        "      <td>                           Braund, Mr. Owen Harris</td>\n",
        "      <td> 1</td>\n",
        "      <td> 22</td>\n",
        "      <td> 1</td>\n",
        "      <td> 0</td>\n",
        "      <td>        A/5 21171</td>\n",
        "      <td>  7.2500</td>\n",
        "      <td>...</td>\n",
        "      <td> 0</td>\n",
        "      <td> 0</td>\n",
        "      <td> 0</td>\n",
        "      <td> 0</td>\n",
        "      <td> 0</td>\n",
        "      <td> 1</td>\n",
        "      <td> 0</td>\n",
        "      <td> 0</td>\n",
        "      <td> 0</td>\n",
        "      <td> 1</td>\n",
        "    </tr>\n",
        "    <tr>\n",
        "      <th>1</th>\n",
        "      <td> 2</td>\n",
        "      <td> 1</td>\n",
        "      <td> 1</td>\n",
        "      <td> Cumings, Mrs. John Bradley (Florence Briggs Th...</td>\n",
        "      <td> 0</td>\n",
        "      <td> 38</td>\n",
        "      <td> 1</td>\n",
        "      <td> 0</td>\n",
        "      <td>         PC 17599</td>\n",
        "      <td> 71.2833</td>\n",
        "      <td>...</td>\n",
        "      <td> 0</td>\n",
        "      <td> 0</td>\n",
        "      <td> 0</td>\n",
        "      <td> 0</td>\n",
        "      <td> 0</td>\n",
        "      <td> 0</td>\n",
        "      <td> 1</td>\n",
        "      <td> 0</td>\n",
        "      <td> 0</td>\n",
        "      <td> 1</td>\n",
        "    </tr>\n",
        "    <tr>\n",
        "      <th>2</th>\n",
        "      <td> 3</td>\n",
        "      <td> 1</td>\n",
        "      <td> 3</td>\n",
        "      <td>                            Heikkinen, Miss. Laina</td>\n",
        "      <td> 0</td>\n",
        "      <td> 26</td>\n",
        "      <td> 0</td>\n",
        "      <td> 0</td>\n",
        "      <td> STON/O2. 3101282</td>\n",
        "      <td>  7.9250</td>\n",
        "      <td>...</td>\n",
        "      <td> 0</td>\n",
        "      <td> 0</td>\n",
        "      <td> 0</td>\n",
        "      <td> 0</td>\n",
        "      <td> 1</td>\n",
        "      <td> 0</td>\n",
        "      <td> 0</td>\n",
        "      <td> 0</td>\n",
        "      <td> 0</td>\n",
        "      <td> 0</td>\n",
        "    </tr>\n",
        "    <tr>\n",
        "      <th>4</th>\n",
        "      <td> 5</td>\n",
        "      <td> 0</td>\n",
        "      <td> 3</td>\n",
        "      <td>                          Allen, Mr. William Henry</td>\n",
        "      <td> 1</td>\n",
        "      <td> 35</td>\n",
        "      <td> 0</td>\n",
        "      <td> 0</td>\n",
        "      <td>           373450</td>\n",
        "      <td>  8.0500</td>\n",
        "      <td>...</td>\n",
        "      <td> 0</td>\n",
        "      <td> 0</td>\n",
        "      <td> 0</td>\n",
        "      <td> 0</td>\n",
        "      <td> 0</td>\n",
        "      <td> 1</td>\n",
        "      <td> 0</td>\n",
        "      <td> 0</td>\n",
        "      <td> 0</td>\n",
        "      <td> 1</td>\n",
        "    </tr>\n",
        "    <tr>\n",
        "      <th>5</th>\n",
        "      <td> 6</td>\n",
        "      <td> 0</td>\n",
        "      <td> 3</td>\n",
        "      <td>                                  Moran, Mr. James</td>\n",
        "      <td> 1</td>\n",
        "      <td>NaN</td>\n",
        "      <td> 0</td>\n",
        "      <td> 0</td>\n",
        "      <td>           330877</td>\n",
        "      <td>  8.4583</td>\n",
        "      <td>...</td>\n",
        "      <td> 0</td>\n",
        "      <td> 0</td>\n",
        "      <td> 0</td>\n",
        "      <td> 0</td>\n",
        "      <td> 0</td>\n",
        "      <td> 1</td>\n",
        "      <td> 0</td>\n",
        "      <td> 0</td>\n",
        "      <td> 0</td>\n",
        "      <td> 1</td>\n",
        "    </tr>\n",
        "  </tbody>\n",
        "</table>\n",
        "<p>5 rows \u00d7 32 columns</p>\n",
        "</div>"
       ],
       "metadata": {},
       "output_type": "pyout",
       "prompt_number": 576,
       "text": [
        "   PassengerId  Survived  Pclass  \\\n",
        "0            1         0       3   \n",
        "1            2         1       1   \n",
        "2            3         1       3   \n",
        "4            5         0       3   \n",
        "5            6         0       3   \n",
        "\n",
        "                                                Name  Sex  Age  SibSp  Parch  \\\n",
        "0                            Braund, Mr. Owen Harris    1   22      1      0   \n",
        "1  Cumings, Mrs. John Bradley (Florence Briggs Th...    0   38      1      0   \n",
        "2                             Heikkinen, Miss. Laina    0   26      0      0   \n",
        "4                           Allen, Mr. William Henry    1   35      0      0   \n",
        "5                                   Moran, Mr. James    1  NaN      0      0   \n",
        "\n",
        "             Ticket     Fare   ...     Title_Sir  Title_Dr  Title_Lady  \\\n",
        "0         A/5 21171   7.2500   ...             0         0           0   \n",
        "1          PC 17599  71.2833   ...             0         0           0   \n",
        "2  STON/O2. 3101282   7.9250   ...             0         0           0   \n",
        "4            373450   8.0500   ...             0         0           0   \n",
        "5            330877   8.4583   ...             0         0           0   \n",
        "\n",
        "   Title_Master Title_Miss  Title_Mr  Title_Mrs  Title_Rev  Title_Sir  Married  \n",
        "0             0          0         1          0          0          0        1  \n",
        "1             0          0         0          1          0          0        1  \n",
        "2             0          1         0          0          0          0        0  \n",
        "4             0          0         1          0          0          0        1  \n",
        "5             0          0         1          0          0          0        1  \n",
        "\n",
        "[5 rows x 32 columns]"
       ]
      }
     ],
     "prompt_number": 576
    },
    {
     "cell_type": "markdown",
     "metadata": {},
     "source": [
      "Next, our age info has many people with missing values. There are many ways I could guess the age of someone, but I will use a simple linear regression."
     ]
    },
    {
     "cell_type": "code",
     "collapsed": false,
     "input": [
      "from sklearn import linear_model\n",
      "\n",
      "train_with_age = train[['Sex', 'SibSp', 'Pclass', 'Fare', 'Age', 'Married']].dropna()\n",
      "age_X = train_with_age[['Sex', 'SibSp', 'Pclass', 'Fare', 'Married']].values\n",
      "age_y = train_with_age['Age']\n",
      "\n",
      "age_regression = linear_model.LinearRegression()\n",
      "age_regression.fit(age_X, age_y)"
     ],
     "language": "python",
     "metadata": {},
     "outputs": [
      {
       "metadata": {},
       "output_type": "pyout",
       "prompt_number": 577,
       "text": [
        "LinearRegression(copy_X=True, fit_intercept=True, normalize=False)"
       ]
      }
     ],
     "prompt_number": 577
    },
    {
     "cell_type": "code",
     "collapsed": false,
     "input": [
      "def fill_in_ages(df, age_regression):\n",
      "    df = df.copy()\n",
      "    missing_age = df[df.Age.isnull()]\n",
      "    guess_age = lambda i: age_regression.predict(list(df.loc[i, ['Sex', 'SibSp', 'Pclass', 'Fare', 'Married']]))\n",
      "    df.loc[df.Age.isnull(), 'Age'] = missing_age.index.map(guess_age)\n",
      "    return df"
     ],
     "language": "python",
     "metadata": {},
     "outputs": [],
     "prompt_number": 578
    },
    {
     "cell_type": "code",
     "collapsed": false,
     "input": [
      "train = fill_in_ages(train, age_regression)\n",
      "crossval = fill_in_ages(crossval, age_regression)\n",
      "test = fill_in_ages(test, age_regression)"
     ],
     "language": "python",
     "metadata": {},
     "outputs": [],
     "prompt_number": 579
    },
    {
     "cell_type": "code",
     "collapsed": false,
     "input": [
      "def prep(df):\n",
      "    \"\"\"Choose the columns to use for our model.\"\"\"\n",
      "    df['AgeClass'] = df['Age_bin'] * df['Pclass']\n",
      "    df['FareClass'] = df['Fare_bin'] * df['Pclass']\n",
      "    # Best so far\n",
      "    cols = ['Sex', 'Pclass', 'AgeClass', 'FareClass']\n",
      "    cols = ['Sex', 'Pclass', 'AgeClass', 'FareClass', 'Married', \n",
      "            'Title_Dr', 'Title_Lady', 'Title_Master', 'Title_Miss', \n",
      "            'Title_Mr', 'Title_Mrs', 'Title_Rev', 'Title_Sir']\n",
      "    # Other tries\n",
      "    # cols = ['Sex', 'Pclass', 'AgeClass', 'FareClass', 'FamilySize']\n",
      "    # cols = ['Sex', 'Pclass', 'AgeClass', 'FareClass', 'CabinAssigned']\n",
      "    if 'Survived' in df.columns:\n",
      "        cols.append('Survived')\n",
      "    df = df[cols]\n",
      "    df = df.dropna()\n",
      "    return df"
     ],
     "language": "python",
     "metadata": {},
     "outputs": [],
     "prompt_number": 580
    },
    {
     "cell_type": "code",
     "collapsed": false,
     "input": [
      "from sklearn.naive_bayes import GaussianNB"
     ],
     "language": "python",
     "metadata": {},
     "outputs": [],
     "prompt_number": 599
    },
    {
     "cell_type": "code",
     "collapsed": false,
     "input": [
      "train_data = prep(train).values\n",
      "crossval_data = prep(crossval).values\n",
      "test_data = prep(test.fillna(-1)).values"
     ],
     "language": "python",
     "metadata": {},
     "outputs": [],
     "prompt_number": 600
    },
    {
     "cell_type": "code",
     "collapsed": false,
     "input": [
      "bayes = GaussianNB()\n",
      "bayes.fit(train_data[0::,:-1:], train_data[0::,-1])"
     ],
     "language": "python",
     "metadata": {},
     "outputs": [
      {
       "metadata": {},
       "output_type": "pyout",
       "prompt_number": 601,
       "text": [
        "GaussianNB()"
       ]
      }
     ],
     "prompt_number": 601
    },
    {
     "cell_type": "code",
     "collapsed": false,
     "input": [
      "bayes.score(crossval_data[0::,:-1:], crossval_data[0::,-1])"
     ],
     "language": "python",
     "metadata": {},
     "outputs": [
      {
       "metadata": {},
       "output_type": "pyout",
       "prompt_number": 602,
       "text": [
        "0.81481481481481477"
       ]
      }
     ],
     "prompt_number": 602
    },
    {
     "cell_type": "code",
     "collapsed": false,
     "input": [
      "test[\"Survived\"] = bayes.predict(test_data).astype(np.int)\n",
      "test[[\"Survived\", \"PassengerId\"]].to_csv(\"titanic/bayes.csv\", index=False)"
     ],
     "language": "python",
     "metadata": {},
     "outputs": [],
     "prompt_number": 585
    },
    {
     "cell_type": "code",
     "collapsed": false,
     "input": [
      "# Import the random forest package\n",
      "from sklearn.ensemble import RandomForestClassifier \n",
      "\n",
      "# Create the random forest object which will include all the parameters\n",
      "# for the fit\n",
      "forest = RandomForestClassifier(n_estimators=200)\n",
      "\n",
      "# Fit the training data to the Survived labels and create the decision trees\n",
      "forest = forest.fit(train_data[0::,:-1:],train_data[0::,-1])\n",
      "\n",
      "forest.score(crossval_data[0::,:-1:], crossval_data[0::,-1])"
     ],
     "language": "python",
     "metadata": {},
     "outputs": [
      {
       "metadata": {},
       "output_type": "pyout",
       "prompt_number": 586,
       "text": [
        "0.85185185185185186"
       ]
      }
     ],
     "prompt_number": 586
    },
    {
     "cell_type": "code",
     "collapsed": false,
     "input": [
      "test[\"Survived\"] = forest.predict(test_data).astype(np.int)\n",
      "test[[\"Survived\", \"PassengerId\"]].to_csv(\"titanic/forest.csv\", index=False)"
     ],
     "language": "python",
     "metadata": {},
     "outputs": [],
     "prompt_number": 587
    },
    {
     "cell_type": "code",
     "collapsed": false,
     "input": [
      "from sklearn.tree import DecisionTreeClassifier, export_graphviz\n",
      "tree = DecisionTreeClassifier()\n",
      "tree = tree.fit(train_data[0::,:-1:],train_data[0::,-1])\n",
      "tree.score(crossval_data[0::,:-1:], crossval_data[0::,-1])"
     ],
     "language": "python",
     "metadata": {},
     "outputs": [
      {
       "metadata": {},
       "output_type": "pyout",
       "prompt_number": 588,
       "text": [
        "0.85185185185185186"
       ]
      }
     ],
     "prompt_number": 588
    },
    {
     "cell_type": "code",
     "collapsed": false,
     "input": [
      "test[\"Survived\"] = tree.predict(test_data).astype(np.int)\n",
      "test[[\"Survived\", \"PassengerId\"]].to_csv(\"titanic/tree.csv\", index=False)"
     ],
     "language": "python",
     "metadata": {},
     "outputs": [],
     "prompt_number": 589
    },
    {
     "cell_type": "code",
     "collapsed": false,
     "input": [
      "from sklearn.externals.six import StringIO  \n",
      "with open(\"titanic/tree.dot\", 'w') as f:\n",
      "    f = export_graphviz(tree, out_file=f)"
     ],
     "language": "python",
     "metadata": {},
     "outputs": [],
     "prompt_number": 590
    },
    {
     "cell_type": "code",
     "collapsed": false,
     "input": [
      "!dot -Tpdf titanic/tree.dot -o titanic/tree.pdf"
     ],
     "language": "python",
     "metadata": {},
     "outputs": [],
     "prompt_number": 591
    },
    {
     "cell_type": "markdown",
     "metadata": {},
     "source": [
      "Further resources\n",
      "\n",
      "* [Ultraviolent Analytics on Kaggle competition](http://www.ultravioletanalytics.com/2014/10/30/kaggle-titanic-competition-part-i-intro/)"
     ]
    },
    {
     "cell_type": "code",
     "collapsed": false,
     "input": [],
     "language": "python",
     "metadata": {},
     "outputs": []
    }
   ],
   "metadata": {}
  }
 ]
}