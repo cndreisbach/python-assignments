{
 "metadata": {
  "name": "",
  "signature": "sha256:fe4d4546277f9009de998aa95287457f02459a4de8c579967a91e634c9666994"
 },
 "nbformat": 3,
 "nbformat_minor": 0,
 "worksheets": [
  {
   "cells": [
    {
     "cell_type": "code",
     "collapsed": false,
     "input": [
      "import pandas as pd\n",
      "import numpy as np\n",
      "import matplotlib.pyplot as plt\n",
      "import seaborn as sbs"
     ],
     "language": "python",
     "metadata": {},
     "outputs": [],
     "prompt_number": 1
    },
    {
     "cell_type": "code",
     "collapsed": false,
     "input": [
      "%matplotlib inline"
     ],
     "language": "python",
     "metadata": {},
     "outputs": [],
     "prompt_number": 2
    },
    {
     "cell_type": "markdown",
     "metadata": {},
     "source": [
      "Machine learning is a very large topic, and we're covering it for the one week, so this will be a survey."
     ]
    },
    {
     "cell_type": "markdown",
     "metadata": {},
     "source": [
      "## scikit-learn\n",
      "\n",
      "The Python package we will be using for most everything this week is `scikit-learn`.\n",
      "\n",
      "Download it: `pip install scikit-learn`.\n",
      "\n",
      "Learn about it: http://scikit-learn.org/"
     ]
    },
    {
     "cell_type": "heading",
     "level": 2,
     "metadata": {},
     "source": [
      "What is machine learning?"
     ]
    },
    {
     "cell_type": "markdown",
     "metadata": {},
     "source": [
      "Lots of definitions. A simple one: \"a field of study that gives computers the ability to learn without being explicitly programmed.\" (Arthur Samuel)\n",
      "\n",
      "Different types:\n",
      "\n",
      "* supervised learning: prediction/regression, classification\n",
      "* unsupervised learning: clustering, organizing\n",
      "\n",
      "Machine learning \"involves observing a set of examples that represent incomplete information about some statistical phenomenon, and then attempting to infer something about the process that generated those examples.\" (John Gottag, _Introduction to Programming and Computation with Python_)\n",
      "\n",
      "(A large amount of what comes below comes from _Introduction to Programming and Computation with Python._)\n",
      "\n",
      "Machine learning is at its core about representation and generalization.\n",
      "\n",
      "* __representation__ is extracting structure from data\n",
      "* __generalization__ is making predictions from data"
     ]
    },
    {
     "cell_type": "heading",
     "level": 2,
     "metadata": {},
     "source": [
      "Feature vectors"
     ]
    },
    {
     "cell_type": "code",
     "collapsed": false,
     "input": [
      "dog_breeds = {\"Alaskan Malamute\": {\"height\": 24, \"weight\": 80, \"energy\": 4},\n",
      "              \"Bichon Frise\": {\"height\": 10, \"weight\": 9.5, \"energy\": 4},\n",
      "              \"Irish Wolfhound\": {\"height\": 32, \"weight\": 120, \"energy\": 2},\n",
      "              \"Basset Hound\": {\"height\": 14, \"weight\": 50, \"energy\": 2}}\n",
      "\n",
      "set_a = {\"Alaskan Malamute\", \"Irish Wolfhound\"}\n",
      "set_b = {\"Bichon Frise\", \"Basset Hound\"}"
     ],
     "language": "python",
     "metadata": {},
     "outputs": [],
     "prompt_number": 3
    },
    {
     "cell_type": "markdown",
     "metadata": {},
     "source": [
      "_How were the above separated?_\n",
      "\n",
      "The information being used here is called a _feature vector_. Each element of the vector describes some feature of the example. _What other feature vectors might we have here? Which ones are more useful than others?_\n",
      "\n",
      "In __supervised learning__, we have the labels we want to apply to our data and the feature vectors of our data, like we do above. Classification, a supervised learning technique, could take the data above and then given a new example, place it in the right set based on its height. This is used for many applications: detecting spam or fraud, labeling documents, recommending products.\n",
      "\n",
      "In __unsupervised learning__, we have our feature vectors, but no labels. Unsupervised learning looks for structure in our feature vectors that we do not yet know. Given the dog breeds above, unsupervised learning might break them into tall and short dogs, heavy and light dogs, or high and low energy dogs."
     ]
    },
    {
     "cell_type": "heading",
     "level": 3,
     "metadata": {},
     "source": [
      "Figuring out our feature vectors"
     ]
    },
    {
     "cell_type": "markdown",
     "metadata": {},
     "source": [
      "The problem with much of our data is that there's too much of it. If you used every possible feature to organize your data, you would likely end up with just a giant mess. Using too many features can make a bad statistical model, and can also slow down the learning process.\n",
      "\n",
      "__Feature extraction__ is hard, but is necessary. Even in unsupervised learning, we need human input to decide what feature vectors to use."
     ]
    },
    {
     "cell_type": "code",
     "collapsed": false,
     "input": [
      "animals = [{\"_name\": \"Cobra\", \"egg-laying\": True, \"scales\": True,\n",
      "            \"poisonous\": True, \"cold-blooded\": True, \"num_legs\": 0}, \n",
      "           {\"_name\": \"Rattlesnake\", \"egg-laying\": True, \"scales\": True,\n",
      "            \"poisonous\": True, \"cold-blooded\": True, \"num_legs\": 0},\n",
      "           {\"_name\": \"Boa constrictor\", \"egg-laying\": False, \"scales\": True,\n",
      "            \"poisonous\": False, \"cold-blooded\": True, \"num_legs\": 0},\n",
      "           {\"_name\": \"Alligator\", \"egg-laying\": True, \"scales\": True,\n",
      "            \"poisonous\": False, \"cold-blooded\": True, \"num_legs\": 4},\n",
      "           {\"_name\": \"Dart frog\", \"egg-laying\": True, \"scales\": False,\n",
      "            \"poisonous\": True, \"cold-blooded\": False, \"num_legs\": 4},\n",
      "           {\"_name\": \"Salmon\", \"egg-laying\": True, \"scales\": True,\n",
      "            \"poisonous\": False, \"cold-blooded\": True, \"num_legs\": 0},\n",
      "           {\"_name\": \"Python\", \"egg-laying\": True, \"scales\": True,\n",
      "            \"poisonous\": False, \"cold-blooded\": True, \"num_legs\": 0}]\n",
      "pd.DataFrame(animals)"
     ],
     "language": "python",
     "metadata": {},
     "outputs": [
      {
       "html": [
        "<div style=\"max-height:1000px;max-width:1500px;overflow:auto;\">\n",
        "<table border=\"1\" class=\"dataframe\">\n",
        "  <thead>\n",
        "    <tr style=\"text-align: right;\">\n",
        "      <th></th>\n",
        "      <th>_name</th>\n",
        "      <th>cold-blooded</th>\n",
        "      <th>egg-laying</th>\n",
        "      <th>num_legs</th>\n",
        "      <th>poisonous</th>\n",
        "      <th>scales</th>\n",
        "    </tr>\n",
        "  </thead>\n",
        "  <tbody>\n",
        "    <tr>\n",
        "      <th>0</th>\n",
        "      <td>           Cobra</td>\n",
        "      <td>  True</td>\n",
        "      <td>  True</td>\n",
        "      <td> 0</td>\n",
        "      <td>  True</td>\n",
        "      <td>  True</td>\n",
        "    </tr>\n",
        "    <tr>\n",
        "      <th>1</th>\n",
        "      <td>     Rattlesnake</td>\n",
        "      <td>  True</td>\n",
        "      <td>  True</td>\n",
        "      <td> 0</td>\n",
        "      <td>  True</td>\n",
        "      <td>  True</td>\n",
        "    </tr>\n",
        "    <tr>\n",
        "      <th>2</th>\n",
        "      <td> Boa constrictor</td>\n",
        "      <td>  True</td>\n",
        "      <td> False</td>\n",
        "      <td> 0</td>\n",
        "      <td> False</td>\n",
        "      <td>  True</td>\n",
        "    </tr>\n",
        "    <tr>\n",
        "      <th>3</th>\n",
        "      <td>       Alligator</td>\n",
        "      <td>  True</td>\n",
        "      <td>  True</td>\n",
        "      <td> 4</td>\n",
        "      <td> False</td>\n",
        "      <td>  True</td>\n",
        "    </tr>\n",
        "    <tr>\n",
        "      <th>4</th>\n",
        "      <td>       Dart frog</td>\n",
        "      <td> False</td>\n",
        "      <td>  True</td>\n",
        "      <td> 4</td>\n",
        "      <td>  True</td>\n",
        "      <td> False</td>\n",
        "    </tr>\n",
        "    <tr>\n",
        "      <th>5</th>\n",
        "      <td>          Salmon</td>\n",
        "      <td>  True</td>\n",
        "      <td>  True</td>\n",
        "      <td> 0</td>\n",
        "      <td> False</td>\n",
        "      <td>  True</td>\n",
        "    </tr>\n",
        "    <tr>\n",
        "      <th>6</th>\n",
        "      <td>          Python</td>\n",
        "      <td>  True</td>\n",
        "      <td>  True</td>\n",
        "      <td> 0</td>\n",
        "      <td> False</td>\n",
        "      <td>  True</td>\n",
        "    </tr>\n",
        "  </tbody>\n",
        "</table>\n",
        "</div>"
       ],
       "metadata": {},
       "output_type": "pyout",
       "prompt_number": 4,
       "text": [
        "             _name cold-blooded egg-laying  num_legs poisonous scales\n",
        "0            Cobra         True       True         0      True   True\n",
        "1      Rattlesnake         True       True         0      True   True\n",
        "2  Boa constrictor         True      False         0     False   True\n",
        "3        Alligator         True       True         4     False   True\n",
        "4        Dart frog        False       True         4      True  False\n",
        "5           Salmon         True       True         0     False   True\n",
        "6           Python         True       True         0     False   True"
       ]
      }
     ],
     "prompt_number": 4
    },
    {
     "cell_type": "markdown",
     "metadata": {},
     "source": [
      "_What features help determine if an animal is a reptile or not, based off this data?_"
     ]
    },
    {
     "cell_type": "heading",
     "level": 2,
     "metadata": {},
     "source": [
      "Measuring distance"
     ]
    },
    {
     "cell_type": "markdown",
     "metadata": {},
     "source": [
      "Let's say we want to use the above data to give us the similarity of two animals. We might ask, for example, if an alligator is more like a cobra or a dart frog.\n",
      "\n",
      "In order to do this, we can measure the similarity of the feature vectors, but the vectors must be made up of numbers first. Four of ours are booleans, so let's convert them."
     ]
    },
    {
     "cell_type": "code",
     "collapsed": false,
     "input": [
      "df = pd.DataFrame(animals)\n",
      "for col in df.columns:\n",
      "    if col is not \"_name\":\n",
      "        df[col] = df[col].astype(np.int)\n",
      "df"
     ],
     "language": "python",
     "metadata": {},
     "outputs": [
      {
       "html": [
        "<div style=\"max-height:1000px;max-width:1500px;overflow:auto;\">\n",
        "<table border=\"1\" class=\"dataframe\">\n",
        "  <thead>\n",
        "    <tr style=\"text-align: right;\">\n",
        "      <th></th>\n",
        "      <th>_name</th>\n",
        "      <th>cold-blooded</th>\n",
        "      <th>egg-laying</th>\n",
        "      <th>num_legs</th>\n",
        "      <th>poisonous</th>\n",
        "      <th>scales</th>\n",
        "    </tr>\n",
        "  </thead>\n",
        "  <tbody>\n",
        "    <tr>\n",
        "      <th>0</th>\n",
        "      <td>           Cobra</td>\n",
        "      <td> 1</td>\n",
        "      <td> 1</td>\n",
        "      <td> 0</td>\n",
        "      <td> 1</td>\n",
        "      <td> 1</td>\n",
        "    </tr>\n",
        "    <tr>\n",
        "      <th>1</th>\n",
        "      <td>     Rattlesnake</td>\n",
        "      <td> 1</td>\n",
        "      <td> 1</td>\n",
        "      <td> 0</td>\n",
        "      <td> 1</td>\n",
        "      <td> 1</td>\n",
        "    </tr>\n",
        "    <tr>\n",
        "      <th>2</th>\n",
        "      <td> Boa constrictor</td>\n",
        "      <td> 1</td>\n",
        "      <td> 0</td>\n",
        "      <td> 0</td>\n",
        "      <td> 0</td>\n",
        "      <td> 1</td>\n",
        "    </tr>\n",
        "    <tr>\n",
        "      <th>3</th>\n",
        "      <td>       Alligator</td>\n",
        "      <td> 1</td>\n",
        "      <td> 1</td>\n",
        "      <td> 4</td>\n",
        "      <td> 0</td>\n",
        "      <td> 1</td>\n",
        "    </tr>\n",
        "    <tr>\n",
        "      <th>4</th>\n",
        "      <td>       Dart frog</td>\n",
        "      <td> 0</td>\n",
        "      <td> 1</td>\n",
        "      <td> 4</td>\n",
        "      <td> 1</td>\n",
        "      <td> 0</td>\n",
        "    </tr>\n",
        "    <tr>\n",
        "      <th>5</th>\n",
        "      <td>          Salmon</td>\n",
        "      <td> 1</td>\n",
        "      <td> 1</td>\n",
        "      <td> 0</td>\n",
        "      <td> 0</td>\n",
        "      <td> 1</td>\n",
        "    </tr>\n",
        "    <tr>\n",
        "      <th>6</th>\n",
        "      <td>          Python</td>\n",
        "      <td> 1</td>\n",
        "      <td> 1</td>\n",
        "      <td> 0</td>\n",
        "      <td> 0</td>\n",
        "      <td> 1</td>\n",
        "    </tr>\n",
        "  </tbody>\n",
        "</table>\n",
        "</div>"
       ],
       "metadata": {},
       "output_type": "pyout",
       "prompt_number": 5,
       "text": [
        "             _name  cold-blooded  egg-laying  num_legs  poisonous  scales\n",
        "0            Cobra             1           1         0          1       1\n",
        "1      Rattlesnake             1           1         0          1       1\n",
        "2  Boa constrictor             1           0         0          0       1\n",
        "3        Alligator             1           1         4          0       1\n",
        "4        Dart frog             0           1         4          1       0\n",
        "5           Salmon             1           1         0          0       1\n",
        "6           Python             1           1         0          0       1"
       ]
      }
     ],
     "prompt_number": 5
    },
    {
     "cell_type": "code",
     "collapsed": false,
     "input": [
      "df.index = df.pop(\"_name\")\n",
      "animal_dict = df.T.to_dict()\n",
      "animal_features = {}\n",
      "for key, value in animal_dict.items():\n",
      "    animal_features[key] = np.array(list(value.values()))\n",
      "animal_features"
     ],
     "language": "python",
     "metadata": {},
     "outputs": [
      {
       "metadata": {},
       "output_type": "pyout",
       "prompt_number": 6,
       "text": [
        "{'Boa constrictor': array([1, 0, 1, 0, 0]),\n",
        " 'Rattlesnake': array([1, 1, 1, 0, 1]),\n",
        " 'Dart frog': array([0, 1, 0, 4, 1]),\n",
        " 'Salmon': array([1, 0, 1, 0, 1]),\n",
        " 'Python': array([1, 0, 1, 0, 1]),\n",
        " 'Cobra': array([1, 1, 1, 0, 1]),\n",
        " 'Alligator': array([1, 0, 1, 4, 1])}"
       ]
      }
     ],
     "prompt_number": 6
    },
    {
     "cell_type": "markdown",
     "metadata": {},
     "source": [
      "Now, we are going to use a formula called the __Euclidean distance.__ This is used to compare the distance between equal-length vectors of numbers.\n",
      "\n",
      "$$distance(V1, V2) = \\sqrt{\\sum\\limits_{i=1}^{len}(V1_i-V2_i)^{2}}$$\n",
      "\n",
      "Here's that in English:\n",
      "\n",
      "The distance between vector 1 and vector 2 is the square root of the sum of the difference between each of their features squared.\n",
      "\n",
      "This sounds really hard, but is much like something we've done before: the Pythagorean theorem. If you have two vectors with two elements each, you could see those as x/y coordinates.\n",
      "\n",
      "* V1 = [0, 0]\n",
      "* V2 = [3, 4]\n",
      "\n",
      "Take the difference of each coordinate squared: $(3 - 0)^2 = 9; (4 - 0)^2 = 16$. \n",
      "\n",
      "Sum them: $9 + 16 = 25$.\n",
      "\n",
      "Now find the square root: $\\sqrt{25} = 5$.\n",
      "\n",
      "The Euclidean distance between these vectors is 5, the same as the hypotenuse of a right triangle using them as coordinates would be. The difference is that the Euclidean distance can be used with vectors of any length."
     ]
    },
    {
     "cell_type": "code",
     "collapsed": false,
     "input": [
      "def euclidean_distance(v1, v2):\n",
      "    \"\"\"Finds the difference between two equally-sized 1D NumPy arrays.\"\"\"\n",
      "    squares = (v1 - v2) ** 2\n",
      "    return squares.sum() ** 0.5\n",
      "\n",
      "euclidean_distance(np.array([0, 0]), np.array([3, 4]))"
     ],
     "language": "python",
     "metadata": {},
     "outputs": [
      {
       "metadata": {},
       "output_type": "pyout",
       "prompt_number": 7,
       "text": [
        "5.0"
       ]
      }
     ],
     "prompt_number": 7
    },
    {
     "cell_type": "code",
     "collapsed": false,
     "input": [
      "def compare_animals(animals, keys=None):\n",
      "    \"\"\"Given a dictionary of animals -- keys are names, values are NumPy arrays --\n",
      "    build a table of Euclidean distance between each animal.\"\"\"\n",
      "    if keys is None:\n",
      "        keys = list(animals.keys())\n",
      "    col_labels = keys\n",
      "    row_labels = col_labels[:]\n",
      "    table = []\n",
      "    for rowl in row_labels:\n",
      "        row = []\n",
      "        for coll in col_labels:\n",
      "            if rowl == coll:\n",
      "                row.append(\"--\")\n",
      "            else:\n",
      "                distance = euclidean_distance(animals[rowl], animals[coll])\n",
      "                row.append(str(round(distance, 2)))\n",
      "        table.append(row)\n",
      "\n",
      "    df = pd.DataFrame(table, columns=col_labels, index=row_labels)\n",
      "    return df\n",
      "    "
     ],
     "language": "python",
     "metadata": {},
     "outputs": [],
     "prompt_number": 8
    },
    {
     "cell_type": "code",
     "collapsed": false,
     "input": [
      "compare_animals(animal_features, \n",
      "                ['Rattlesnake', 'Boa constrictor', 'Dart frog', 'Alligator'])"
     ],
     "language": "python",
     "metadata": {},
     "outputs": [
      {
       "html": [
        "<div style=\"max-height:1000px;max-width:1500px;overflow:auto;\">\n",
        "<table border=\"1\" class=\"dataframe\">\n",
        "  <thead>\n",
        "    <tr style=\"text-align: right;\">\n",
        "      <th></th>\n",
        "      <th>Rattlesnake</th>\n",
        "      <th>Boa constrictor</th>\n",
        "      <th>Dart frog</th>\n",
        "      <th>Alligator</th>\n",
        "    </tr>\n",
        "  </thead>\n",
        "  <tbody>\n",
        "    <tr>\n",
        "      <th>Rattlesnake</th>\n",
        "      <td>   --</td>\n",
        "      <td> 1.41</td>\n",
        "      <td> 4.24</td>\n",
        "      <td> 4.12</td>\n",
        "    </tr>\n",
        "    <tr>\n",
        "      <th>Boa constrictor</th>\n",
        "      <td> 1.41</td>\n",
        "      <td>   --</td>\n",
        "      <td> 4.47</td>\n",
        "      <td> 4.12</td>\n",
        "    </tr>\n",
        "    <tr>\n",
        "      <th>Dart frog</th>\n",
        "      <td> 4.24</td>\n",
        "      <td> 4.47</td>\n",
        "      <td>   --</td>\n",
        "      <td> 1.73</td>\n",
        "    </tr>\n",
        "    <tr>\n",
        "      <th>Alligator</th>\n",
        "      <td> 4.12</td>\n",
        "      <td> 4.12</td>\n",
        "      <td> 1.73</td>\n",
        "      <td>   --</td>\n",
        "    </tr>\n",
        "  </tbody>\n",
        "</table>\n",
        "</div>"
       ],
       "metadata": {},
       "output_type": "pyout",
       "prompt_number": 9,
       "text": [
        "                Rattlesnake Boa constrictor Dart frog Alligator\n",
        "Rattlesnake              --            1.41      4.24      4.12\n",
        "Boa constrictor        1.41              --      4.47      4.12\n",
        "Dart frog              4.24            4.47        --      1.73\n",
        "Alligator              4.12            4.12      1.73        --"
       ]
      }
     ],
     "prompt_number": 9
    },
    {
     "cell_type": "markdown",
     "metadata": {},
     "source": [
      "Well, that looks wrong. _What might the problem be_?"
     ]
    },
    {
     "cell_type": "code",
     "collapsed": false,
     "input": [
      "df = pd.DataFrame(animals)\n",
      "for col in df.columns:\n",
      "    if col is \"_name\":\n",
      "        pass\n",
      "    elif col is \"num_legs\":\n",
      "        df[col] = df[col].map(lambda x: 0 if x == 0 else 1)\n",
      "    else:\n",
      "        df[col] = df[col].astype(np.int)\n",
      "\n",
      "df.index = df.pop(\"_name\")\n",
      "animal_dict = df.T.to_dict()\n",
      "animal_features = {}\n",
      "for key, value in animal_dict.items():\n",
      "    animal_features[key] = np.array(list(value.values()))\n",
      "animal_features"
     ],
     "language": "python",
     "metadata": {},
     "outputs": [
      {
       "metadata": {},
       "output_type": "pyout",
       "prompt_number": 10,
       "text": [
        "{'Boa constrictor': array([1, 0, 1, 0, 0]),\n",
        " 'Rattlesnake': array([1, 1, 1, 0, 1]),\n",
        " 'Dart frog': array([0, 1, 0, 1, 1]),\n",
        " 'Salmon': array([1, 0, 1, 0, 1]),\n",
        " 'Python': array([1, 0, 1, 0, 1]),\n",
        " 'Cobra': array([1, 1, 1, 0, 1]),\n",
        " 'Alligator': array([1, 0, 1, 1, 1])}"
       ]
      }
     ],
     "prompt_number": 10
    },
    {
     "cell_type": "code",
     "collapsed": false,
     "input": [
      "compare_animals(animal_features, \n",
      "                ['Rattlesnake', 'Boa constrictor', 'Dart frog', 'Alligator'])"
     ],
     "language": "python",
     "metadata": {},
     "outputs": [
      {
       "html": [
        "<div style=\"max-height:1000px;max-width:1500px;overflow:auto;\">\n",
        "<table border=\"1\" class=\"dataframe\">\n",
        "  <thead>\n",
        "    <tr style=\"text-align: right;\">\n",
        "      <th></th>\n",
        "      <th>Rattlesnake</th>\n",
        "      <th>Boa constrictor</th>\n",
        "      <th>Dart frog</th>\n",
        "      <th>Alligator</th>\n",
        "    </tr>\n",
        "  </thead>\n",
        "  <tbody>\n",
        "    <tr>\n",
        "      <th>Rattlesnake</th>\n",
        "      <td>   --</td>\n",
        "      <td> 1.41</td>\n",
        "      <td> 1.73</td>\n",
        "      <td> 1.41</td>\n",
        "    </tr>\n",
        "    <tr>\n",
        "      <th>Boa constrictor</th>\n",
        "      <td> 1.41</td>\n",
        "      <td>   --</td>\n",
        "      <td> 2.24</td>\n",
        "      <td> 1.41</td>\n",
        "    </tr>\n",
        "    <tr>\n",
        "      <th>Dart frog</th>\n",
        "      <td> 1.73</td>\n",
        "      <td> 2.24</td>\n",
        "      <td>   --</td>\n",
        "      <td> 1.73</td>\n",
        "    </tr>\n",
        "    <tr>\n",
        "      <th>Alligator</th>\n",
        "      <td> 1.41</td>\n",
        "      <td> 1.41</td>\n",
        "      <td> 1.73</td>\n",
        "      <td>   --</td>\n",
        "    </tr>\n",
        "  </tbody>\n",
        "</table>\n",
        "</div>"
       ],
       "metadata": {},
       "output_type": "pyout",
       "prompt_number": 11,
       "text": [
        "                Rattlesnake Boa constrictor Dart frog Alligator\n",
        "Rattlesnake              --            1.41      1.73      1.41\n",
        "Boa constrictor        1.41              --      2.24      1.41\n",
        "Dart frog              1.73            2.24        --      1.73\n",
        "Alligator              1.41            1.41      1.73        --"
       ]
      }
     ],
     "prompt_number": 11
    },
    {
     "cell_type": "markdown",
     "metadata": {},
     "source": [
      "# References and Further Reading\n",
      "\n",
      "* [A Few Useful Things to Know about Machine Learning](http://www.astro.caltech.edu/~george/ay122/cacm12.pdf)"
     ]
    },
    {
     "cell_type": "code",
     "collapsed": false,
     "input": [],
     "language": "python",
     "metadata": {},
     "outputs": []
    }
   ],
   "metadata": {}
  }
 ]
}