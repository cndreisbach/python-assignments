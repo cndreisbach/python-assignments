{
 "metadata": {
  "name": "",
  "signature": "sha256:0329dc62b5c313f9892182d85ada3a711e333dc7495aa55e001f2916c6b5527d"
 },
 "nbformat": 3,
 "nbformat_minor": 0,
 "worksheets": [
  {
   "cells": [
    {
     "cell_type": "markdown",
     "metadata": {},
     "source": [
      "Flask is a Python package that makes building web applications quick and easy."
     ]
    },
    {
     "cell_type": "code",
     "collapsed": false,
     "input": [
      "%%file hello.py\n",
      "from flask import Flask\n",
      "app = Flask(__name__)\n",
      "\n",
      "@app.route(\"/\")\n",
      "def hello():\n",
      "    return \"Hello World!\"\n",
      "\n",
      "if __name__ == \"__main__\":\n",
      "    app.run(debug=True)"
     ],
     "language": "python",
     "metadata": {},
     "outputs": [
      {
       "output_type": "stream",
       "stream": "stdout",
       "text": [
        "Overwriting hello.py\n"
       ]
      }
     ],
     "prompt_number": 2
    },
    {
     "cell_type": "markdown",
     "metadata": {},
     "source": [
      "## What is `@app.route(\"/\")`?\n",
      "\n",
      "This is what is called a _decorator_. We talked about them back in basics. In short, it's a function that takes a function and returns a new function that wraps the old function. In this case, the simple function `hello` will now be called when someone goes to the path \"/\"."
     ]
    },
    {
     "cell_type": "markdown",
     "metadata": {},
     "source": [
      "## Quickstart\n",
      "\n",
      "Walk though [the quickstart](http://flask.pocoo.org/docs/0.10/quickstart/#quickstart)"
     ]
    },
    {
     "cell_type": "code",
     "collapsed": false,
     "input": [],
     "language": "python",
     "metadata": {},
     "outputs": []
    }
   ],
   "metadata": {}
  }
 ]
}