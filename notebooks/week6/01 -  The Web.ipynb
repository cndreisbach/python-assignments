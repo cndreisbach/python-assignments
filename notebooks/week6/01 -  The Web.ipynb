{
 "metadata": {
  "name": "",
  "signature": "sha256:fe7ba1a2d20a53255e099783f5ffa83b2b974de0b4886751bdf79157fd43d951"
 },
 "nbformat": 3,
 "nbformat_minor": 0,
 "worksheets": [
  {
   "cells": [
    {
     "cell_type": "markdown",
     "metadata": {},
     "source": [
      "Components:\n",
      "\n",
      "* HTML\n",
      "* CSS\n",
      "* JS\n",
      "\n",
      "Often with:\n",
      "\n",
      "* backend language\n",
      "* database\n",
      "* other services"
     ]
    },
    {
     "cell_type": "markdown",
     "metadata": {},
     "source": [
      "```html\n",
      "<!DOCTYPE html>\n",
      "<html lang=\"en\">\n",
      "    <head>\n",
      "        <title>MY COOL PAGE TITLE</title>\n",
      "    </head>\n",
      "    <body>\n",
      "        <h1>WHOOO</h1>\n",
      "        <p>\n",
      "            Some tags are used <em>inline</em>.\n",
      "        </p>\n",
      "    </body>\n",
      "</html>\n",
      "```"
     ]
    },
    {
     "cell_type": "markdown",
     "metadata": {},
     "source": [
      "[Introduction to HTML](https://developer.mozilla.org/en-US/docs/Web/Guide/HTML/Introduction)"
     ]
    },
    {
     "cell_type": "markdown",
     "metadata": {},
     "source": [
      "* Stateless\n",
      "* GET, POST, etc"
     ]
    },
    {
     "cell_type": "markdown",
     "metadata": {},
     "source": [
      "# Resources\n",
      "\n",
      "* [Mozilla Developer Network](https://developer.mozilla.org/en-US/docs/Web)"
     ]
    },
    {
     "cell_type": "code",
     "collapsed": false,
     "input": [],
     "language": "python",
     "metadata": {},
     "outputs": []
    }
   ],
   "metadata": {}
  }
 ]
}