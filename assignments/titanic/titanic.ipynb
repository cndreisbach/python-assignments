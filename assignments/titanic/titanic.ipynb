{
 "metadata": {
  "name": "",
  "signature": "sha256:d4564e41dd7ce263e7793aaf047bc32b2f91c0bd0bd4c5a35715d84acd78d070"
 },
 "nbformat": 3,
 "nbformat_minor": 0,
 "worksheets": [
  {
   "cells": [
    {
     "cell_type": "code",
     "collapsed": false,
     "input": [
      "import numpy as np\n",
      "from sklearn.ensemble import RandomForestClassifier \n",
      "import seaborn as sns\n",
      "import matplotlib.pyplot as plt\n",
      "import pandas as pd\n",
      "import csv\n",
      "\n",
      "%matplotlib inline\n",
      "\n",
      "train_file = pd.read_csv('train.csv')\n",
      "test_file = pd.read_csv('test.csv')"
     ],
     "language": "python",
     "metadata": {},
     "outputs": [],
     "prompt_number": 25
    },
    {
     "cell_type": "code",
     "collapsed": false,
     "input": [
      "male = train_file['Sex'] == 'male'\n",
      "female = train_file['Sex'] == 'female'\n",
      "\n",
      "for num in range(1,4):\n",
      "    count = len(train_file[male & (train_file['Pclass'] == num)])\n",
      "    print(num, count)"
     ],
     "language": "python",
     "metadata": {},
     "outputs": [
      {
       "output_type": "stream",
       "stream": "stdout",
       "text": [
        "1 122\n",
        "2 108\n",
        "3 347\n"
       ]
      }
     ],
     "prompt_number": 26
    },
    {
     "cell_type": "code",
     "collapsed": false,
     "input": [
      "train_file.Age.dropna().hist()"
     ],
     "language": "python",
     "metadata": {},
     "outputs": [
      {
       "metadata": {},
       "output_type": "pyout",
       "prompt_number": 27,
       "text": [
        "<matplotlib.axes._subplots.AxesSubplot at 0x108591898>"
       ]
      },
      {
       "metadata": {},
       "output_type": "display_data",
       "png": "[encoded data removed]",
       "text": [
        "<matplotlib.figure.Figure at 0x1083b9908>"
       ]
      }
     ],
     "prompt_number": 27
    },
    {
     "cell_type": "code",
     "collapsed": false,
     "input": [
      "def gender_mapping(a_file):\n",
      "    a_file['Gender'] = a_file['Sex'].map( {'female': 0, 'male': 1} ).astype(int)\n",
      "    return a_file\n",
      "\n",
      "def embark_mapping(a_file):\n",
      "    a_file['Embarked'].fillna(0, inplace=True)\n",
      "    a_file['Embark_binary'] = a_file['Embarked'].map({'S':1, 'C':2, 'Q':3, 0:0}).astype(int)\n",
      "    return a_file\n",
      "\n",
      "def age_mapping(a_file):\n",
      "    a_file['Age Is Null'] = a_file.Age.isnull().astype(int)\n",
      "\n",
      "    for _ in range(0,4):\n",
      "        med_age = a_file[(a_file['Embark_binary'] == _)]['Age'].median()\n",
      "        embark_two = a_file[a_file['Embark_binary'] == _]\n",
      "        embark_two['Age'].fillna(med_age, inplace=True)\n",
      "        a_file[(a_file['Embark_binary'] == _)] = embark_two\n",
      "    return a_file\n",
      "\n",
      "def family_size(a_file):\n",
      "    a_file['FamilySize'] = a_file['SibSp'] + a_file['Parch']\n",
      "    return a_file\n",
      "\n",
      "def string_objects(a_file):\n",
      "    a_file_clean = a_file.drop(['Fare', 'Name', 'Sex', 'Ticket', 'Cabin', 'Embarked', 'PassengerId'], axis=1)\n",
      "    return a_file_clean\n",
      "\n",
      "def clean_file_array(a_file):\n",
      "    a_file1 = gender_mapping(a_file)\n",
      "    a_file2 = embark_mapping(a_file1)\n",
      "    a_file3 = age_mapping(a_file2)\n",
      "    a_file4 = family_size(a_file3)\n",
      "    a_file5 = string_objects(a_file4)\n",
      "    return a_file5"
     ],
     "language": "python",
     "metadata": {},
     "outputs": [],
     "prompt_number": 28
    },
    {
     "cell_type": "code",
     "collapsed": false,
     "input": [
      "clean_train_file = clean_file_array(train_file)\n",
      "clean_train_file_array = clean_train_file.values\n",
      "\n",
      "clean_test_file = clean_file_array(test_file)\n",
      "clean_test_file_array = clean_file_array(test_file).values"
     ],
     "language": "python",
     "metadata": {},
     "outputs": [
      {
       "output_type": "stream",
       "stream": "stderr",
       "text": [
        "/Users/zackjcooper/.pyenv/versions/sandbox/lib/python3.4/site-packages/pandas/core/generic.py:2390: SettingWithCopyWarning: \n",
        "A value is trying to be set on a copy of a slice from a DataFrame\n",
        "\n",
        "See the the caveats in the documentation: http://pandas.pydata.org/pandas-docs/stable/indexing.html#indexing-view-versus-copy\n",
        "  self._update_inplace(new_data)\n"
       ]
      }
     ],
     "prompt_number": 29
    },
    {
     "cell_type": "code",
     "collapsed": false,
     "input": [],
     "language": "python",
     "metadata": {},
     "outputs": [],
     "prompt_number": 29
    },
    {
     "cell_type": "code",
     "collapsed": false,
     "input": [],
     "language": "python",
     "metadata": {},
     "outputs": [],
     "prompt_number": 29
    },
    {
     "cell_type": "code",
     "collapsed": false,
     "input": [],
     "language": "python",
     "metadata": {},
     "outputs": [],
     "prompt_number": 29
    },
    {
     "cell_type": "code",
     "collapsed": false,
     "input": [],
     "language": "python",
     "metadata": {},
     "outputs": [],
     "prompt_number": 29
    },
    {
     "cell_type": "code",
     "collapsed": false,
     "input": [],
     "language": "python",
     "metadata": {},
     "outputs": [],
     "prompt_number": 29
    },
    {
     "cell_type": "code",
     "collapsed": false,
     "input": [
      "# Create the random forest object which will include all the parameters for the fit\n",
      "forest = RandomForestClassifier(n_estimators = 100)\n",
      "\n",
      "# Fit the training data to the Survived labels and create the decision trees\n",
      "forest = forest.fit(clean_train_file_array[0::,1::],clean_train_file_array[0::,0])\n",
      "\n",
      "# Take the same decision trees and run it on the test data\n",
      "output = forest.predict(clean_test_file_array)\n",
      "output"
     ],
     "language": "python",
     "metadata": {},
     "outputs": [
      {
       "metadata": {},
       "output_type": "pyout",
       "prompt_number": 32,
       "text": [
        "array([0, 0, 0, 1, 0, 0, 0, 0, 0, 0, 0, 0, 1, 0, 1, 1, 0, 0, 0, 0, 0, 1, 1,\n",
        "       1, 1, 0, 1, 0, 0, 0, 0, 0, 1, 0, 0, 0, 1, 1, 0, 0, 0, 1, 0, 1, 1, 0,\n",
        "       0, 0, 1, 0, 1, 0, 1, 1, 0, 0, 0, 0, 0, 1, 0, 0, 0, 1, 1, 1, 0, 0, 0,\n",
        "       1, 1, 0, 0, 1, 1, 1, 0, 1, 0, 1, 1, 0, 1, 0, 0, 0, 1, 1, 1, 1, 0, 0,\n",
        "       0, 0, 0, 0, 1, 0, 0, 0, 1, 0, 0, 0, 0, 0, 0, 0, 0, 0, 0, 1, 1, 0, 1,\n",
        "       0, 0, 1, 0, 1, 1, 0, 1, 0, 0, 1, 0, 1, 0, 0, 1, 0, 0, 0, 0, 0, 1, 0,\n",
        "       1, 0, 0, 1, 0, 0, 1, 0, 1, 0, 1, 0, 1, 0, 0, 0, 0, 0, 1, 1, 1, 1, 1,\n",
        "       1, 1, 0, 0, 0, 0, 0, 1, 1, 0, 1, 0, 0, 0, 1, 1, 0, 1, 1, 0, 0, 1, 0,\n",
        "       1, 0, 1, 0, 0, 0, 0, 1, 1, 0, 1, 0, 1, 1, 0, 1, 1, 1, 1, 1, 0, 1, 0,\n",
        "       0, 1, 0, 1, 0, 0, 0, 1, 1, 1, 0, 1, 0, 1, 0, 1, 0, 0, 1, 0, 1, 0, 0,\n",
        "       0, 1, 0, 0, 1, 0, 0, 0, 1, 1, 1, 1, 0, 0, 0, 0, 1, 0, 1, 1, 1, 0, 0,\n",
        "       0, 1, 0, 0, 0, 1, 0, 0, 0, 1, 1, 0, 0, 1, 0, 1, 0, 0, 0, 1, 1, 0, 1,\n",
        "       0, 0, 0, 0, 1, 1, 1, 0, 1, 0, 0, 1, 0, 0, 1, 0, 0, 0, 0, 0, 1, 0, 0,\n",
        "       0, 1, 0, 0, 0, 1, 1, 1, 1, 0, 0, 0, 0, 0, 0, 1, 1, 0, 0, 1, 0, 0, 0,\n",
        "       0, 0, 1, 0, 1, 0, 0, 0, 1, 1, 0, 0, 1, 0, 0, 0, 0, 0, 0, 1, 0, 1, 0,\n",
        "       0, 0, 0, 0, 1, 1, 0, 0, 0, 1, 1, 1, 0, 0, 0, 0, 1, 1, 1, 1, 0, 0, 1,\n",
        "       1, 0, 0, 1, 1, 0, 1, 1, 0, 0, 0, 0, 0, 0, 1, 1, 0, 1, 0, 0, 0, 0, 1,\n",
        "       1, 0, 0, 0, 1, 0, 1, 0, 0, 1, 0, 1, 1, 1, 0, 0, 0, 1, 1, 1, 1, 0, 0,\n",
        "       1, 0, 0, 0])"
       ]
      }
     ],
     "prompt_number": 32
    },
    {
     "cell_type": "code",
     "collapsed": false,
     "input": [
      "test_file['Survived'] = output.astype(int)\n",
      "test_file[['Survived', 'PassengerId']].to_csv('test_titanic_answer.csv', index=False)"
     ],
     "language": "python",
     "metadata": {},
     "outputs": [],
     "prompt_number": 34
    },
    {
     "cell_type": "code",
     "collapsed": false,
     "input": [],
     "language": "python",
     "metadata": {},
     "outputs": []
    }
   ],
   "metadata": {}
  }
 ]
}